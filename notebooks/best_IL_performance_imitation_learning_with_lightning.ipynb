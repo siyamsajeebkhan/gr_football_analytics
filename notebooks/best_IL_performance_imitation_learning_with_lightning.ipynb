{
 "cells": [
  {
   "cell_type": "markdown",
   "id": "c7c43b6c",
   "metadata": {},
   "source": [
    "### PyTorch Lightning"
   ]
  },
  {
   "cell_type": "code",
   "execution_count": null,
   "id": "ef4a15e0",
   "metadata": {},
   "outputs": [],
   "source": [
    "import sys\n",
    "sys.path.append(\"..\")\n",
    "\n",
    "import pytorch_lightning as pl\n",
    "import torch\n",
    "# from models.TwoLayerMLP import MLPModel\n",
    "from models.MlpClassifierModel import MlpClassifierModel"
   ]
  },
  {
   "cell_type": "code",
   "execution_count": null,
   "id": "6224afe3",
   "metadata": {},
   "outputs": [],
   "source": [
    "print(f\"Lightning version: {pl.__version__}\")"
   ]
  },
  {
   "cell_type": "code",
   "execution_count": null,
   "id": "ed0887f1",
   "metadata": {},
   "outputs": [],
   "source": [
    "device = torch.device(\"cuda\" if torch.cuda.is_available() else \"cpu\")\n",
    "print(device)"
   ]
  },
  {
   "cell_type": "code",
   "execution_count": null,
   "id": "72583f1b",
   "metadata": {},
   "outputs": [],
   "source": [
    "hparams = {}\n",
    "hparams['hidden_size'] = 1024\n",
    "hparams['lr'] = 2e-3\n",
    "hparams['lr_decay_rate'] = 0.25\n",
    "hparams['batch_size'] = 256\n",
    "# hparams['activation'] = 'GELU'\n",
    "hparams['activation'] = 'ReLU'\n",
    "# model = MLPModel(hparams).to('cuda')\n",
    "model = MlpClassifierModel(hparams).to('cuda')\n",
    "# model = model.to(device)\n",
    "model"
   ]
  },
  {
   "cell_type": "code",
   "execution_count": null,
   "id": "91d9b49b",
   "metadata": {},
   "outputs": [],
   "source": [
    "# model.prepare_data()"
   ]
  },
  {
   "cell_type": "code",
   "execution_count": null,
   "id": "0749d5a1",
   "metadata": {},
   "outputs": [],
   "source": [
    "from pytorch_lightning.callbacks.early_stopping import EarlyStopping\n",
    "# early_stop_callback = EarlyStopping(monitor=\"val_loss\", min_delta=0.00, patience=10, verbose=False, mode=\"min\")"
   ]
  },
  {
   "cell_type": "code",
   "execution_count": null,
   "id": "4987627b",
   "metadata": {
    "scrolled": true
   },
   "outputs": [],
   "source": [
    "# https://pytorch-lightning.readthedocs.io/en/stable/common/trainer.html\n",
    "trainer = None\n",
    "\n",
    "# from pytorch_lightning.callbacks import EarlyStopping\n",
    "\n",
    "# early_stopping = EarlyStopping(\n",
    "#     monitor='val_loss',\n",
    "#     patience=10,\n",
    "# )\n",
    "\n",
    "from pytorch_lightning.callbacks.early_stopping import EarlyStopping\n",
    "early_stop_callback = EarlyStopping(\n",
    "    monitor=\"val_loss\", \n",
    "    min_delta=0.00, \n",
    "    patience=10, \n",
    "    verbose=False, \n",
    "    mode=\"min\")\n",
    "\n",
    "trainer = pl.Trainer(\n",
    "    profiler=\"simple\",\n",
    "    max_epochs=300,\n",
    "    gpus=1,\n",
    "    callbacks=[early_stop_callback],\n",
    "    check_val_every_n_epoch=1,\n",
    ")\n",
    "\n",
    "trainer.fit(model)"
   ]
  },
  {
   "cell_type": "code",
   "execution_count": null,
   "id": "580aa60e",
   "metadata": {},
   "outputs": [],
   "source": [
    "model.eval()"
   ]
  },
  {
   "cell_type": "code",
   "execution_count": null,
   "id": "fb4d1020",
   "metadata": {},
   "outputs": [],
   "source": [
    "preds_new, acc, labels = model.getTestAcc()"
   ]
  },
  {
   "cell_type": "code",
   "execution_count": null,
   "id": "7e61ba29",
   "metadata": {
    "scrolled": true
   },
   "outputs": [],
   "source": [
    "acc"
   ]
  },
  {
   "cell_type": "code",
   "execution_count": null,
   "id": "5bad57eb",
   "metadata": {},
   "outputs": [],
   "source": [
    "preds_new"
   ]
  },
  {
   "cell_type": "code",
   "execution_count": null,
   "id": "022a5af0",
   "metadata": {
    "scrolled": true
   },
   "outputs": [],
   "source": [
    "model.state_dict()"
   ]
  },
  {
   "cell_type": "code",
   "execution_count": null,
   "id": "a35a29c8",
   "metadata": {},
   "outputs": [],
   "source": [
    "# preds_old = preds_new"
   ]
  },
  {
   "cell_type": "code",
   "execution_count": null,
   "id": "3ede7841",
   "metadata": {},
   "outputs": [],
   "source": [
    "preds_old"
   ]
  },
  {
   "cell_type": "code",
   "execution_count": null,
   "id": "95450c7a",
   "metadata": {},
   "outputs": [],
   "source": [
    "# !tensorboard --logdir=lightning_logs"
   ]
  },
  {
   "cell_type": "code",
   "execution_count": null,
   "id": "63efa10e",
   "metadata": {},
   "outputs": [],
   "source": [
    "# from pytorch_lightning.callbacks import ModelCheckpoint\n",
    "\n",
    "# checkpoint_callback = ModelCheckpoint(dirpath=\"/media/ssk/DATA/GRP_code/gr_football_analytics/notebooks/lightning_logs/version_0/checkpoints\")\n",
    "# trainer = pl.Trainer(callbacks=[checkpoint_callback])\n",
    "# hparams = {}\n",
    "# hparams['hidden_size'] = 256\n",
    "# hparams['lr'] = 0.00001\n",
    "# hparams['lr_decay_rate'] = 0.25\n",
    "# hparams['batch_size'] = 256\n",
    "# # hparams['activation'] = 'LeakyReLU'\n",
    "# hparams['activation'] = 'ReLU'\n",
    "# model = MLPModel(hparams)\n",
    "# model = model.to('cuda')\n",
    "# trainer.fit(model)\n",
    "# checkpoint_callback.best_model_path"
   ]
  },
  {
   "cell_type": "markdown",
   "id": "1ebd9957",
   "metadata": {},
   "source": [
    "#### Confusion matrix"
   ]
  },
  {
   "cell_type": "code",
   "execution_count": null,
   "id": "a741efe4",
   "metadata": {},
   "outputs": [],
   "source": [
    "hparams = {}\n",
    "hparams['hidden_size'] = 1024\n",
    "hparams['lr'] = 2e-3\n",
    "hparams['lr_decay_rate'] = 0.25\n",
    "hparams['batch_size'] = 256\n",
    "hparams['activation'] = 'GELU'\n",
    "# hparams['activation'] = 'ReLU'\n",
    "# model = MLPModel(hparams).to('cuda')\n",
    "model = MlpClassifierModel(hparams).to('cuda')"
   ]
  },
  {
   "cell_type": "code",
   "execution_count": null,
   "id": "bed5cfb9",
   "metadata": {},
   "outputs": [],
   "source": [
    "# checkpoint_path = '/home/ssk/ray_results/DEFAULT_2022-02-14_11-59-48/imitation_learning_3a12f_00000/checkpoint_000042/checkpoint'\n",
    "# checkpoint_path = \"/home/ssk/ray_results/DEFAULT_2022-02-14_11-59-48/imitation_learning_3a12f_00000/checkpoint_000099/checkpoint\"\n",
    "# checkpoint_path = \"/media/ssk/DATA/GRP_code/gr_football_analytics/notebooks/lightning_logs/version_0/checkpoints/epoch=3-step=13507.ckpt\"\n",
    "checkpoint_path = \"/media/ssk/DATA/GRP_code/gr_football_analytics/notebooks/lightning_logs/version_27/checkpoints/epoch=208-step=681548.ckpt\"\n",
    "# checkpoint_path = \"/media/ssk/DATA/GRP_code/gr_football_analytics/notebooks/lightning_logs/version_35/checkpoints/epoch=276-step=1106891.ckpt\"\n",
    "checkpoint_dict = torch.load(checkpoint_path)"
   ]
  },
  {
   "cell_type": "code",
   "execution_count": null,
   "id": "792d0bd6",
   "metadata": {},
   "outputs": [],
   "source": [
    "model.load_state_dict(checkpoint_dict['state_dict']) \n",
    "model.to('cuda')\n",
    "model.eval()"
   ]
  },
  {
   "cell_type": "code",
   "execution_count": null,
   "id": "6a259c7c",
   "metadata": {},
   "outputs": [],
   "source": [
    "model.prepare_data()"
   ]
  },
  {
   "cell_type": "code",
   "execution_count": null,
   "id": "33259978",
   "metadata": {},
   "outputs": [],
   "source": [
    "a = {'a':1, 'b':2}\n",
    "for k, v in a:\n",
    "    print(k, v)"
   ]
  },
  {
   "cell_type": "code",
   "execution_count": null,
   "id": "64943f86",
   "metadata": {},
   "outputs": [],
   "source": [
    "action_classes = {\n",
    "    0: \"idle\", #ignored\n",
    "    1: \"left\",\n",
    "    2: \"top_left\",\n",
    "    3: \"top\",\n",
    "    4: \"top_right\",\n",
    "    5: \"right\", #ignored\n",
    "    6: \"bottom_right\",\n",
    "    7: \"bottom\",\n",
    "    8: \"bottom_left\",\n",
    "    9: \"long_pass\",\n",
    "    10: \"high_pass\",\n",
    "    11: \"short_pass\",\n",
    "    12: \"shot\",\n",
    "    13: \"sprint\",\n",
    "    14: \"release_direction\", #ignored\n",
    "    15: \"release_sprint\", #ignored\n",
    "    16: \"sliding\",\n",
    "    17: \"dribble\", #ignored\n",
    "    18: \"release_dribble\", #ignored\n",
    "}"
   ]
  },
  {
   "cell_type": "code",
   "execution_count": null,
   "id": "8649698c",
   "metadata": {
    "scrolled": true
   },
   "outputs": [],
   "source": [
    "actions = []\n",
    "\n",
    "for frame in model.dict_dataset:\n",
    "    actions.append(action_classes[model.dict_dataset[frame][115]])\n",
    "    \n",
    "print(len(actions))"
   ]
  },
  {
   "cell_type": "markdown",
   "id": "ca53c7d5",
   "metadata": {},
   "source": [
    "#### Action distribution of the training data"
   ]
  },
  {
   "cell_type": "code",
   "execution_count": null,
   "id": "62b0954b",
   "metadata": {},
   "outputs": [],
   "source": [
    "from sklearn.metrics import confusion_matrix\n",
    "import seaborn as sn\n",
    "import pandas as pd\n",
    "import numpy as np\n",
    "from matplotlib import pyplot as plt\n",
    "\n",
    "plt.figure(figsize = (10,7))\n",
    "ax = sn.histplot(actions, shrink=0.5)\n",
    "# ax = sn.barplot(y_pred, x=[classes[key] for key in classes.keys()])\n",
    "# ax.set(xlabel='actions predicted', ylabel='count')\n",
    "locs, labels = plt.xticks()\n",
    "plt.setp(labels, rotation=90)\n",
    "plt.xlabel('Actions')\n",
    "plt.title('Action distributions of the training data')\n",
    "plt.savefig('action_class_dist_train_data')\n",
    "plt.show()"
   ]
  },
  {
   "cell_type": "code",
   "execution_count": null,
   "id": "329ee29d",
   "metadata": {},
   "outputs": [],
   "source": [
    "preds, acc, labels = model.getTestAcc()"
   ]
  },
  {
   "cell_type": "code",
   "execution_count": null,
   "id": "8ce6c37d",
   "metadata": {},
   "outputs": [],
   "source": [
    "acc*100"
   ]
  },
  {
   "cell_type": "markdown",
   "id": "087be185",
   "metadata": {},
   "source": [
    "#### Tesnorboard"
   ]
  },
  {
   "cell_type": "code",
   "execution_count": null,
   "id": "2218081d",
   "metadata": {},
   "outputs": [],
   "source": [
    "!tensorboard --logdir=lightning_logs"
   ]
  },
  {
   "cell_type": "markdown",
   "id": "711c3dd5",
   "metadata": {},
   "source": [
    "#### Calculate F1 score"
   ]
  },
  {
   "cell_type": "code",
   "execution_count": null,
   "id": "fdb18d22",
   "metadata": {},
   "outputs": [],
   "source": [
    "from sklearn.metrics import fbeta_score\n",
    "y_pred, acc, y_true = model.getTestAcc()\n",
    "y_pred += 1 # because no idle\n",
    "from sklearn.metrics import fbeta_score\n",
    "print(\"F1 : {}\".format(fbeta_score(y_true, y_pred, average='macro', beta=0.5)))"
   ]
  },
  {
   "cell_type": "code",
   "execution_count": null,
   "id": "3deb46b9",
   "metadata": {},
   "outputs": [],
   "source": [
    "action_set_v1_used=[]\n",
    "for i in np.unique(y_pred):\n",
    "    action_set_v1_used.append(action_classes[i])\n",
    "len(action_set_v1_used)"
   ]
  },
  {
   "cell_type": "code",
   "execution_count": null,
   "id": "efe9d86b",
   "metadata": {},
   "outputs": [],
   "source": [
    "action_set_v1_used=[]\n",
    "for i in np.unique(y_true):\n",
    "    action_set_v1_used.append(action_classes[i])\n",
    "len(action_set_v1_used)"
   ]
  },
  {
   "cell_type": "code",
   "execution_count": null,
   "id": "ad0cd3c8",
   "metadata": {},
   "outputs": [],
   "source": [
    "from sklearn import metrics\n",
    "res = metrics.classification_report(y_true, y_pred, digits=3, output_dict=True,target_names = action_set_v1_used)\n",
    "df = pd.DataFrame(res).transpose()\n",
    "df=df.drop(['accuracy', 'macro avg', 'weighted avg'])\n",
    "df.sort_values(\"f1-score\")"
   ]
  },
  {
   "cell_type": "code",
   "execution_count": null,
   "id": "87c12002",
   "metadata": {
    "scrolled": false
   },
   "outputs": [],
   "source": [
    "from sklearn.metrics import confusion_matrix\n",
    "import seaborn as sn\n",
    "import pandas as pd\n",
    "import numpy as np\n",
    "from matplotlib import pyplot as plt\n",
    "# y_pred = []\n",
    "# y_true = []\n",
    "\n",
    "\n",
    "y_pred, acc, y_true = model.getTestAcc()\n",
    "# iterate over test data\n",
    "# for inputs, labels in testloader:\n",
    "#         output = net(inputs) # Feed Network\n",
    "\n",
    "#         output = (torch.max(torch.exp(output), 1)[1]).data.cpu().numpy()\n",
    "#         y_pred.extend(output) # Save Prediction\n",
    "        \n",
    "#         labels = labels.data.cpu().numpy()\n",
    "#         y_true.extend(labels) # Save Truth\n",
    "\n",
    "# constant for classes\n",
    "classes = {\n",
    "#     0: \"idle\",\n",
    "    1: \"left\",\n",
    "    2: \"top_left\",\n",
    "    3: \"top\",\n",
    "    4: \"top_right\",\n",
    "#     5: \"right\",\n",
    "    6: \"bottom_right\",\n",
    "    7: \"bottom\",\n",
    "    8: \"bottom_left\",\n",
    "    9: \"long_pass\",\n",
    "    10: \"high_pass\",\n",
    "    11: \"short_pass\",\n",
    "    12: \"shot\",\n",
    "    13: \"sprint\",\n",
    "#     14: \"release_direction\",\n",
    "#     15: \"release_sprint\",\n",
    "    16: \"sliding\",\n",
    "#     17: \"dribble\",\n",
    "#     18: \"release_dribble\",\n",
    "}\n",
    "\n",
    "# Build confusion matrix\n",
    "cf_matrix = confusion_matrix(y_true, y_pred)\n",
    "# print(np.sum(cf_matrix))\n",
    "df_cm = pd.DataFrame(cf_matrix*100/np.sum(cf_matrix), index = [classes[key] for key in classes.keys()],\n",
    "                     columns = [classes[key] for key in classes.keys()])\n",
    "# print(df_cm.head())\n",
    "plt.figure(figsize = (24,14))\n",
    "# plt.plot(df_cm)\n",
    "sn.heatmap(df_cm, annot=True, vmin=0, vmax=100, cmap=\"YlGnBu\")\n",
    "plt.xlabel('Predicted')\n",
    "plt.ylabel('Actual')\n",
    "plt.savefig('confusion_matrix.jpg')\n",
    "\n",
    "# left: true, bottom: predicted"
   ]
  },
  {
   "cell_type": "code",
   "execution_count": null,
   "id": "b9f73fda",
   "metadata": {},
   "outputs": [],
   "source": [
    "# df_cm"
   ]
  },
  {
   "cell_type": "code",
   "execution_count": null,
   "id": "4827d762",
   "metadata": {},
   "outputs": [],
   "source": [
    "classes = {\n",
    "    0: \"idle\",\n",
    "    1: \"left\",\n",
    "    2: \"top_left\",\n",
    "    3: \"top\",\n",
    "    4: \"top_right\",\n",
    "    5: \"right\",\n",
    "    6: \"bottom_right\",\n",
    "    7: \"bottom\",\n",
    "    8: \"bottom_left\",\n",
    "    9: \"long_pass\",\n",
    "    10: \"high_pass\",\n",
    "    11: \"short_pass\",\n",
    "    12: \"shot\",\n",
    "    13: \"sprint\",\n",
    "    14: \"release_direction\",\n",
    "    15: \"release_sprint\",\n",
    "    16: \"sliding\",\n",
    "    17: \"dribble\",\n",
    "    18: \"release_dribble\",\n",
    "}"
   ]
  },
  {
   "cell_type": "markdown",
   "id": "2060f9f1",
   "metadata": {},
   "source": [
    "### Plots of different actions"
   ]
  },
  {
   "cell_type": "code",
   "execution_count": null,
   "id": "2aa40eb5",
   "metadata": {},
   "outputs": [],
   "source": [
    "y_pred, acc, y_true = model.getTestAcc()"
   ]
  },
  {
   "cell_type": "code",
   "execution_count": null,
   "id": "ff94d923",
   "metadata": {},
   "outputs": [],
   "source": [
    "plt.figure(figsize = (10,7))\n",
    "ax = sn.histplot([classes[pred] for pred in y_true], shrink=0.5)\n",
    "# ax = sn.barplot(y_pred, x=[classes[key] for key in classes.keys()])\n",
    "# ax.set(xlabel='actions predicted', ylabel='count')\n",
    "locs, labels = plt.xticks()\n",
    "plt.setp(labels, rotation=90)\n",
    "plt.show()"
   ]
  },
  {
   "cell_type": "code",
   "execution_count": null,
   "id": "49c79420",
   "metadata": {},
   "outputs": [],
   "source": [
    "plt.figure(figsize = (10,7))\n",
    "ax = sn.histplot([classes[pred] for pred in y_pred], shrink=0.5, bins=19)\n",
    "# ax = sn.barplot(y_pred, x=[classes[key] for key in classes.keys()])\n",
    "# ax.set(xlabel='actions predicted', ylabel='count')\n",
    "locs, labels = plt.xticks()\n",
    "plt.setp(labels, rotation=90)\n",
    "plt.show()"
   ]
  },
  {
   "cell_type": "code",
   "execution_count": null,
   "id": "c0700c83",
   "metadata": {},
   "outputs": [],
   "source": [
    "data = {\"original_actions\":[classes[pred] for pred in y_true], \"predicted_actions\":[classes[pred] for pred in y_pred]}\n",
    "# data = {\"original_actions\": y_true, \"predicted_actions\": y_pred}"
   ]
  },
  {
   "cell_type": "code",
   "execution_count": null,
   "id": "faf599fa",
   "metadata": {},
   "outputs": [],
   "source": [
    "action_data = pd.DataFrame(data)"
   ]
  },
  {
   "cell_type": "code",
   "execution_count": null,
   "id": "a8209b18",
   "metadata": {},
   "outputs": [],
   "source": [
    "action_data"
   ]
  },
  {
   "cell_type": "code",
   "execution_count": null,
   "id": "0b93323d",
   "metadata": {},
   "outputs": [],
   "source": [
    "action_data['predicted_actions'].isnull().values.sum()"
   ]
  },
  {
   "cell_type": "code",
   "execution_count": null,
   "id": "b8db9b6f",
   "metadata": {},
   "outputs": [],
   "source": [
    "plt.figure(figsize = (20,14))\n",
    "ax = sn.histplot(action_data, x=\"original_actions\", multiple=\"dodge\", shrink=.8)\n",
    "# ax = sn.barplot(y_pred, x=[classes[key] for key in classes.keys()])\n",
    "# ax.set(xlabel='actions predicted', ylabel='count')\n",
    "locs, labels = plt.xticks()\n",
    "plt.setp(labels, rotation=90)\n",
    "plt.show()"
   ]
  },
  {
   "cell_type": "code",
   "execution_count": null,
   "id": "3366d644",
   "metadata": {},
   "outputs": [],
   "source": [
    "# y_true_list = list(y_true)\n",
    "# original_pred = [y_true.count(pred) for pred in list(y_true)]"
   ]
  },
  {
   "cell_type": "code",
   "execution_count": null,
   "id": "83b26ea0",
   "metadata": {},
   "outputs": [],
   "source": [
    "# action_data[['original_actions']].groupby('original_actions').count()\n",
    "original_action_counts = action_data['original_actions'].value_counts()\n",
    "predicted_action_counts = action_data['predicted_actions'].value_counts()\n",
    "len(original_action_counts.values), len(predicted_action_counts.values)"
   ]
  },
  {
   "cell_type": "code",
   "execution_count": null,
   "id": "bdb801a8",
   "metadata": {},
   "outputs": [],
   "source": []
  },
  {
   "cell_type": "code",
   "execution_count": null,
   "id": "40d98376",
   "metadata": {},
   "outputs": [],
   "source": [
    "classes = {\n",
    "    0: \"idle\",\n",
    "    1: \"left\",\n",
    "    2: \"top_left\",\n",
    "    3: \"top\",\n",
    "    4: \"top_right\",\n",
    "    5: \"right\",\n",
    "    6: \"bottom_right\",\n",
    "    7: \"bottom\",\n",
    "    8: \"bottom_left\",\n",
    "    9: \"long_pass\",\n",
    "    10: \"high_pass\",\n",
    "    11: \"short_pass\",\n",
    "    12: \"shot\",\n",
    "    13: \"sprint\",\n",
    "    14: \"release_direction\",\n",
    "    15: \"release_sprint\",\n",
    "    16: \"sliding\",\n",
    "    17: \"dribble\",\n",
    "    18: \"release_dribble\",\n",
    "}\n",
    "\n",
    "# for action in classes.values():\n",
    "#     if action not in predicted_action_counts.keys():\n",
    "#         print(action)\n",
    "#         predicted_action_counts[action] = 0\n",
    "        \n",
    "len(predicted_action_counts.values)"
   ]
  },
  {
   "cell_type": "code",
   "execution_count": null,
   "id": "1dc7b4cb",
   "metadata": {},
   "outputs": [],
   "source": [
    "\n",
    "action_data = pd.DataFrame({\"predicted_actions\": predicted_action_counts.values, \"original_actions\": original_action_counts.values}, index=predicted_action_counts.keys())\n",
    "action_data"
   ]
  },
  {
   "cell_type": "markdown",
   "id": "c573e9ae",
   "metadata": {},
   "source": [
    "#### Used as an example"
   ]
  },
  {
   "cell_type": "code",
   "execution_count": null,
   "id": "ebd85f35",
   "metadata": {},
   "outputs": [],
   "source": [
    "# Numbers of pairs of bars you want\n",
    "N = 3\n",
    "\n",
    "# Data on X-axis\n",
    "\n",
    "# Specify the values of blue bars (height)\n",
    "blue_bar = (23, 25, 17)\n",
    "# Specify the values of orange bars (height)\n",
    "orange_bar = (19, 18, 14)\n",
    "\n",
    "# Position of bars on x-axis\n",
    "ind = np.arange(N)\n",
    "\n",
    "# Figure size\n",
    "plt.figure(figsize=(10,5))\n",
    "\n",
    "# Width of a bar \n",
    "width = 0.3       \n",
    "\n",
    "# Plotting\n",
    "plt.bar(ind, blue_bar , width, label='Blue bar label')\n",
    "plt.bar(ind + width, orange_bar, width, label='Orange bar label')\n",
    "\n",
    "plt.xlabel('Here goes x-axis label')\n",
    "plt.ylabel('Here goes y-axis label')\n",
    "plt.title('Here goes title of the plot')\n",
    "\n",
    "# xticks()\n",
    "# First argument - A list of positions at which ticks should be placed\n",
    "# Second argument -  A list of labels to place at the given locations\n",
    "plt.xticks(ind + width / 2, ('Xtick1', 'Xtick3', 'Xtick3'))\n",
    "\n",
    "# Finding the best position for legends and putting it\n",
    "plt.legend(loc='best')\n",
    "plt.show()"
   ]
  },
  {
   "cell_type": "code",
   "execution_count": null,
   "id": "22aee0a1",
   "metadata": {},
   "outputs": [],
   "source": [
    "a = np.array([x for x in range(19)])\n",
    "a+5"
   ]
  },
  {
   "cell_type": "code",
   "execution_count": null,
   "id": "40c0ae69",
   "metadata": {
    "scrolled": false
   },
   "outputs": [],
   "source": [
    "plt.figure(figsize=(20,10))\n",
    "width = 0.3  \n",
    "ind = np.array([x for x in range(13)])\n",
    "plt.bar(ind, action_data['original_actions'], width, label=\"original action\", color=\"steelblue\")\n",
    "plt.bar(ind+width, action_data['predicted_actions'], width, label=\"predicted action\", color=\"salmon\")\n",
    "\n",
    "locs, labels = plt.xticks()\n",
    "plt.setp(labels, rotation=90)\n",
    "plt.xticks(ind + width / 2, action_data.index)\n",
    "plt.xlabel('actions')\n",
    "plt.ylabel('counts')\n",
    "# plt.title('Here goes title of the plot')\n",
    "plt.legend(loc='best')\n",
    "\n",
    "plt.savefig('original_vs_predicted_action_class_distributions.jpg')\n",
    "plt.show()\n",
    "\n",
    "\n",
    "\n",
    "\n",
    "# plt.bar(ind, blue_bar , width, label='Blue bar label')\n",
    "# plt.bar(ind + width, orange_bar, width, label='Orange bar label')"
   ]
  },
  {
   "cell_type": "code",
   "execution_count": null,
   "id": "65147978",
   "metadata": {},
   "outputs": [],
   "source": [
    "!tensorboard --logdir=lightning_logs"
   ]
  },
  {
   "cell_type": "code",
   "execution_count": null,
   "id": "f7ee6a61",
   "metadata": {},
   "outputs": [],
   "source": []
  }
 ],
 "metadata": {
  "kernelspec": {
   "display_name": "Python 3 (ipykernel)",
   "language": "python",
   "name": "python3"
  },
  "language_info": {
   "codemirror_mode": {
    "name": "ipython",
    "version": 3
   },
   "file_extension": ".py",
   "mimetype": "text/x-python",
   "name": "python",
   "nbconvert_exporter": "python",
   "pygments_lexer": "ipython3",
   "version": "3.9.7"
  }
 },
 "nbformat": 4,
 "nbformat_minor": 5
}
