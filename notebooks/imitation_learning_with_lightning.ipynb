{
 "cells": [
  {
   "cell_type": "markdown",
   "id": "c7c43b6c",
   "metadata": {},
   "source": [
    "### PyTorch Lightning"
   ]
  },
  {
   "cell_type": "code",
   "execution_count": null,
   "id": "ef4a15e0",
   "metadata": {},
   "outputs": [],
   "source": [
    "import sys\n",
    "sys.path.append(\"..\")\n",
    "\n",
    "import pytorch_lightning as pl\n",
    "import torch\n",
    "from models.mlp import MLPModel"
   ]
  },
  {
   "cell_type": "code",
   "execution_count": null,
   "id": "6224afe3",
   "metadata": {},
   "outputs": [],
   "source": [
    "print(f\"Lightning version: {pl.__version__}\")"
   ]
  },
  {
   "cell_type": "code",
   "execution_count": null,
   "id": "ed0887f1",
   "metadata": {},
   "outputs": [],
   "source": [
    "device = torch.device(\"cuda\" if torch.cuda.is_available() else \"cpu\")\n",
    "print(device)"
   ]
  },
  {
   "cell_type": "code",
   "execution_count": null,
   "id": "72583f1b",
   "metadata": {},
   "outputs": [],
   "source": [
    "hparams = {}\n",
    "hparams['hidden_size'] = 512\n",
    "hparams['lr'] = 0.014628121654892828\n",
    "hparams['lr_decay_rate'] = 0.25\n",
    "hparams['batch_size'] = 1\n",
    "hparams['activation'] = 'LeakyReLU'\n",
    "model = MLPModel(hparams)\n",
    "model = model.to(device)\n",
    "model.prepare_data()"
   ]
  },
  {
   "cell_type": "code",
   "execution_count": null,
   "id": "0749d5a1",
   "metadata": {},
   "outputs": [],
   "source": [
    "from pytorch_lightning.callbacks.early_stopping import EarlyStopping\n",
    "early_stop_callback = EarlyStopping(monitor=\"val_loss\", min_delta=0.00, patience=3, verbose=False, mode=\"min\")"
   ]
  },
  {
   "cell_type": "code",
   "execution_count": null,
   "id": "4987627b",
   "metadata": {
    "scrolled": false
   },
   "outputs": [],
   "source": [
    "# https://pytorch-lightning.readthedocs.io/en/stable/common/trainer.html\n",
    "trainer = None\n",
    "\n",
    "# from pytorch_lightning.callbacks import EarlyStopping\n",
    "\n",
    "# early_stopping = EarlyStopping(\n",
    "#     monitor='val_loss',\n",
    "#     patience=10,\n",
    "# )\n",
    "\n",
    "from pytorch_lightning.callbacks.early_stopping import EarlyStopping\n",
    "early_stop_callback = EarlyStopping(\n",
    "    monitor=\"val_loss\", \n",
    "    min_delta=0.00, \n",
    "    patience=5, \n",
    "    verbose=False, \n",
    "    mode=\"min\")\n",
    "\n",
    "trainer = pl.Trainer(\n",
    "    profiler=\"simple\",\n",
    "    max_epochs=1,\n",
    "    gpus=1,\n",
    "    callbacks=[early_stop_callback],\n",
    "    check_val_every_n_epoch=1,\n",
    ")\n",
    "\n",
    "trainer.fit(model)"
   ]
  },
  {
   "cell_type": "code",
   "execution_count": null,
   "id": "4696e09c",
   "metadata": {},
   "outputs": [],
   "source": [
    "# from utils.Util import test_and_save\n",
    "# test_and_save(model)"
   ]
  },
  {
   "cell_type": "code",
   "execution_count": null,
   "id": "921685cd",
   "metadata": {},
   "outputs": [],
   "source": [
    "# model.visualize_predictions(model.)"
   ]
  }
 ],
 "metadata": {
  "kernelspec": {
   "display_name": "Python 3",
   "language": "python",
   "name": "python3"
  },
  "language_info": {
   "codemirror_mode": {
    "name": "ipython",
    "version": 3
   },
   "file_extension": ".py",
   "mimetype": "text/x-python",
   "name": "python",
   "nbconvert_exporter": "python",
   "pygments_lexer": "ipython3",
   "version": "3.6.9"
  }
 },
 "nbformat": 4,
 "nbformat_minor": 5
}
