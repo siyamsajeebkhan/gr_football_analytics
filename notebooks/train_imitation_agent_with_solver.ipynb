{
 "cells": [
  {
   "cell_type": "markdown",
   "metadata": {},
   "source": [
    "### 1. Necessary imports"
   ]
  },
  {
   "cell_type": "code",
   "execution_count": null,
   "metadata": {},
   "outputs": [],
   "source": [
    "import sys\n",
    "sys.path.append(\"..\")\n",
    "\n",
    "import logging\n",
    "import os\n",
    "# import time\n",
    "# import datetime\n",
    "import random\n",
    "import pandas as pd\n",
    "import numpy as np\n",
    "import torch\n",
    "# import torch.nn.functional as F\n",
    "import torch.nn as nn\n",
    "# import torch.optim as optim\n",
    "import csv\n",
    "# import matplotlib.pyplot as plt\n",
    "from torch.utils.data import DataLoader\n",
    "# from torch.optim.lr_scheduler import ReduceLROnPlateau\n",
    "# from tqdm import tqdm\n",
    "# from os.path import join, dirname\n",
    "# from sklearn.model_selection import train_test_split\n",
    "from imitation_learning.dataset.frame_dataset import Float115Dataset\n",
    "from models.mlp_original import MLPModel\n",
    "from utils.solver import Solver\n",
    "# from gfootball.env.wrappers import Simple115StateWrapper\n",
    "from utils.solver import Solver\n",
    "from torch.utils.tensorboard import SummaryWriter\n",
    "# from imitation_learning.dataset.dict_dataset import Float115Dataset as DictDataset\n",
    "# import hydra\n",
    "# import wandb\n",
    "# from omegaconf import DictConfig\n",
    "# import torchtoolbox.transform as transforms\n",
    "# import torchvision\n",
    "# import pickle"
   ]
  },
  {
   "cell_type": "code",
   "execution_count": null,
   "metadata": {},
   "outputs": [],
   "source": [
    "logging.basicConfig(format='%(asctime)s - %(message)s', level=logging.INFO)"
   ]
  },
  {
   "cell_type": "code",
   "execution_count": null,
   "metadata": {},
   "outputs": [],
   "source": [
    "# Setting the seeds for result reproducibility\n",
    "os.environ['PYTHONHASHSEED'] = str(42)\n",
    "random.seed(42)\n",
    "np.random.seed(42)\n",
    "torch.manual_seed(42)\n",
    "torch.cuda.manual_seed(42)\n",
    "torch.backends.cudnn.deterministic = True\n",
    "torch.backends.cudnn.benchmark = True"
   ]
  },
  {
   "cell_type": "code",
   "execution_count": null,
   "metadata": {},
   "outputs": [],
   "source": [
    "# Loading the dataset containing names of all the frames\n",
    "logging.info(\"Reading the dataset\")\n",
    "dataset = pd.read_csv('../data/frames.csv', header=None)[0]\n",
    "logging.info(\"Dataset loaded inot the memory\")\n",
    "# Creating Train, Val and Test Dataset\n",
    "train, val, test = np.split(dataset.sample(frac=1, random_state=42), [\n",
    "                                    int(.6 * len(dataset)), int(.8 * len(dataset))])\n",
    "\n",
    "train_frames, val_frames, test_frames = np.array(train, dtype='str'),\\\n",
    "                                        np.array(val, dtype='str'),\\\n",
    "                                        np.array(test, dtype='str')\n",
    "\n",
    "dataset_path = '/home/ssk/Study/GRP/dataset/npy_files'\n",
    "train_dataset, val_dataset, test_dataset = Float115Dataset(train_frames, dataset_path), \\\n",
    "                                            Float115Dataset(val_frames, dataset_path), \\\n",
    "                                            Float115Dataset(test_frames, dataset_path)\n",
    "\n",
    "logging.info(f\"Number of training samples: {len(train_dataset)}\")\n",
    "logging.info(f\"Number of validation samples: {len(val_dataset)}\")\n",
    "logging.info(f\"Number of test samples: {len(test_dataset)}\")"
   ]
  },
  {
   "cell_type": "code",
   "execution_count": null,
   "metadata": {},
   "outputs": [],
   "source": [
    "del(train)\n",
    "del(val)\n",
    "del(test)\n",
    "del(dataset)\n",
    "del(train_frames)\n",
    "del(val_frames)\n",
    "del(test_frames)"
   ]
  },
  {
   "cell_type": "code",
   "execution_count": null,
   "metadata": {},
   "outputs": [],
   "source": [
    "batch_size = 128\n",
    "lr = 0.0106"
   ]
  },
  {
   "cell_type": "code",
   "execution_count": null,
   "metadata": {},
   "outputs": [],
   "source": [
    "# Creating the dataloaders\n",
    "train_loader = DataLoader(dataset=train_dataset, batch_size=batch_size, shuffle=True, num_workers=8)\n",
    "val_loader = DataLoader(dataset=val_dataset, batch_size=batch_size, shuffle=True, num_workers=8)\n",
    "test_loader = DataLoader(dataset=test_dataset, batch_size=batch_size, shuffle=True, num_workers=8)\n"
   ]
  },
  {
   "cell_type": "code",
   "execution_count": null,
   "metadata": {},
   "outputs": [],
   "source": [
    "# Loading the model and defining different parameters for the training\n",
    "model = MLPModel(hidden_size=512)\n",
    "device = torch.device(\"cuda\" if torch.cuda.is_available() else \"cpu\")\n",
    "model = model.to(device)\n",
    "optimizer = torch.optim.Adam(model.parameters(), lr=lr)\n",
    "\n",
    "# scheduler = ReduceLROnPlateau(optimizer=optimizer, mode='max', patience=1, verbose=True, factor=0.2)\n",
    "criterion = nn.CrossEntropyLoss()"
   ]
  },
  {
   "cell_type": "code",
   "execution_count": null,
   "metadata": {
    "scrolled": true
   },
   "outputs": [],
   "source": [
    "writer = SummaryWriter()\n",
    "solver = Solver(model, train_loader, val_loader, criterion, lr, optimizer, writer=writer)\n",
    "solver.train(epochs=100)\n",
    "writer.close()"
   ]
  },
  {
   "cell_type": "markdown",
   "metadata": {},
   "source": [
    "### Save batched data of 128 files"
   ]
  },
  {
   "cell_type": "code",
   "execution_count": null,
   "metadata": {},
   "outputs": [],
   "source": [
    "# A = '007'\n",
    "# B = '1.000'\n",
    "# C = '4876'\n",
    "# print(A.zfill(5))\n",
    "# print(B.zfill(6))\n",
    "# print(C.zfill(3))"
   ]
  },
  {
   "cell_type": "code",
   "execution_count": null,
   "metadata": {},
   "outputs": [],
   "source": [
    "from tqdm import tqdm\n",
    "import pickle\n",
    "data_save_dir = '/home/ssk/Study/GRP/dataset/batched_data/test'\n",
    "batch_name_prefix = 'test_batch_'\n",
    "for i, batch in enumerate(tqdm(val_loader)):\n",
    "    batch_name = batch_name_prefix + f\"{i+1}\".zfill(5)\n",
    "    data_dict = {}\n",
    "    X, y = batch\n",
    "    data_dict['obs'] = np.array(X, dtype='float32')\n",
    "    data_dict['action'] = np.array(y, dtype='float32')\n",
    "    pkl_file_to_save = os.path.join(data_save_dir, f\"{batch_name}.p\")\n",
    "    with open(pkl_file_to_save, 'wb') as handle:\n",
    "        pickle.dump(data_dict, handle)\n",
    "    "
   ]
  },
  {
   "cell_type": "code",
   "execution_count": null,
   "metadata": {},
   "outputs": [],
   "source": [
    "with open(os.path.join(data_save_dir, 'train_batch_00001.p'), 'rb') as handle:\n",
    "    data_dict = pickle.load(handle)\n",
    "data_dict.keys(), data_dict['obs'].shape, data_dict['action'].shape"
   ]
  },
  {
   "cell_type": "markdown",
   "metadata": {},
   "source": [
    "### Additional Tasks"
   ]
  },
  {
   "cell_type": "code",
   "execution_count": null,
   "metadata": {},
   "outputs": [],
   "source": [
    "### !!!!!!!!!!!!!!!!!!! Do not delete this cell !!!!!!!!!!!!!!!!!!!\n",
    "import os\n",
    "from tqdm import tqdm\n",
    "import pickle\n",
    "import time\n",
    "import numpy as np\n",
    "from gfootball.env.wrappers import Simple115StateWrapper\n",
    "import sys\n",
    "# Here we will write the pickle files\n",
    "def prepare_npy_dataset_from_replay_files(replay_files, replay_files_path):\n",
    "    obs_save_dir = '/home/ssk/Study/GRP/dataset/top_480.csv'\n",
    "#     replay_files_path = '../data/replay_files'\n",
    "\n",
    "#     if not os.path.exists(obs_save_dir):\n",
    "#         os.mkdir(obs_save_dir)\n",
    "    replay_dict = {}\n",
    "    for replay in tqdm(replay_files):\n",
    "        with open(os.path.join(replay_files_path, replay), 'rb') as pkl_file:\n",
    "            episode_data = pickle.load(pkl_file)\n",
    "\n",
    "        episode_no = replay.split('.')[0]\n",
    "        episode = episode_data['observations']\n",
    "        episode['active'] = episode_data['players'][0]['active']\n",
    "        episode_length = 3002\n",
    "        raw_obs = {}\n",
    "\n",
    "        episode_dir = os.path.join(obs_save_dir, episode_no)\n",
    "#         if not os.path.exists(episode_dir):\n",
    "#             os.mkdir(episode_dir)\n",
    "\n",
    "        for step in range(episode_length):\n",
    "            for (key, item) in episode.items():\n",
    "                raw_obs[key] = item[step]\n",
    "\n",
    "            float115_frame =  Simple115StateWrapper.convert_observation([raw_obs], True)[0].tolist()\n",
    "            action = episode_data['players'][0]['action'][step]\n",
    "            \n",
    "            frame_name = episode_no+f'_{step}'\n",
    "            if len(action) != 0:\n",
    "                float115_frame.extend(action)\n",
    "#                 fram_save_path = os.path.join(episode_dir, frame_name)\n",
    "                replay_dict[frame_name] = np.array(float115_frame, dtype='float32')\n",
    "                del(float115_frame)\n",
    "#                 print(f\"Size of the frame list : {sys.getsizeof(float115_frame)} bytes\")\n",
    "#                 print(f\"Size of the numpy array for the same list : {np.array(float115_frame, dtype='float32').nbytes} bytes\")\n",
    "#                 np.save(fram_save_path, np.array(float115_frame))\n",
    "        del(episode_data)\n",
    "        del(episode)\n",
    "        del(raw_obs)\n",
    "    \n",
    "    a_file = open(\"/home/ssk/Study/GRP/dataset/replay_data_part1.pkl\", \"wb\")\n",
    "    pickle.dump(replay_dict, a_file)\n",
    "    a_file.close()\n",
    "    print(f\"Size of the replay dict for one file: {sys.getsizeof(replay_dict)/1024/1024} MB\")\n",
    "    print(len(replay_dict.keys()))"
   ]
  },
  {
   "cell_type": "code",
   "execution_count": null,
   "metadata": {},
   "outputs": [],
   "source": [
    "\n",
    "replay_files_path = '../data/replay_files'\n",
    "replay_files = sorted(os.listdir(replay_files_path))\n",
    "replay_files.pop(0)\n",
    "# replay_files = replay_files[0:1]\n",
    "print(f\"total replay files: {len(replay_files)}\")\n",
    "# replay_files = replay_files[0:1]\n",
    "\n",
    "start = time.perf_counter()\n",
    "prepare_npy_dataset_from_replay_files(replay_files[0:2400], replay_files_path)\n",
    "end =  time.perf_counter()\n",
    "\n",
    "print(f\"Total time needed to process {len(replay_files)}: {end-start}s\")\n",
    "print(f\"Time needed to process a single file: {(end-start)/len(replay_files)}s\")"
   ]
  },
  {
   "cell_type": "code",
   "execution_count": null,
   "metadata": {},
   "outputs": [],
   "source": []
  }
 ],
 "metadata": {
  "interpreter": {
   "hash": "31f2aee4e71d21fbe5cf8b01ff0e069b9275f58929596ceb00d14d90e3e16cd6"
  },
  "kernelspec": {
   "display_name": "Python 3",
   "language": "python",
   "name": "python3"
  },
  "language_info": {
   "codemirror_mode": {
    "name": "ipython",
    "version": 3
   },
   "file_extension": ".py",
   "mimetype": "text/x-python",
   "name": "python",
   "nbconvert_exporter": "python",
   "pygments_lexer": "ipython3",
   "version": "3.6.9"
  }
 },
 "nbformat": 4,
 "nbformat_minor": 2
}
