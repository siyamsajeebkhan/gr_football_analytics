{
 "cells": [
  {
   "cell_type": "code",
   "execution_count": 1,
   "metadata": {
    "_kg_hide-input": true,
    "_kg_hide-output": true
   },
   "outputs": [],
   "source": [
    "import sys\n",
    "import os\n",
    "import base64\n",
    "import pickle\n",
    "import zlib\n",
    "import gym\n",
    "import numpy as np\n",
    "import pandas as pd\n",
    "import torch as th\n",
    "from torch import nn, tensor\n",
    "from collections import deque\n",
    "from gym.spaces import Box, Discrete\n",
    "from gfootball.env import create_environment, observation_preprocessing, wrappers\n",
    "from stable_baselines3 import PPO\n",
    "from stable_baselines3.ppo import CnnPolicy\n",
    "from stable_baselines3.common import results_plotter\n",
    "from stable_baselines3.common.callbacks import BaseCallback\n",
    "from stable_baselines3.common.callbacks import EvalCallback\n",
    "from stable_baselines3.common.env_checker import check_env\n",
    "from stable_baselines3.common.monitor import Monitor\n",
    "from stable_baselines3.common.torch_layers import BaseFeaturesExtractor\n",
    "from stable_baselines3.common.vec_env.dummy_vec_env import DummyVecEnv\n",
    "from stable_baselines3.common.vec_env.subproc_vec_env import SubprocVecEnv\n",
    "from stable_baselines3.common.vec_env.base_vec_env import VecEnv\n",
    "from stable_baselines3.common.policies import BasePolicy, register_policy\n",
    "from IPython.display import HTML\n",
    "import time\n",
    "from datetime import date\n",
    "from matplotlib import pyplot as plt\n",
    "from stable_baselines3 import DQN\n",
    "import torch\n",
    "%matplotlib inline"
   ]
  },
  {
   "cell_type": "code",
   "execution_count": 2,
   "metadata": {
    "_kg_hide-input": true,
    "_kg_hide-output": true
   },
   "outputs": [
    {
     "data": {
      "text/plain": [
       "<torch._C.Generator at 0x7efb8ab90b70>"
      ]
     },
     "execution_count": 2,
     "metadata": {},
     "output_type": "execute_result"
    }
   ],
   "source": [
    "torch.manual_seed(42)\n",
    "torch.manual_seed(torch.initial_seed())"
   ]
  },
  {
   "cell_type": "markdown",
   "metadata": {},
   "source": [
    "---\n",
    "# Football Gym"
   ]
  },
  {
   "cell_type": "code",
   "execution_count": 3,
   "metadata": {
    "_kg_hide-output": true
   },
   "outputs": [],
   "source": [
    "class FootballGym(gym.Env):\n",
    "    spec = None\n",
    "    metadata = None\n",
    "#     metadata = {'render.modes': ['human']}\n",
    "    def __init__(self, config=None, render=False, rewards='scoring'):\n",
    "        super(FootballGym, self).__init__()\n",
    "        env_name = \"academy_empty_goal_close\"\n",
    "        rewards = rewards\n",
    "        if config is not None:\n",
    "            env_name = config.get(\"env_name\", env_name)\n",
    "            rewards = config.get(\"rewards\", rewards)\n",
    "        self.env = create_environment(\n",
    "            env_name=env_name,\n",
    "            stacked=False,\n",
    "            representation=\"simple115v2\",\n",
    "            rewards = rewards,\n",
    "            write_goal_dumps=False,\n",
    "            write_full_episode_dumps=False,\n",
    "            render=render,\n",
    "            write_video=False,\n",
    "            dump_frequency=1,\n",
    "            logdir=\".\",\n",
    "            extra_players=None,\n",
    "            number_of_left_players_agent_controls=1,\n",
    "            number_of_right_players_agent_controls=0)\n",
    "        self.action_space = self.env.action_space\n",
    "        self.observation_space = self.env.observation_space\n",
    "        self.reward_range = (-1, 1)\n",
    "        self.obs_stack = deque([], maxlen=4)\n",
    "        \n",
    "    def reset(self):\n",
    "        self.obs_stack.clear()\n",
    "        obs = self.env.reset()\n",
    "        return obs\n",
    "    \n",
    "    def step(self, action):\n",
    "        obs, reward, done, info = self.env.step([action])\n",
    "        return obs, float(reward), done, info\n",
    "    "
   ]
  },
  {
   "cell_type": "markdown",
   "metadata": {},
   "source": [
    "### Creating the DDQN Model"
   ]
  },
  {
   "cell_type": "code",
   "execution_count": 4,
   "metadata": {},
   "outputs": [],
   "source": [
    "from torch.nn import functional as F\n",
    "\n",
    "class DDQN(DQN):\n",
    "    def train(self, gradient_steps: int, batch_size: int = 100) -> None:\n",
    "        # Switch to train mode (this affects batch norm / dropout)\n",
    "        self.policy.set_training_mode(True)\n",
    "        # Update learning rate according to schedule\n",
    "        self._update_learning_rate(self.policy.optimizer)\n",
    "\n",
    "        losses = []\n",
    "        for _ in range(gradient_steps):\n",
    "            ### YOUR CODE HERE\n",
    "            # Sample replay buffer\n",
    "            replay_data = self.replay_buffer.sample(batch_size, env=self._vec_normalize_env)\n",
    "\n",
    "            # Do not backpropagate gradient to the target network\n",
    "            with th.no_grad():\n",
    "                # Compute the next Q-values using the target network\n",
    "                next_q_values = self.q_net_target(replay_data.next_observations)\n",
    "        \n",
    "                # Decouple action selection from value estimation\n",
    "                # Compute q-values for the next observation using the online q net\n",
    "                next_q_values_online = self.q_net(replay_data.next_observations)\n",
    "\n",
    "                # Select action with online network\n",
    "                next_actions_online = next_q_values_online.argmax(dim=1)\n",
    "\n",
    "                # Estimate the q-values for the selected actions using target q network\n",
    "                next_q_values = th.gather(next_q_values, dim=1, index=next_actions_online.unsqueeze(-1))\n",
    "               \n",
    "                # 1-step TD target\n",
    "                target_q_values = replay_data.rewards + (1 - replay_data.dones) * self.gamma * next_q_values\n",
    "\n",
    "            # Get current Q-values estimates\n",
    "            current_q_values = self.q_net(replay_data.observations)\n",
    "\n",
    "            # Retrieve the q-values for the actions from the replay buffer\n",
    "            current_q_values = th.gather(current_q_values, dim=1, index=replay_data.actions.long())\n",
    "\n",
    "            # Check the shape\n",
    "            assert current_q_values.shape == target_q_values.shape\n",
    "\n",
    "            # Compute Huber loss (less sensistive to outliers)\n",
    "            loss = F.smooth_l1_loss(current_q_values, target_q_values)\n",
    "            \n",
    "            # Using KL-loss with Huber Loss.\n",
    "            # Uncomment this line if you want to use KL loss along with Huber loss\n",
    "#             kl_loss = th.nn.KLDivLoss(reduction=\"batchmean\")\n",
    "#             loss = loss + kl_loss(F.log_softmax(current_q_values), F.softmax(target_q_values))\n",
    "            \n",
    "            # KL-loss only\n",
    "#             loss =  kl_loss(F.log_softmax(current_q_values), F.softmax(target_q_values))\n",
    "            \n",
    "            losses.append(loss.item())\n",
    "\n",
    "            # Optimize the q-network\n",
    "            self.policy.optimizer.zero_grad()\n",
    "            loss.backward()\n",
    "            \n",
    "            # Clip gradient norm\n",
    "            th.nn.utils.clip_grad_norm_(self.policy.parameters(), self.max_grad_norm)\n",
    "            self.policy.optimizer.step()\n",
    "\n",
    "        # Increase update counter\n",
    "        self._n_updates += gradient_steps\n",
    "        self.logger.record(\"train/n_updates\", self._n_updates, exclude=\"tensorboard\")\n",
    "        self.logger.record(\"train/loss\", np.mean(losses))"
   ]
  },
  {
   "cell_type": "markdown",
   "metadata": {},
   "source": [
    "### Environment creation and logging"
   ]
  },
  {
   "cell_type": "code",
   "execution_count": 5,
   "metadata": {
    "_kg_hide-input": false,
    "_kg_hide-output": false
   },
   "outputs": [],
   "source": [
    "scenarios = {0: \"academy_empty_goal_close\",\n",
    "             1: \"academy_empty_goal\",\n",
    "             2: \"academy_run_to_score\",\n",
    "             3: \"academy_run_to_score_with_keeper\",\n",
    "             4: \"academy_pass_and_shoot_with_keeper\",\n",
    "             5: \"academy_run_pass_and_shoot_with_keeper\",\n",
    "             6: \"academy_3_vs_1_with_keeper\",\n",
    "             7: \"academy_corner\",\n",
    "             8: \"academy_counterattack_easy\",\n",
    "             9: \"academy_counterattack_hard\",\n",
    "             10: \"academy_single_goal_versus_lazy\",\n",
    "             11: \"11_vs_11_kaggle\",\n",
    "             12: \"11_vs_11_stochastic\",\n",
    "             13: \"11_vs_11_easy_stochastic\",\n",
    "             14: \"11_vs_11_hard_stochastic\"}\n",
    "\n",
    "scenario_name = scenarios[13]"
   ]
  },
  {
   "cell_type": "code",
   "execution_count": 6,
   "metadata": {},
   "outputs": [],
   "source": [
    "from typing import Callable\n",
    "from stable_baselines3.common.utils import set_random_seed\n",
    "def make_env(config: dict, rank: int, log_save_dir: str, seed: int = 42) -> Callable:\n",
    "    \"\"\"\n",
    "    Utility function for multiprocessed env.\n",
    "    \n",
    "    :param env_id: (str) the environment ID\n",
    "    :param num_env: (int) the number of environment you wish to have in subprocesses\n",
    "    :param seed: (int) the inital seed for RNG\n",
    "    :param rank: (int) index of the subprocess\n",
    "    :return: (Callable)\n",
    "    \"\"\"\n",
    "    def _init() -> gym.Env:\n",
    "        env = FootballGym(config, rewards='scoring')\n",
    "#         env = FootballGym(config, rewards='scoring,checkpoints')\n",
    "        log_file = os.path.join(log_save_dir, str(rank))\n",
    "        env = Monitor(env, log_file, allow_early_resets=True)\n",
    "        env.seed(seed + rank)\n",
    "        return env\n",
    "    set_random_seed(seed)\n",
    "    return _init"
   ]
  },
  {
   "cell_type": "code",
   "execution_count": 7,
   "metadata": {},
   "outputs": [
    {
     "name": "stdout",
     "output_type": "stream",
     "text": [
      "27-05-2022-01-27-38\n",
      "Log dir: ../logs/dqn_logs/27-05-2022-01-27-38\n"
     ]
    }
   ],
   "source": [
    "# Creating the vectorized training environmewnt and also creating the direcotry for logging\n",
    "\n",
    "timestamp = time.strftime('%d-%m-%Y-%H-%M-%S', time.localtime())\n",
    "print(timestamp)\n",
    "\n",
    "n_envs = 8\n",
    "config={\"env_name\":scenario_name}\n",
    "log_save_dir = os.path.join(\"../logs/dqn_logs\", timestamp)\n",
    "print(f\"Log dir: {log_save_dir}\")\n",
    "os.mkdir(log_save_dir)\n",
    "train_env = SubprocVecEnv([make_env(config, rank=i, log_save_dir=log_save_dir) for i in range(n_envs)])"
   ]
  },
  {
   "cell_type": "markdown",
   "metadata": {},
   "source": [
    "### Initializing the Vanilla DQN model\n",
    "--- \n",
    "Uncomment the following cell if you want to use the vanilla DQN instead of Double DQN"
   ]
  },
  {
   "cell_type": "code",
   "execution_count": 8,
   "metadata": {
    "scrolled": true
   },
   "outputs": [],
   "source": [
    "# Configuring the DQN net like SB3's network structure\n",
    "# Only one layer for the feature extraction and the rest for the Q value computation\n",
    "# from stable_baselines3 import DQN\n",
    "\n",
    "# policy_kwargs = dict(\n",
    "#     net_arch = [1024, 1024, 1024],\n",
    "#     activation_fn = torch.nn.GELU\n",
    "# )\n",
    "# model_name = \"dqn\"\n",
    "# model = DQN(policy=\"MlpPolicy\", \n",
    "#             env=train_env, \n",
    "#             policy_kwargs=policy_kwargs, \n",
    "#             verbose=1,\n",
    "#             exploration_initial_eps=0.00,\n",
    "#             exploration_final_eps=0.0,\n",
    "#             target_update_interval=15000,\n",
    "# #             learning_rate=hparams['lr'],\n",
    "# #             batch_size=hparams['batch_size'],\n",
    "#             seed=42,\n",
    "#             tensorboard_log='tb_logs_DQN',\n",
    "#             learning_starts=100000,\n",
    "#            )\n",
    "# model.policy\n",
    "           "
   ]
  },
  {
   "cell_type": "markdown",
   "metadata": {},
   "source": [
    "### Double DQN"
   ]
  },
  {
   "cell_type": "code",
   "execution_count": 9,
   "metadata": {
    "scrolled": true
   },
   "outputs": [
    {
     "name": "stdout",
     "output_type": "stream",
     "text": [
      "Using cuda device\n"
     ]
    },
    {
     "data": {
      "text/plain": [
       "DQNPolicy(\n",
       "  (q_net): QNetwork(\n",
       "    (features_extractor): FlattenExtractor(\n",
       "      (flatten): Flatten(start_dim=1, end_dim=-1)\n",
       "    )\n",
       "    (q_net): Sequential(\n",
       "      (0): Linear(in_features=115, out_features=1024, bias=True)\n",
       "      (1): ReLU()\n",
       "      (2): Dropout(p=0.25, inplace=False)\n",
       "      (3): Linear(in_features=1024, out_features=1024, bias=True)\n",
       "      (4): ReLU()\n",
       "      (5): Dropout(p=0.25, inplace=False)\n",
       "      (6): Linear(in_features=1024, out_features=1024, bias=True)\n",
       "      (7): ReLU()\n",
       "      (8): Dropout(p=0.25, inplace=False)\n",
       "      (9): Linear(in_features=1024, out_features=19, bias=True)\n",
       "    )\n",
       "  )\n",
       "  (q_net_target): QNetwork(\n",
       "    (features_extractor): FlattenExtractor(\n",
       "      (flatten): Flatten(start_dim=1, end_dim=-1)\n",
       "    )\n",
       "    (q_net): Sequential(\n",
       "      (0): Linear(in_features=115, out_features=1024, bias=True)\n",
       "      (1): ReLU()\n",
       "      (2): Dropout(p=0.25, inplace=False)\n",
       "      (3): Linear(in_features=1024, out_features=1024, bias=True)\n",
       "      (4): ReLU()\n",
       "      (5): Dropout(p=0.25, inplace=False)\n",
       "      (6): Linear(in_features=1024, out_features=1024, bias=True)\n",
       "      (7): ReLU()\n",
       "      (8): Dropout(p=0.25, inplace=False)\n",
       "      (9): Linear(in_features=1024, out_features=19, bias=True)\n",
       "    )\n",
       "  )\n",
       ")"
      ]
     },
     "execution_count": 9,
     "metadata": {},
     "output_type": "execute_result"
    }
   ],
   "source": [
    "# DDQN\n",
    "\n",
    "policy_kwargs = dict(\n",
    "    net_arch = [1024, 1024, 1024],\n",
    "    activation_fn = torch.nn.ReLU\n",
    ")\n",
    "\n",
    "# policy_kwargs = dict(features_extractor_class=FootballMLP,\n",
    "#                      features_extractor_kwargs=dict(features_dim=1024),\n",
    "#                     net_arch = [],\n",
    "#                     )\n",
    "model_name = \"ddqn\"\n",
    "model = DDQN(policy=\"MlpPolicy\", \n",
    "            env=train_env, \n",
    "            policy_kwargs=policy_kwargs, \n",
    "            verbose=1,\n",
    "            exploration_initial_eps=0.05,\n",
    "            exploration_final_eps=0.05,\n",
    "            target_update_interval=150000,\n",
    "#             learning_rate=0.0000001,\n",
    "#             batch_size=hparams['batch_size'],\n",
    "            seed=42,\n",
    "            tensorboard_log='../logs/tb_logs_DDQN',\n",
    "            train_freq=3002,\n",
    "#             learning_starts=100000,\n",
    "           )\n",
    "\n",
    "model.policy\n",
    "           "
   ]
  },
  {
   "cell_type": "code",
   "execution_count": 10,
   "metadata": {},
   "outputs": [
    {
     "data": {
      "text/plain": [
       "OrderedDict([('q_net.q_net.0.weight',\n",
       "              tensor([[ 0.0713,  0.0774, -0.0218,  ...,  0.0287, -0.0870, -0.0612],\n",
       "                      [-0.0310,  0.0146, -0.0821,  ...,  0.0340, -0.0650, -0.0920],\n",
       "                      [-0.0757,  0.0695,  0.0448,  ..., -0.0473, -0.0831, -0.0754],\n",
       "                      ...,\n",
       "                      [ 0.0181, -0.0042,  0.0872,  ..., -0.0375,  0.0428, -0.0366],\n",
       "                      [ 0.0651, -0.0373, -0.0710,  ..., -0.0832, -0.0721, -0.0251],\n",
       "                      [ 0.0364,  0.0165, -0.0706,  ..., -0.0749, -0.0038, -0.0388]],\n",
       "                     device='cuda:0')),\n",
       "             ('q_net.q_net.0.bias',\n",
       "              tensor([ 0.0160, -0.0134,  0.0441,  ..., -0.0526,  0.0454,  0.0675],\n",
       "                     device='cuda:0')),\n",
       "             ('q_net.q_net.3.weight',\n",
       "              tensor([[-0.0255,  0.0123,  0.0094,  ...,  0.0126, -0.0018, -0.0055],\n",
       "                      [-0.0208, -0.0291,  0.0197,  ..., -0.0082,  0.0235, -0.0024],\n",
       "                      [-0.0307, -0.0259, -0.0177,  ...,  0.0169,  0.0296,  0.0147],\n",
       "                      ...,\n",
       "                      [ 0.0146,  0.0280, -0.0278,  ..., -0.0078, -0.0132,  0.0310],\n",
       "                      [ 0.0026, -0.0239, -0.0200,  ..., -0.0101, -0.0215,  0.0056],\n",
       "                      [-0.0067, -0.0168, -0.0024,  ..., -0.0090,  0.0293, -0.0270]],\n",
       "                     device='cuda:0')),\n",
       "             ('q_net.q_net.3.bias',\n",
       "              tensor([-0.0288, -0.0297,  0.0013,  ..., -0.0179, -0.0292,  0.0259],\n",
       "                     device='cuda:0')),\n",
       "             ('q_net.q_net.6.weight',\n",
       "              tensor([[-0.0088,  0.0243,  0.0100,  ..., -0.0285,  0.0030,  0.0190],\n",
       "                      [ 0.0162,  0.0141,  0.0199,  ...,  0.0025, -0.0223,  0.0070],\n",
       "                      [ 0.0110, -0.0051,  0.0196,  ...,  0.0157,  0.0298, -0.0169],\n",
       "                      ...,\n",
       "                      [-0.0112, -0.0210, -0.0201,  ...,  0.0196,  0.0088,  0.0025],\n",
       "                      [-0.0189, -0.0104, -0.0096,  ...,  0.0207,  0.0158, -0.0001],\n",
       "                      [ 0.0032, -0.0308,  0.0202,  ..., -0.0185,  0.0088,  0.0156]],\n",
       "                     device='cuda:0')),\n",
       "             ('q_net.q_net.6.bias',\n",
       "              tensor([-0.0271, -0.0137, -0.0004,  ...,  0.0217, -0.0211, -0.0044],\n",
       "                     device='cuda:0')),\n",
       "             ('q_net.q_net.9.weight',\n",
       "              tensor([[ 2.2679e-03,  2.9527e-03, -3.7972e-03,  ...,  1.8912e-03,\n",
       "                        1.2423e-02, -1.3740e-03],\n",
       "                      [-2.2740e-02, -5.8547e-03,  1.9593e-02,  ...,  5.0601e-05,\n",
       "                        1.3634e-02,  1.8259e-02],\n",
       "                      [-1.6581e-03, -1.6516e-02,  2.9678e-02,  ...,  1.7763e-02,\n",
       "                        8.6807e-03,  1.5161e-02],\n",
       "                      ...,\n",
       "                      [-1.1026e-02,  3.5610e-03, -2.7558e-02,  ...,  2.5819e-02,\n",
       "                        1.0931e-02,  2.5113e-02],\n",
       "                      [ 2.7627e-02, -2.8319e-02,  2.8454e-02,  ..., -1.0407e-02,\n",
       "                       -5.1466e-03, -3.0169e-02],\n",
       "                      [ 2.0010e-02,  2.7404e-02,  2.2932e-02,  ..., -9.1586e-03,\n",
       "                        4.1995e-03, -1.3085e-02]], device='cuda:0')),\n",
       "             ('q_net.q_net.9.bias',\n",
       "              tensor([-0.0020,  0.0004,  0.0307,  0.0143,  0.0277, -0.0170,  0.0033, -0.0079,\n",
       "                       0.0005,  0.0043, -0.0253, -0.0021, -0.0115,  0.0178,  0.0163, -0.0257,\n",
       "                       0.0290,  0.0059,  0.0028], device='cuda:0')),\n",
       "             ('q_net_target.q_net.0.weight',\n",
       "              tensor([[ 0.0713,  0.0774, -0.0218,  ...,  0.0287, -0.0870, -0.0612],\n",
       "                      [-0.0310,  0.0146, -0.0821,  ...,  0.0340, -0.0650, -0.0920],\n",
       "                      [-0.0757,  0.0695,  0.0448,  ..., -0.0473, -0.0831, -0.0754],\n",
       "                      ...,\n",
       "                      [ 0.0181, -0.0042,  0.0872,  ..., -0.0375,  0.0428, -0.0366],\n",
       "                      [ 0.0651, -0.0373, -0.0710,  ..., -0.0832, -0.0721, -0.0251],\n",
       "                      [ 0.0364,  0.0165, -0.0706,  ..., -0.0749, -0.0038, -0.0388]],\n",
       "                     device='cuda:0')),\n",
       "             ('q_net_target.q_net.0.bias',\n",
       "              tensor([ 0.0160, -0.0134,  0.0441,  ..., -0.0526,  0.0454,  0.0675],\n",
       "                     device='cuda:0')),\n",
       "             ('q_net_target.q_net.3.weight',\n",
       "              tensor([[-0.0255,  0.0123,  0.0094,  ...,  0.0126, -0.0018, -0.0055],\n",
       "                      [-0.0208, -0.0291,  0.0197,  ..., -0.0082,  0.0235, -0.0024],\n",
       "                      [-0.0307, -0.0259, -0.0177,  ...,  0.0169,  0.0296,  0.0147],\n",
       "                      ...,\n",
       "                      [ 0.0146,  0.0280, -0.0278,  ..., -0.0078, -0.0132,  0.0310],\n",
       "                      [ 0.0026, -0.0239, -0.0200,  ..., -0.0101, -0.0215,  0.0056],\n",
       "                      [-0.0067, -0.0168, -0.0024,  ..., -0.0090,  0.0293, -0.0270]],\n",
       "                     device='cuda:0')),\n",
       "             ('q_net_target.q_net.3.bias',\n",
       "              tensor([-0.0288, -0.0297,  0.0013,  ..., -0.0179, -0.0292,  0.0259],\n",
       "                     device='cuda:0')),\n",
       "             ('q_net_target.q_net.6.weight',\n",
       "              tensor([[-0.0088,  0.0243,  0.0100,  ..., -0.0285,  0.0030,  0.0190],\n",
       "                      [ 0.0162,  0.0141,  0.0199,  ...,  0.0025, -0.0223,  0.0070],\n",
       "                      [ 0.0110, -0.0051,  0.0196,  ...,  0.0157,  0.0298, -0.0169],\n",
       "                      ...,\n",
       "                      [-0.0112, -0.0210, -0.0201,  ...,  0.0196,  0.0088,  0.0025],\n",
       "                      [-0.0189, -0.0104, -0.0096,  ...,  0.0207,  0.0158, -0.0001],\n",
       "                      [ 0.0032, -0.0308,  0.0202,  ..., -0.0185,  0.0088,  0.0156]],\n",
       "                     device='cuda:0')),\n",
       "             ('q_net_target.q_net.6.bias',\n",
       "              tensor([-0.0271, -0.0137, -0.0004,  ...,  0.0217, -0.0211, -0.0044],\n",
       "                     device='cuda:0')),\n",
       "             ('q_net_target.q_net.9.weight',\n",
       "              tensor([[ 2.2679e-03,  2.9527e-03, -3.7972e-03,  ...,  1.8912e-03,\n",
       "                        1.2423e-02, -1.3740e-03],\n",
       "                      [-2.2740e-02, -5.8547e-03,  1.9593e-02,  ...,  5.0601e-05,\n",
       "                        1.3634e-02,  1.8259e-02],\n",
       "                      [-1.6581e-03, -1.6516e-02,  2.9678e-02,  ...,  1.7763e-02,\n",
       "                        8.6807e-03,  1.5161e-02],\n",
       "                      ...,\n",
       "                      [-1.1026e-02,  3.5610e-03, -2.7558e-02,  ...,  2.5819e-02,\n",
       "                        1.0931e-02,  2.5113e-02],\n",
       "                      [ 2.7627e-02, -2.8319e-02,  2.8454e-02,  ..., -1.0407e-02,\n",
       "                       -5.1466e-03, -3.0169e-02],\n",
       "                      [ 2.0010e-02,  2.7404e-02,  2.2932e-02,  ..., -9.1586e-03,\n",
       "                        4.1995e-03, -1.3085e-02]], device='cuda:0')),\n",
       "             ('q_net_target.q_net.9.bias',\n",
       "              tensor([-0.0020,  0.0004,  0.0307,  0.0143,  0.0277, -0.0170,  0.0033, -0.0079,\n",
       "                       0.0005,  0.0043, -0.0253, -0.0021, -0.0115,  0.0178,  0.0163, -0.0257,\n",
       "                       0.0290,  0.0059,  0.0028], device='cuda:0'))])"
      ]
     },
     "execution_count": 10,
     "metadata": {},
     "output_type": "execute_result"
    }
   ],
   "source": [
    "model.policy.state_dict()"
   ]
  },
  {
   "cell_type": "markdown",
   "metadata": {},
   "source": [
    "#### Loading IL agent's weights\n",
    "---\n",
    "Download the checkpoints from here: [IL agent checkpoints](https://drive.google.com/drive/folders/1QwyPsWdGfJMhjEcBIhNot15iij_VRx_U?usp=sharing)\n",
    "\n",
    "Modify the path of the checkpoints"
   ]
  },
  {
   "cell_type": "code",
   "execution_count": 11,
   "metadata": {},
   "outputs": [
    {
     "data": {
      "text/plain": [
       "{'epoch': 147,\n",
       " 'global_step': 479367,\n",
       " 'pytorch-lightning_version': '1.5.10',\n",
       " 'state_dict': OrderedDict([('model.0.weight',\n",
       "               tensor([[-1.2712,  1.7235, -0.8170,  ..., -0.7283, -1.0528, -0.3971],\n",
       "                       [ 0.2426, -0.4846, -0.1319,  ..., -0.3745,  0.1083, -0.1955],\n",
       "                       [ 0.1865, -0.4384,  0.2724,  ...,  0.0148, -0.0946, -0.1312],\n",
       "                       ...,\n",
       "                       [ 0.9357, -2.8718, -1.0750,  ..., -1.5358,  0.2322, -0.8907],\n",
       "                       [ 2.0421, -4.0784, -1.6789,  ..., -0.9545,  0.5744,  0.2149],\n",
       "                       [ 1.1143,  1.9087,  0.0565,  ..., -0.2459, -0.7759, -0.8163]],\n",
       "                      device='cuda:0')),\n",
       "              ('model.0.bias',\n",
       "               tensor([-0.6341, -0.3114, -0.1605,  ..., -0.9393, -2.3791, -0.4585],\n",
       "                      device='cuda:0')),\n",
       "              ('model.3.weight',\n",
       "               tensor([[-1.1699,  0.0614, -0.0255,  ..., -0.2109, -3.2698, -1.0542],\n",
       "                       [ 0.0258, -0.0823, -0.1066,  ..., -0.0416, -0.0200, -0.0641],\n",
       "                       [ 0.7147,  0.0290, -0.0926,  ..., -2.2392, -0.4437, -1.1654],\n",
       "                       ...,\n",
       "                       [-0.8139, -0.3083,  0.0174,  ...,  0.5140,  0.0829, -0.2274],\n",
       "                       [-1.7738, -0.1600, -0.0087,  ...,  2.0135, -1.0897,  1.1122],\n",
       "                       [-3.6944, -0.2209,  0.0721,  ...,  0.6070, -0.5319, -0.3929]],\n",
       "                      device='cuda:0')),\n",
       "              ('model.3.bias',\n",
       "               tensor([-0.9369, -0.3879, -1.3286,  ..., -3.1542, -0.6457, -1.4381],\n",
       "                      device='cuda:0')),\n",
       "              ('model.6.weight',\n",
       "               tensor([[-0.7260, -0.0435, -1.2505,  ..., -0.4365, -1.3087,  0.0558],\n",
       "                       [-0.7509, -0.0897, -0.0494,  ...,  2.2529,  0.5048, -0.2405],\n",
       "                       [-0.2827, -0.0554, -0.1291,  ...,  1.0744, -0.4554,  0.8566],\n",
       "                       ...,\n",
       "                       [-0.6603, -0.0746,  0.0363,  ..., -0.3871,  0.3909, -0.6946],\n",
       "                       [-0.3315, -0.0142, -0.2286,  ..., -0.5628, -0.5618,  0.3244],\n",
       "                       [ 0.3361,  0.0034,  0.3425,  ...,  0.2855,  0.0306, -0.5647]],\n",
       "                      device='cuda:0')),\n",
       "              ('model.6.bias',\n",
       "               tensor([-3.9324, -5.8118, -7.3417,  ..., -5.6045, -6.7020, -5.3817],\n",
       "                      device='cuda:0')),\n",
       "              ('model.9.weight',\n",
       "               tensor([[-4.2259e-01, -2.7937e-03, -3.1767e-01,  ..., -5.3155e-01,\n",
       "                        -1.5168e-01, -1.7476e-01],\n",
       "                       [-2.7354e+00, -1.7560e+00, -3.0881e+00,  ..., -3.7101e+00,\n",
       "                        -3.2042e+00, -1.1286e+00],\n",
       "                       [-1.9991e+00, -1.8066e+00, -1.3018e+00,  ..., -3.2481e+00,\n",
       "                        -3.8814e+00, -2.2249e+00],\n",
       "                       ...,\n",
       "                       [-4.6304e-01, -8.9078e-02, -2.9618e-01,  ..., -3.8560e-01,\n",
       "                        -1.7110e-01, -2.3988e-02],\n",
       "                       [-4.8257e-01, -1.2668e-01, -3.9707e-01,  ..., -3.5611e-01,\n",
       "                        -1.9382e-01, -2.8564e-02],\n",
       "                       [-4.8085e-01, -1.0861e-01, -2.9776e-01,  ..., -4.1145e-01,\n",
       "                        -2.6860e-01, -7.6261e-02]], device='cuda:0')),\n",
       "              ('model.9.bias',\n",
       "               tensor([-1.4722e+01,  4.2186e-02, -6.0975e-02,  1.7896e-01,  3.2716e-01,\n",
       "                        2.3543e-01, -1.7752e-02, -8.5424e-02, -3.1228e-01,  1.0612e-02,\n",
       "                       -1.0615e-01, -6.7585e-01, -3.4433e-01,  9.2337e-02, -1.4248e+01,\n",
       "                       -1.4835e+01, -1.4723e+01, -1.4629e+01, -1.4392e+01], device='cuda:0'))]),\n",
       " 'callbacks': {\"EarlyStopping{'monitor': 'val_loss', 'mode': 'min'}\": {'wait_count': 10,\n",
       "   'stopped_epoch': 146,\n",
       "   'best_score': tensor(1.3456, device='cuda:0'),\n",
       "   'patience': 10},\n",
       "  \"ModelCheckpoint{'monitor': None, 'mode': 'min', 'every_n_train_steps': 0, 'every_n_epochs': 1, 'train_time_interval': None, 'save_on_train_epoch_end': True}\": {'monitor': None,\n",
       "   'best_model_score': None,\n",
       "   'best_model_path': '/media/ssk/DATA/GRP_code/gr_football_analytics/notebooks/lightning_logs/version_38/checkpoints/epoch=146-step=479366.ckpt',\n",
       "   'current_score': None,\n",
       "   'dirpath': '/media/ssk/DATA/GRP_code/gr_football_analytics/notebooks/lightning_logs/version_38/checkpoints',\n",
       "   'best_k_models': {},\n",
       "   'kth_best_model_path': '',\n",
       "   'kth_value': tensor(inf),\n",
       "   'last_model_path': ''}},\n",
       " 'optimizer_states': [{'state': {0: {'step': 479367,\n",
       "     'exp_avg': tensor([[-1.6101e-03,  2.1322e-05, -7.4591e-04,  ...,  1.2841e-10,\n",
       "               5.6052e-45,  9.8378e-07],\n",
       "             [-5.6052e-45,  5.6052e-45,  5.6052e-45,  ..., -5.6052e-45,\n",
       "              -5.6052e-45,  5.6052e-45],\n",
       "             [-5.6052e-45, -5.6052e-45,  5.6052e-45,  ...,  5.6052e-45,\n",
       "               5.6052e-45, -5.6052e-45],\n",
       "             ...,\n",
       "             [ 5.2331e-04,  1.3445e-06, -1.1211e-04,  ...,  5.2093e-05,\n",
       "               1.6526e-04,  5.6052e-45],\n",
       "             [ 1.1776e-07,  2.8709e-10,  2.5054e-08,  ..., -5.0340e-12,\n",
       "              -5.6052e-45, -5.6052e-45],\n",
       "             [ 4.5729e-03, -5.5788e-05,  1.2405e-03,  ..., -5.6052e-45,\n",
       "               5.6052e-45,  1.2581e-13]], device='cuda:0'),\n",
       "     'exp_avg_sq': tensor([[6.4505e-05, 1.0993e-07, 1.5642e-05,  ..., 6.0872e-10, 1.0172e-14,\n",
       "              3.8651e-08],\n",
       "             [7.0065e-43, 7.0065e-43, 7.0065e-43,  ..., 7.0065e-43, 7.0065e-43,\n",
       "              7.0065e-43],\n",
       "             [7.0065e-43, 7.0065e-43, 7.0065e-43,  ..., 7.0065e-43, 7.0065e-43,\n",
       "              7.0065e-43],\n",
       "             ...,\n",
       "             [1.8585e-05, 2.7495e-10, 2.1706e-06,  ..., 2.0012e-07, 1.3284e-06,\n",
       "              1.0568e-14],\n",
       "             [3.2395e-06, 3.7153e-10, 2.7114e-06,  ..., 2.8595e-06, 2.6465e-12,\n",
       "              7.0065e-43],\n",
       "             [7.7860e-05, 1.5472e-07, 1.3472e-05,  ..., 9.6737e-10, 1.0033e-26,\n",
       "              1.8659e-08]], device='cuda:0')},\n",
       "    1: {'step': 479367,\n",
       "     'exp_avg': tensor([ 1.6341e-03,  5.6052e-45,  5.6052e-45,  ..., -6.4794e-04,\n",
       "             -1.7774e-07, -4.9022e-03], device='cuda:0'),\n",
       "     'exp_avg_sq': tensor([7.1683e-05, 7.0065e-43, 7.0065e-43,  ..., 2.3473e-05, 3.3362e-06,\n",
       "             9.4914e-05], device='cuda:0')},\n",
       "    2: {'step': 479367,\n",
       "     'exp_avg': tensor([[ 8.6941e-05,  5.6052e-45,  5.6052e-45,  ..., -3.1256e-07,\n",
       "               6.7410e-14,  3.4018e-05],\n",
       "             [ 5.6052e-45, -5.6052e-45,  5.6052e-45,  ...,  5.6052e-45,\n",
       "              -5.6052e-45,  5.6052e-45],\n",
       "             [-1.2483e-17,  5.6052e-45,  5.6052e-45,  ...,  1.7679e-08,\n",
       "               5.6052e-45, -5.6605e-06],\n",
       "             ...,\n",
       "             [-8.5842e-06, -5.6052e-45,  5.6052e-45,  ..., -7.3801e-06,\n",
       "              -5.6052e-45, -1.2191e-06],\n",
       "             [-1.2059e-05, -5.6052e-45,  5.6052e-45,  ...,  3.1420e-07,\n",
       "               5.6052e-45, -8.5179e-06],\n",
       "             [ 2.0197e-08, -5.6052e-45, -5.6052e-45,  ..., -1.2869e-05,\n",
       "              -5.6052e-45, -1.8529e-05]], device='cuda:0'),\n",
       "     'exp_avg_sq': tensor([[3.1441e-09, 7.0065e-43, 7.0065e-43,  ..., 2.9100e-09, 2.8453e-11,\n",
       "              9.9118e-09],\n",
       "             [7.0065e-43, 7.0065e-43, 7.0065e-43,  ..., 7.0065e-43, 7.0065e-43,\n",
       "              7.0065e-43],\n",
       "             [1.2363e-10, 7.0065e-43, 7.0065e-43,  ..., 4.6440e-10, 7.0065e-43,\n",
       "              4.9621e-09],\n",
       "             ...,\n",
       "             [6.2078e-09, 7.0065e-43, 7.0065e-43,  ..., 2.7905e-08, 1.5933e-17,\n",
       "              1.9908e-08],\n",
       "             [1.2174e-08, 7.0065e-43, 7.0065e-43,  ..., 2.9987e-09, 2.6329e-13,\n",
       "              4.1563e-08],\n",
       "             [5.0443e-10, 7.0065e-43, 7.0065e-43,  ..., 7.1565e-08, 3.8024e-32,\n",
       "              2.0895e-08]], device='cuda:0')},\n",
       "    3: {'step': 479367,\n",
       "     'exp_avg': tensor([ 1.1584e-04,  5.6052e-45, -2.9805e-05,  ...,  1.0390e-04,\n",
       "              2.1449e-04, -7.8001e-06], device='cuda:0'),\n",
       "     'exp_avg_sq': tensor([1.6480e-06, 7.0065e-43, 8.5246e-07,  ..., 5.4358e-07, 1.2976e-06,\n",
       "             1.9142e-06], device='cuda:0')},\n",
       "    4: {'step': 479367,\n",
       "     'exp_avg': tensor([[ 5.6052e-45,  5.6052e-45, -5.6052e-45,  ..., -5.6052e-45,\n",
       "               5.6052e-45, -5.6052e-45],\n",
       "             [-5.6052e-45,  5.6052e-45, -5.6052e-45,  ..., -5.6052e-45,\n",
       "               5.6052e-45, -5.6052e-45],\n",
       "             [ 5.6052e-45,  5.6052e-45, -5.6052e-45,  ..., -5.6052e-45,\n",
       "              -5.6052e-45, -5.6052e-45],\n",
       "             ...,\n",
       "             [ 5.6052e-45,  5.6052e-45,  5.6052e-45,  ...,  2.8026e-45,\n",
       "              -5.6052e-45,  5.6052e-45],\n",
       "             [ 5.6052e-45, -5.6052e-45, -5.6052e-45,  ...,  5.6052e-45,\n",
       "               5.6052e-45,  5.6052e-45],\n",
       "             [-5.6052e-45,  5.6052e-45,  5.6052e-45,  ...,  5.6052e-45,\n",
       "               5.6052e-45,  5.6052e-45]], device='cuda:0'),\n",
       "     'exp_avg_sq': tensor([[2.0430e-25, 7.0065e-43, 7.0065e-43,  ..., 6.4653e-17, 9.4195e-15,\n",
       "              8.7850e-25],\n",
       "             [7.0065e-43, 7.0065e-43, 7.0065e-43,  ..., 1.2413e-25, 7.0065e-43,\n",
       "              7.0065e-43],\n",
       "             [8.9393e-10, 7.0065e-43, 7.0065e-43,  ..., 3.7023e-23, 3.5276e-31,\n",
       "              7.9332e-13],\n",
       "             ...,\n",
       "             [7.0065e-43, 7.0065e-43, 7.0065e-43,  ..., 7.0065e-43, 7.4677e-25,\n",
       "              7.0065e-43],\n",
       "             [1.6309e-09, 7.0065e-43, 1.7715e-39,  ..., 6.3506e-09, 7.0065e-43,\n",
       "              1.8728e-37],\n",
       "             [7.0065e-43, 7.0065e-43, 7.0065e-43,  ..., 7.0065e-43, 7.0065e-43,\n",
       "              7.0065e-43]], device='cuda:0')},\n",
       "    5: {'step': 479367,\n",
       "     'exp_avg': tensor([ 1.5365e-13, -5.6052e-45, -1.9790e-20,  ..., -5.6052e-45,\n",
       "              5.6052e-45, -5.6052e-45], device='cuda:0'),\n",
       "     'exp_avg_sq': tensor([1.4342e-09, 1.4929e-27, 2.3944e-10,  ..., 2.8366e-12, 1.9209e-09,\n",
       "             1.9739e-32], device='cuda:0')},\n",
       "    6: {'step': 479367,\n",
       "     'exp_avg': tensor([[ 5.6052e-45,  5.6052e-45,  5.6052e-45,  ...,  5.6052e-45,\n",
       "               5.6052e-45,  5.6052e-45],\n",
       "             [ 4.7175e-28,  5.6052e-45,  5.7493e-22,  ...,  5.6052e-45,\n",
       "               5.6052e-45,  5.6052e-45],\n",
       "             [ 1.5557e-22,  5.6052e-45, -5.8464e-20,  ...,  5.6052e-45,\n",
       "               5.6052e-45,  5.6052e-45],\n",
       "             ...,\n",
       "             [ 5.6052e-45,  5.6052e-45,  5.6052e-45,  ...,  5.6052e-45,\n",
       "               5.6052e-45,  5.6052e-45],\n",
       "             [ 5.6052e-45,  5.6052e-45,  5.6052e-45,  ...,  5.6052e-45,\n",
       "               5.6052e-45,  5.6052e-45],\n",
       "             [ 5.6052e-45,  5.6052e-45,  5.6052e-45,  ...,  5.6052e-45,\n",
       "               5.6052e-45,  5.6052e-45]], device='cuda:0'),\n",
       "     'exp_avg_sq': tensor([[7.0065e-43, 6.1651e-38, 7.0065e-43,  ..., 1.0015e-41, 6.7874e-22,\n",
       "              7.0065e-43],\n",
       "             [5.9917e-23, 7.0065e-43, 3.2609e-13,  ..., 1.6284e-31, 1.2511e-18,\n",
       "              5.5325e-30],\n",
       "             [8.1109e-20, 7.0065e-43, 6.3047e-09,  ..., 2.2974e-28, 2.9449e-16,\n",
       "              4.3791e-42],\n",
       "             ...,\n",
       "             [7.0065e-43, 1.6356e-25, 7.0065e-43,  ..., 7.0065e-43, 6.5972e-25,\n",
       "              7.0065e-43],\n",
       "             [7.0065e-43, 7.0065e-43, 6.0939e-40,  ..., 7.0065e-43, 3.9420e-22,\n",
       "              7.0065e-43],\n",
       "             [7.0065e-43, 1.5764e-28, 7.0065e-43,  ..., 7.0065e-43, 1.3537e-15,\n",
       "              7.0065e-43]], device='cuda:0')},\n",
       "    7: {'step': 479367,\n",
       "     'exp_avg': tensor([ 5.3712e-13, -4.9893e-03, -2.8806e-03,  7.2319e-03,  3.0017e-03,\n",
       "             -6.5172e-03, -1.0467e-04,  2.4978e-03, -4.6229e-03,  1.1648e-03,\n",
       "             -3.0199e-03,  5.8534e-04,  2.1275e-03,  5.4362e-03,  1.1732e-08,\n",
       "              4.5728e-13,  3.9228e-14,  7.5733e-08,  8.9275e-05], device='cuda:0'),\n",
       "     'exp_avg_sq': tensor([1.5439e-14, 2.7361e-04, 2.1745e-04, 3.0326e-04, 3.7364e-04, 4.3123e-04,\n",
       "             3.0160e-04, 2.3065e-04, 1.8556e-04, 9.9791e-05, 3.7633e-05, 3.9399e-05,\n",
       "             3.6874e-05, 6.1357e-04, 9.3327e-16, 4.1352e-09, 1.5851e-09, 3.2092e-13,\n",
       "             1.5018e-08], device='cuda:0')}},\n",
       "   'param_groups': [{'lr': 0.002,\n",
       "     'betas': (0.9, 0.999),\n",
       "     'eps': 1e-08,\n",
       "     'weight_decay': 0,\n",
       "     'amsgrad': False,\n",
       "     'maximize': False,\n",
       "     'params': [0, 1, 2, 3, 4, 5, 6, 7]}]}],\n",
       " 'lr_schedulers': [],\n",
       " 'hyper_parameters': {'hidden_size': 1024,\n",
       "  'lr': 0.002,\n",
       "  'lr_decay_rate': 0.25,\n",
       "  'batch_size': 256,\n",
       "  'activation': 'ReLU'}}"
      ]
     },
     "execution_count": 11,
     "metadata": {},
     "output_type": "execute_result"
    }
   ],
   "source": [
    "# IL agent with BN\n",
    "# checkpoint_path = \"../il_agent_checkpoints/epoch=208-step=681548.ckpt\"\n",
    "\n",
    "# IL agent without BN\n",
    "checkpoint_path = \"../il_agent_checkpoints/epoch=146-step=479366.ckpt\"\n",
    "checkpoint_dict = torch.load(checkpoint_path)\n",
    "checkpoint_dict"
   ]
  },
  {
   "cell_type": "code",
   "execution_count": 12,
   "metadata": {
    "scrolled": true
   },
   "outputs": [
    {
     "data": {
      "text/plain": [
       "OrderedDict([('q_net.q_net.0.weight',\n",
       "              tensor([[-1.2712,  1.7235, -0.8170,  ..., -0.7283, -1.0528, -0.3971],\n",
       "                      [ 0.2426, -0.4846, -0.1319,  ..., -0.3745,  0.1083, -0.1955],\n",
       "                      [ 0.1865, -0.4384,  0.2724,  ...,  0.0148, -0.0946, -0.1312],\n",
       "                      ...,\n",
       "                      [ 0.9357, -2.8718, -1.0750,  ..., -1.5358,  0.2322, -0.8907],\n",
       "                      [ 2.0421, -4.0784, -1.6789,  ..., -0.9545,  0.5744,  0.2149],\n",
       "                      [ 1.1143,  1.9087,  0.0565,  ..., -0.2459, -0.7759, -0.8163]],\n",
       "                     device='cuda:0')),\n",
       "             ('q_net.q_net.0.bias',\n",
       "              tensor([-0.6341, -0.3114, -0.1605,  ..., -0.9393, -2.3791, -0.4585],\n",
       "                     device='cuda:0')),\n",
       "             ('q_net.q_net.3.weight',\n",
       "              tensor([[-1.1699,  0.0614, -0.0255,  ..., -0.2109, -3.2698, -1.0542],\n",
       "                      [ 0.0258, -0.0823, -0.1066,  ..., -0.0416, -0.0200, -0.0641],\n",
       "                      [ 0.7147,  0.0290, -0.0926,  ..., -2.2392, -0.4437, -1.1654],\n",
       "                      ...,\n",
       "                      [-0.8139, -0.3083,  0.0174,  ...,  0.5140,  0.0829, -0.2274],\n",
       "                      [-1.7738, -0.1600, -0.0087,  ...,  2.0135, -1.0897,  1.1122],\n",
       "                      [-3.6944, -0.2209,  0.0721,  ...,  0.6070, -0.5319, -0.3929]],\n",
       "                     device='cuda:0')),\n",
       "             ('q_net.q_net.3.bias',\n",
       "              tensor([-0.9369, -0.3879, -1.3286,  ..., -3.1542, -0.6457, -1.4381],\n",
       "                     device='cuda:0')),\n",
       "             ('q_net.q_net.6.weight',\n",
       "              tensor([[-0.7260, -0.0435, -1.2505,  ..., -0.4365, -1.3087,  0.0558],\n",
       "                      [-0.7509, -0.0897, -0.0494,  ...,  2.2529,  0.5048, -0.2405],\n",
       "                      [-0.2827, -0.0554, -0.1291,  ...,  1.0744, -0.4554,  0.8566],\n",
       "                      ...,\n",
       "                      [-0.6603, -0.0746,  0.0363,  ..., -0.3871,  0.3909, -0.6946],\n",
       "                      [-0.3315, -0.0142, -0.2286,  ..., -0.5628, -0.5618,  0.3244],\n",
       "                      [ 0.3361,  0.0034,  0.3425,  ...,  0.2855,  0.0306, -0.5647]],\n",
       "                     device='cuda:0')),\n",
       "             ('q_net.q_net.6.bias',\n",
       "              tensor([-3.9324, -5.8118, -7.3417,  ..., -5.6045, -6.7020, -5.3817],\n",
       "                     device='cuda:0')),\n",
       "             ('q_net.q_net.9.weight',\n",
       "              tensor([[-4.2259e-01, -2.7937e-03, -3.1767e-01,  ..., -5.3155e-01,\n",
       "                       -1.5168e-01, -1.7476e-01],\n",
       "                      [-2.7354e+00, -1.7560e+00, -3.0881e+00,  ..., -3.7101e+00,\n",
       "                       -3.2042e+00, -1.1286e+00],\n",
       "                      [-1.9991e+00, -1.8066e+00, -1.3018e+00,  ..., -3.2481e+00,\n",
       "                       -3.8814e+00, -2.2249e+00],\n",
       "                      ...,\n",
       "                      [-4.6304e-01, -8.9078e-02, -2.9618e-01,  ..., -3.8560e-01,\n",
       "                       -1.7110e-01, -2.3988e-02],\n",
       "                      [-4.8257e-01, -1.2668e-01, -3.9707e-01,  ..., -3.5611e-01,\n",
       "                       -1.9382e-01, -2.8564e-02],\n",
       "                      [-4.8085e-01, -1.0861e-01, -2.9776e-01,  ..., -4.1145e-01,\n",
       "                       -2.6860e-01, -7.6261e-02]], device='cuda:0')),\n",
       "             ('q_net.q_net.9.bias',\n",
       "              tensor([-1.4722e+01,  4.2186e-02, -6.0975e-02,  1.7896e-01,  3.2716e-01,\n",
       "                       2.3543e-01, -1.7752e-02, -8.5424e-02, -3.1228e-01,  1.0612e-02,\n",
       "                      -1.0615e-01, -6.7585e-01, -3.4433e-01,  9.2337e-02, -1.4248e+01,\n",
       "                      -1.4835e+01, -1.4723e+01, -1.4629e+01, -1.4392e+01], device='cuda:0')),\n",
       "             ('q_net_target.q_net.0.weight',\n",
       "              tensor([[-1.2712,  1.7235, -0.8170,  ..., -0.7283, -1.0528, -0.3971],\n",
       "                      [ 0.2426, -0.4846, -0.1319,  ..., -0.3745,  0.1083, -0.1955],\n",
       "                      [ 0.1865, -0.4384,  0.2724,  ...,  0.0148, -0.0946, -0.1312],\n",
       "                      ...,\n",
       "                      [ 0.9357, -2.8718, -1.0750,  ..., -1.5358,  0.2322, -0.8907],\n",
       "                      [ 2.0421, -4.0784, -1.6789,  ..., -0.9545,  0.5744,  0.2149],\n",
       "                      [ 1.1143,  1.9087,  0.0565,  ..., -0.2459, -0.7759, -0.8163]],\n",
       "                     device='cuda:0')),\n",
       "             ('q_net_target.q_net.0.bias',\n",
       "              tensor([-0.6341, -0.3114, -0.1605,  ..., -0.9393, -2.3791, -0.4585],\n",
       "                     device='cuda:0')),\n",
       "             ('q_net_target.q_net.3.weight',\n",
       "              tensor([[-1.1699,  0.0614, -0.0255,  ..., -0.2109, -3.2698, -1.0542],\n",
       "                      [ 0.0258, -0.0823, -0.1066,  ..., -0.0416, -0.0200, -0.0641],\n",
       "                      [ 0.7147,  0.0290, -0.0926,  ..., -2.2392, -0.4437, -1.1654],\n",
       "                      ...,\n",
       "                      [-0.8139, -0.3083,  0.0174,  ...,  0.5140,  0.0829, -0.2274],\n",
       "                      [-1.7738, -0.1600, -0.0087,  ...,  2.0135, -1.0897,  1.1122],\n",
       "                      [-3.6944, -0.2209,  0.0721,  ...,  0.6070, -0.5319, -0.3929]],\n",
       "                     device='cuda:0')),\n",
       "             ('q_net_target.q_net.3.bias',\n",
       "              tensor([-0.9369, -0.3879, -1.3286,  ..., -3.1542, -0.6457, -1.4381],\n",
       "                     device='cuda:0')),\n",
       "             ('q_net_target.q_net.6.weight',\n",
       "              tensor([[-0.7260, -0.0435, -1.2505,  ..., -0.4365, -1.3087,  0.0558],\n",
       "                      [-0.7509, -0.0897, -0.0494,  ...,  2.2529,  0.5048, -0.2405],\n",
       "                      [-0.2827, -0.0554, -0.1291,  ...,  1.0744, -0.4554,  0.8566],\n",
       "                      ...,\n",
       "                      [-0.6603, -0.0746,  0.0363,  ..., -0.3871,  0.3909, -0.6946],\n",
       "                      [-0.3315, -0.0142, -0.2286,  ..., -0.5628, -0.5618,  0.3244],\n",
       "                      [ 0.3361,  0.0034,  0.3425,  ...,  0.2855,  0.0306, -0.5647]],\n",
       "                     device='cuda:0')),\n",
       "             ('q_net_target.q_net.6.bias',\n",
       "              tensor([-3.9324, -5.8118, -7.3417,  ..., -5.6045, -6.7020, -5.3817],\n",
       "                     device='cuda:0')),\n",
       "             ('q_net_target.q_net.9.weight',\n",
       "              tensor([[-4.2259e-01, -2.7937e-03, -3.1767e-01,  ..., -5.3155e-01,\n",
       "                       -1.5168e-01, -1.7476e-01],\n",
       "                      [-2.7354e+00, -1.7560e+00, -3.0881e+00,  ..., -3.7101e+00,\n",
       "                       -3.2042e+00, -1.1286e+00],\n",
       "                      [-1.9991e+00, -1.8066e+00, -1.3018e+00,  ..., -3.2481e+00,\n",
       "                       -3.8814e+00, -2.2249e+00],\n",
       "                      ...,\n",
       "                      [-4.6304e-01, -8.9078e-02, -2.9618e-01,  ..., -3.8560e-01,\n",
       "                       -1.7110e-01, -2.3988e-02],\n",
       "                      [-4.8257e-01, -1.2668e-01, -3.9707e-01,  ..., -3.5611e-01,\n",
       "                       -1.9382e-01, -2.8564e-02],\n",
       "                      [-4.8085e-01, -1.0861e-01, -2.9776e-01,  ..., -4.1145e-01,\n",
       "                       -2.6860e-01, -7.6261e-02]], device='cuda:0')),\n",
       "             ('q_net_target.q_net.9.bias',\n",
       "              tensor([-1.4722e+01,  4.2186e-02, -6.0975e-02,  1.7896e-01,  3.2716e-01,\n",
       "                       2.3543e-01, -1.7752e-02, -8.5424e-02, -3.1228e-01,  1.0612e-02,\n",
       "                      -1.0615e-01, -6.7585e-01, -3.4433e-01,  9.2337e-02, -1.4248e+01,\n",
       "                      -1.4835e+01, -1.4723e+01, -1.4629e+01, -1.4392e+01], device='cuda:0'))])"
      ]
     },
     "execution_count": 12,
     "metadata": {},
     "output_type": "execute_result"
    }
   ],
   "source": [
    "mlp_keys_todqn_keys_dict = {}\n",
    "sd_dqn_model = model.policy.state_dict()\n",
    "count = 0\n",
    "for mlp_key, dqn_key in zip(checkpoint_dict['state_dict'].keys(), model.policy.q_net.state_dict().keys()):\n",
    "    sd_dqn_model['q_net.' + dqn_key] = checkpoint_dict['state_dict'][mlp_key]\n",
    "for mlp_key, dqn_key in zip(checkpoint_dict['state_dict'].keys(), model.policy.q_net_target.state_dict().keys()):\n",
    "    sd_dqn_model['q_net_target.' + dqn_key] = checkpoint_dict['state_dict'][mlp_key]\n",
    "    \n",
    "model.policy.load_state_dict(sd_dqn_model)\n",
    "\n",
    "# Check the model's weights after loading the weights from IL agent\n",
    "model.policy.state_dict()"
   ]
  },
  {
   "cell_type": "markdown",
   "metadata": {},
   "source": [
    "##### Freezing the layers"
   ]
  },
  {
   "cell_type": "code",
   "execution_count": 13,
   "metadata": {},
   "outputs": [],
   "source": [
    "# # For freezing the layers\n",
    "\n",
    "# for idx, param in enumerate(model.policy.parameters()):\n",
    "# #     if param.shape == torch.Size([19, 1024]) or param.shape == torch.Size([19]):\n",
    "#     if param.shape == torch.Size([19]):\n",
    "#         print(param.shape, param.requires_grad)\n",
    "#         param.requires_grad = True\n",
    "#     else:\n",
    "#         param.requires_grad = False\n",
    "#         #     print(param.shape)"
   ]
  },
  {
   "cell_type": "code",
   "execution_count": 14,
   "metadata": {},
   "outputs": [],
   "source": [
    "# for idx, param in enumerate(model.policy.parameters()):\n",
    "#     print(param.shape, param.requires_grad)"
   ]
  },
  {
   "cell_type": "markdown",
   "metadata": {},
   "source": [
    "---\n",
    "# Training"
   ]
  },
  {
   "cell_type": "code",
   "execution_count": 15,
   "metadata": {
    "_kg_hide-input": true,
    "_kg_hide-output": true
   },
   "outputs": [],
   "source": [
    "from tqdm.notebook import tqdm\n",
    "class ProgressBar(BaseCallback):\n",
    "    def __init__(self, verbose=0):\n",
    "        super(ProgressBar, self).__init__(verbose)\n",
    "        self.pbar = None\n",
    "\n",
    "    def _on_training_start(self):\n",
    "        factor = np.ceil(self.locals['total_timesteps'] / n_steps)\n",
    "        print(f\"self.locals['total_timesteps']:{self.locals['total_timesteps']}, n_steps: {n_steps}\")\n",
    "        n = 1\n",
    "        try:\n",
    "            n = len(self.training_env.envs)\n",
    "        except AttributeError:\n",
    "            try:\n",
    "                n = len(self.training_env.remotes)\n",
    "            except AttributeError:\n",
    "                n = 1\n",
    "        total = int(n_steps * factor / n)\n",
    "        self.pbar = tqdm(total=total)\n",
    "\n",
    "    def _on_rollout_start(self):\n",
    "        self.pbar.refresh()\n",
    "\n",
    "    def _on_step(self):\n",
    "        self.pbar.update(1)\n",
    "        return True\n",
    "\n",
    "    def _on_rollout_end(self):\n",
    "        self.pbar.refresh()\n",
    "\n",
    "    def _on_training_end(self):\n",
    "        self.pbar.close()\n",
    "        self.pbar = None\n",
    "\n",
    "progressbar = ProgressBar()"
   ]
  },
  {
   "cell_type": "code",
   "execution_count": 16,
   "metadata": {
    "scrolled": true
   },
   "outputs": [
    {
     "name": "stdout",
     "output_type": "stream",
     "text": [
      "---> OffpolicyAlgorithm.learn():\n",
      "Logging to ../logs/tb_logs_DDQN/ddqn-test_3\n",
      "self.locals['total_timesteps']:24016, n_steps: 3002\n"
     ]
    },
    {
     "data": {
      "application/vnd.jupyter.widget-view+json": {
       "model_id": "eebbe07f71de40cab3f3cf19ad4d33c3",
       "version_major": 2,
       "version_minor": 0
      },
      "text/plain": [
       "  0%|          | 0/3002 [00:00<?, ?it/s]"
      ]
     },
     "metadata": {},
     "output_type": "display_data"
    },
    {
     "name": "stdout",
     "output_type": "stream",
     "text": [
      "----------------------------------\n",
      "| rollout/            |          |\n",
      "|    ep_len_mean      | 3e+03    |\n",
      "|    ep_rew_mean      | -0.125   |\n",
      "|    exploration_rate | 0.05     |\n",
      "| time/               |          |\n",
      "|    episodes         | 8        |\n",
      "|    fps              | 421      |\n",
      "|    time_elapsed     | 56       |\n",
      "|    total_timesteps  | 24008    |\n",
      "----------------------------------\n"
     ]
    }
   ],
   "source": [
    "total_epochs = 1\n",
    "n_steps = 3002\n",
    "total_timesteps = n_steps * n_envs * total_epochs\n",
    "model.learn(total_timesteps=total_timesteps, callback=progressbar, log_interval=8, tb_log_name='ddqn-test')\n",
    "\n",
    "\n",
    "saved_model_name = model_name + '_gfootball_' + str(n_envs) + \"_\" + timestamp\n",
    "model.save(f\"../models/{model_name}/{saved_model_name}\")"
   ]
  },
  {
   "cell_type": "markdown",
   "metadata": {},
   "source": [
    "### Visualization with Tensorboard"
   ]
  },
  {
   "cell_type": "code",
   "execution_count": 17,
   "metadata": {},
   "outputs": [],
   "source": [
    "%load_ext tensorboard"
   ]
  },
  {
   "cell_type": "code",
   "execution_count": 18,
   "metadata": {
    "scrolled": true
   },
   "outputs": [
    {
     "data": {
      "text/html": [
       "\n",
       "      <iframe id=\"tensorboard-frame-1c80317fa3b1799d\" width=\"100%\" height=\"800\" frameborder=\"0\">\n",
       "      </iframe>\n",
       "      <script>\n",
       "        (function() {\n",
       "          const frame = document.getElementById(\"tensorboard-frame-1c80317fa3b1799d\");\n",
       "          const url = new URL(\"/\", window.location);\n",
       "          const port = 6007;\n",
       "          if (port) {\n",
       "            url.port = port;\n",
       "          }\n",
       "          frame.src = url;\n",
       "        })();\n",
       "      </script>\n",
       "    "
      ],
      "text/plain": [
       "<IPython.core.display.HTML object>"
      ]
     },
     "metadata": {},
     "output_type": "display_data"
    }
   ],
   "source": [
    "%tensorboard --logdir ../logs/tb_logs_DDQN"
   ]
  },
  {
   "cell_type": "markdown",
   "metadata": {},
   "source": [
    "### Visualizing the results"
   ]
  },
  {
   "cell_type": "code",
   "execution_count": 19,
   "metadata": {
    "_kg_hide-input": true,
    "_kg_hide-output": false,
    "scrolled": true
   },
   "outputs": [
    {
     "data": {
      "image/png": "[encoded data removed]",
      "text/plain": [
       "<Figure size 576x144 with 1 Axes>"
      ]
     },
     "metadata": {},
     "output_type": "display_data"
    },
    {
     "data": {
      "image/png": "[encoded data removed]",
      "text/plain": [
       "<Figure size 576x144 with 1 Axes>"
      ]
     },
     "metadata": {},
     "output_type": "display_data"
    }
   ],
   "source": [
    "# Plot the rewards per timestep and per episode\n",
    "\n",
    "plt.style.use(['seaborn-whitegrid'])\n",
    "results_plotter.plot_results([log_save_dir], total_timesteps, results_plotter.X_TIMESTEPS, \"GFootball Timesteps\")\n",
    "# plt.savefig('../figures/dqn/rewards_per_timestamp_dqn_with_my_policy.png')\n",
    "results_plotter.plot_results([log_save_dir], total_timesteps, results_plotter.X_EPISODES, \"GFootball Episodes\")\n",
    "# plt.savefig('../figures/dqn/rewards_per_episode_dqn_with_my_policy.png')"
   ]
  },
  {
   "cell_type": "code",
   "execution_count": 21,
   "metadata": {},
   "outputs": [
    {
     "data": {
      "text/plain": [
       "Text(0, 0.5, 'Episode Rewards')"
      ]
     },
     "execution_count": 21,
     "metadata": {},
     "output_type": "execute_result"
    },
    {
     "data": {
      "image/png": "[encoded data removed]",
      "text/plain": [
       "<Figure size 720x576 with 1 Axes>"
      ]
     },
     "metadata": {},
     "output_type": "display_data"
    }
   ],
   "source": [
    "# Plot the episodic reward with line\n",
    "\n",
    "x, y = results_plotter.ts2xy(results_plotter.load_results(log_save_dir), 'timesteps')  # Organising the logged results in to a clean format for plotting.\n",
    "fig = plt.figure(figsize=(10, 8))\n",
    "plt.plot(x,y)\n",
    "plt.ylim([-10, 10])\n",
    "plt.xlabel('Timesteps')\n",
    "plt.ylabel('Episode Rewards')"
   ]
  },
  {
   "cell_type": "code",
   "execution_count": 22,
   "metadata": {
    "_kg_hide-input": true,
    "scrolled": true
   },
   "outputs": [
    {
     "name": "stderr",
     "output_type": "stream",
     "text": [
      "/tmp/ipykernel_31390/1048478977.py:11: MatplotlibDeprecationWarning: Passing non-integers as three-element position specification is deprecated since 3.3 and will be removed two minor releases later.\n",
      "  plt.subplot(nrows, 2, i+1, label=log_file)\n",
      "/tmp/ipykernel_31390/1048478977.py:11: MatplotlibDeprecationWarning: Passing non-integers as three-element position specification is deprecated since 3.3 and will be removed two minor releases later.\n",
      "  plt.subplot(nrows, 2, i+1, label=log_file)\n",
      "/tmp/ipykernel_31390/1048478977.py:11: MatplotlibDeprecationWarning: Passing non-integers as three-element position specification is deprecated since 3.3 and will be removed two minor releases later.\n",
      "  plt.subplot(nrows, 2, i+1, label=log_file)\n",
      "/tmp/ipykernel_31390/1048478977.py:11: MatplotlibDeprecationWarning: Passing non-integers as three-element position specification is deprecated since 3.3 and will be removed two minor releases later.\n",
      "  plt.subplot(nrows, 2, i+1, label=log_file)\n",
      "/tmp/ipykernel_31390/1048478977.py:11: MatplotlibDeprecationWarning: Passing non-integers as three-element position specification is deprecated since 3.3 and will be removed two minor releases later.\n",
      "  plt.subplot(nrows, 2, i+1, label=log_file)\n",
      "/tmp/ipykernel_31390/1048478977.py:11: MatplotlibDeprecationWarning: Passing non-integers as three-element position specification is deprecated since 3.3 and will be removed two minor releases later.\n",
      "  plt.subplot(nrows, 2, i+1, label=log_file)\n",
      "/tmp/ipykernel_31390/1048478977.py:11: MatplotlibDeprecationWarning: Passing non-integers as three-element position specification is deprecated since 3.3 and will be removed two minor releases later.\n",
      "  plt.subplot(nrows, 2, i+1, label=log_file)\n",
      "/tmp/ipykernel_31390/1048478977.py:11: MatplotlibDeprecationWarning: Passing non-integers as three-element position specification is deprecated since 3.3 and will be removed two minor releases later.\n",
      "  plt.subplot(nrows, 2, i+1, label=log_file)\n"
     ]
    },
    {
     "data": {
      "image/png": "[encoded data removed]",
      "text/plain": [
       "<Figure size 576x576 with 8 Axes>"
      ]
     },
     "metadata": {},
     "output_type": "display_data"
    }
   ],
   "source": [
    "# Plot the rolling mean reward per environment\n",
    "\n",
    "plt.style.use(['seaborn-whitegrid'])\n",
    "log_files = [os.path.join(log_save_dir, f\"{i}.monitor.csv\") for i in range(n_envs)]\n",
    "\n",
    "nrows = np.ceil(n_envs/2)\n",
    "fig = plt.figure(figsize=(8, 2 * nrows))\n",
    "for i, log_file in enumerate(log_files):\n",
    "    if os.path.isfile(log_file):\n",
    "        df = pd.read_csv(log_file, skiprows=1)\n",
    "        plt.subplot(nrows, 2, i+1, label=log_file)\n",
    "        df['r'].rolling(window=5).mean().plot(title=f\"Rewards: Env {i}\")\n",
    "        plt.tight_layout()\n",
    "plt.show()"
   ]
  },
  {
   "cell_type": "code",
   "execution_count": null,
   "metadata": {},
   "outputs": [],
   "source": [
    "# Plot the mean episodic reward\n",
    "# Download the CSV from tensorboard and put the path here\n",
    "df = pd.read_csv('data_for_figures/run-ddqn_3-tag-rollout_ep_rew_mean.csv')\n",
    "fig = plt.figure(figsize=(10, 8))\n",
    "df.plot(x ='Step', y='Value')\n",
    "# plt.savefig('../figures/dqn/mean_ep_reward_with_IL_50_epochs_diff_net.jpg')"
   ]
  }
 ],
 "metadata": {
  "kernelspec": {
   "display_name": "Python 3 (ipykernel)",
   "language": "python",
   "name": "python3"
  },
  "language_info": {
   "codemirror_mode": {
    "name": "ipython",
    "version": 3
   },
   "file_extension": ".py",
   "mimetype": "text/x-python",
   "name": "python",
   "nbconvert_exporter": "python",
   "pygments_lexer": "ipython3",
   "version": "3.9.7"
  }
 },
 "nbformat": 4,
 "nbformat_minor": 4
}
