{
 "cells": [
  {
   "cell_type": "code",
   "execution_count": 2,
   "metadata": {},
   "outputs": [],
   "source": [
    "import logging\n",
    "import os\n",
    "import cv2\n",
    "import time\n",
    "import datetime\n",
    "import random\n",
    "from os.path import join, dirname\n",
    "\n",
    "import pandas as pd\n",
    "import numpy as np\n",
    "import hydra\n",
    "import wandb\n",
    "from tqdm import tqdm\n",
    "from omegaconf import DictConfig\n",
    "from sklearn.model_selection import train_test_split\n",
    "\n",
    "import torch\n",
    "import torchvision\n",
    "import torch.nn.functional as F\n",
    "import torch.nn as nn\n",
    "import torchtoolbox.transform as transforms\n",
    "from torch.utils.data import Dataset, DataLoader, Subset\n",
    "from torch.optim.lr_scheduler import ReduceLROnPlateau\n",
    "import pickle\n",
    "import csv\n",
    "\n",
    "from torch.utils.data import Dataset, DataLoader, Subset\n",
    "import pandas as pd"
   ]
  },
  {
   "cell_type": "code",
   "execution_count": 3,
   "metadata": {},
   "outputs": [],
   "source": [
    "logging.basicConfig(level=logging.INFO)\n",
    "logger = logging.getLogger(__name__)"
   ]
  },
  {
   "cell_type": "code",
   "execution_count": 4,
   "metadata": {},
   "outputs": [],
   "source": [
    "from src.factories.model_factory import get_model\n",
    "from src.factories.dataset_factory import get_dataset\n",
    "from src.utils.path_names import raw_episodes_path, obs_frames_path"
   ]
  },
  {
   "cell_type": "code",
   "execution_count": 5,
   "metadata": {},
   "outputs": [],
   "source": [
    "import gfootball.env as football_env\n",
    "from gfootball.env import observation_preprocessing, wrappers\n",
    "from gfootball.env.wrappers import Simple115StateWrapper\n",
    "import numpy as np\n",
    "import pickle\n",
    "from gfootball.env.wrappers import Simple115StateWrapper"
   ]
  },
  {
   "cell_type": "markdown",
   "metadata": {},
   "source": [
    "### Creating the dataset from 4800 replay files"
   ]
  },
  {
   "cell_type": "code",
   "execution_count": 79,
   "metadata": {},
   "outputs": [],
   "source": [
    "# !!!!!!!!!!!!!!!!!!! Do not delete this cell !!!!!!!!!!!!!!!!!!!\n",
    "\n",
    "# replay_files_path = '../replay_files'\n",
    "# replay_files = sorted(os.listdir(replay_files_path))\n",
    "# replay_files.pop(0)\n",
    "# len(replay_files)"
   ]
  },
  {
   "cell_type": "code",
   "execution_count": 80,
   "metadata": {},
   "outputs": [],
   "source": [
    "# Here we will write the pickle files\n",
    "def prepare_pkl_dataset_from_replay_files(replay_files):\n",
    "    pkld_obs_save_dir = '../dataset/pickled_files'\n",
    "    replay_files_path = '../replay_files'\n",
    "    frame_no_csv_file = '../dataset/frames.csv'\n",
    "    with open(frame_no_csv_file, 'w') as frames_csv:\n",
    "        frames_csv_writer = csv.writer(frames_csv)\n",
    "        for replay in tqdm(replay_files):\n",
    "            # print(f\"Processing replay file: {replay}\")\n",
    "            with open(os.path.join(replay_files_path, replay), 'rb') as pkl_file:\n",
    "                episode_data = pickle.load(pkl_file)\n",
    "            episode_no = replay.split('.')[0]\n",
    "            episode = episode_data['observations']\n",
    "            episode['active'] = episode_data['players'][0]['active']\n",
    "            episode_length = 3002\n",
    "            raw_obs = {}\n",
    "            float115_frames = []\n",
    "            for step in range(episode_length):\n",
    "                for (key, item) in episode.items():\n",
    "                    raw_obs[key] = item[step]\n",
    "\n",
    "                float115_frame =  Simple115StateWrapper.convert_observation([raw_obs], True)[0].tolist()\n",
    "                action = episode_data['players'][0]['action'][step]\n",
    "                \n",
    "                frame_name = episode_no+f'_{step}'\n",
    "                if len(action) != 0:\n",
    "                    float115_frame.extend(action)\n",
    "                    float115_frame.insert(0, frame_name)\n",
    "                    float115_frames.append(float115_frame)\n",
    "                    frames_csv_writer.writerow([frame_name])\n",
    "                    # pkl_obs_file_path = os.path.join(pkld_obs_save_dir, episode_no + '_' + str(step)) \n",
    "            # float115_frames.insert(0, frame_name)\n",
    "            with open(os.path.join(pkld_obs_save_dir, replay), 'wb') as handle:\n",
    "                pickle.dump(float115_frames, handle)\n",
    "#     return float115_frames"
   ]
  },
  {
   "cell_type": "code",
   "execution_count": 81,
   "metadata": {},
   "outputs": [],
   "source": [
    "# def prepare_dataset_from_replay_files(replay_files, train=True):\n",
    "#     no_of_csv_files = 20\n",
    "#     trajectories_in_each_file = len(replay_files) // no_of_csv_files # (3360/40)*3001 trajectories in each file\n",
    "#     replay_files_path = '../replay_files'\n",
    "# #         float115_frames = []\n",
    "#     csv_file_counter = 0\n",
    "#     if train:\n",
    "#         csv_files_path = '../dataset/train'\n",
    "#     else:\n",
    "#         csv_files_path = '../dataset/test'                             \n",
    "#     for (file_no, replay) in tqdm(enumerate(replay_files)):\n",
    "#         with open(os.path.join(replay_files_path, replay), 'rb') as pkl_file:\n",
    "#             episode_data = pickle.load(pkl_file)\n",
    "            \n",
    "#         if file_no % trajectories_in_each_file == 0:\n",
    "#             obs_csv_file_name = 'test_replay_' + f\"_{str(csv_file_counter)}.csv\"\n",
    "#             csv_file_counter += 1\n",
    "            \n",
    "#         with open(os.path.join(csv_files_path, obs_csv_file_name), 'a') as obs_csv_file:\n",
    "#             obs_csv_writer = csv.writer(obs_csv_file, delimiter=',', quoting=csv.QUOTE_MINIMAL)\n",
    "\n",
    "#             episode = episode_data['observations']\n",
    "#             episode['active'] = episode_data['players'][0]['active']\n",
    "\n",
    "#             episode_length = 3002\n",
    "#             raw_obs = {}\n",
    "\n",
    "#             for step in range(episode_length):\n",
    "#                 for (key, item) in episode.items():\n",
    "#                     raw_obs[key] = item[step]\n",
    "\n",
    "#                 float115_frame =  Simple115StateWrapper.convert_observation([raw_obs], True)[0].tolist()\n",
    "#                 action = episode_data['players'][0]['action'][step]\n",
    "#                 float115_frame.extend(action)\n",
    "#                 if len(action) != 0:\n",
    "#     #                     float115_frames.append(float115_frame)\n",
    "#                     obs_csv_writer.writerow(float115_frame)\n",
    "# #         return float115_frames"
   ]
  },
  {
   "cell_type": "code",
   "execution_count": 82,
   "metadata": {},
   "outputs": [],
   "source": [
    "# TODO: DO NOT DELETE\n",
    "# %time prepare_pkl_dataset_from_replay_files(replay_files)"
   ]
  },
  {
   "cell_type": "markdown",
   "metadata": {},
   "source": [
    "### Loading the Dataset using torch"
   ]
  },
  {
   "cell_type": "code",
   "execution_count": 6,
   "metadata": {},
   "outputs": [],
   "source": [
    "os.environ['PYTHONHASHSEED'] = str(42)\n",
    "random.seed(42)\n",
    "np.random.seed(42)\n",
    "torch.manual_seed(42)\n",
    "torch.cuda.manual_seed(42)\n",
    "torch.backends.cudnn.deterministic = True\n",
    "torch.backends.cudnn.benchmark = True"
   ]
  },
  {
   "cell_type": "code",
   "execution_count": 28,
   "metadata": {},
   "outputs": [],
   "source": [
    "class Float115Dataset(Dataset):\n",
    "\n",
    "    def __init__(self, data, path = None, transform=None):\n",
    "        self.data = data\n",
    "        self.transform = transform\n",
    "        self.path = path\n",
    "\n",
    "    def __getitem__(self, idx):\n",
    "        obs_frame_name = self.data[idx]\n",
    "        pkl_file_prefix = obs_frame_name.split('_')[0]\n",
    "        pkl_file_path = os.path.join(self.path, pkl_file_prefix, f\"{obs_frame_name}.p\")\n",
    "        \n",
    "        try:\n",
    "            with open(pkl_file_path, 'rb') as pkl_file:\n",
    "                obs_with_action = pickle.load(pkl_file)\n",
    "        except ValueError:\n",
    "            print(f\"The file {pkl_file_path} was not found in the directory\")\n",
    "        obs = np.array(obs_with_action[0:115])\n",
    "        action = obs_with_action[115]\n",
    "        return obs, int(action)\n",
    "\n",
    "    def __len__(self):\n",
    "        return len(self.data)"
   ]
  },
  {
   "cell_type": "markdown",
   "metadata": {},
   "source": [
    "### Training a model"
   ]
  },
  {
   "cell_type": "code",
   "execution_count": 29,
   "metadata": {},
   "outputs": [],
   "source": [
    "import torch\n",
    "import torch.nn as nn\n",
    "import torch.optim as optim\n",
    "import torch.nn.functional as F\n",
    "\n",
    "import torch\n",
    "import torchvision\n",
    "import torch.nn.functional as F\n",
    "import torch.nn as nn\n",
    "import torchtoolbox.transform as transforms\n",
    "from torch.utils.data import Dataset, DataLoader, Subset\n",
    "from torch.optim.lr_scheduler import ReduceLROnPlateau"
   ]
  },
  {
   "cell_type": "code",
   "execution_count": 30,
   "metadata": {},
   "outputs": [],
   "source": [
    "# obs_df = pd.DataFrame(pd.read_pickle('../dataset/pickled_files/3720620.p')).set_index(0)\n",
    "# obs_df.head()\n",
    "\n",
    "# frames_df = pd.read_csv('../dataset/frames.csv', header=None)\n",
    "# frames_df.head()"
   ]
  },
  {
   "cell_type": "code",
   "execution_count": 31,
   "metadata": {},
   "outputs": [
    {
     "data": {
      "text/plain": [
       "14404800"
      ]
     },
     "execution_count": 31,
     "metadata": {},
     "output_type": "execute_result"
    }
   ],
   "source": [
    "# TODO: DO not delete it\n",
    "dataset = list(pd.read_csv('../dataset/frames.csv', header=None)[0])\n",
    "len(dataset)"
   ]
  },
  {
   "cell_type": "code",
   "execution_count": 51,
   "metadata": {},
   "outputs": [
    {
     "data": {
      "text/plain": [
       "(7000, 3000)"
      ]
     },
     "execution_count": 51,
     "metadata": {},
     "output_type": "execute_result"
    }
   ],
   "source": [
    "train, test = train_test_split(dataset[0:10000], test_size=0.30, random_state=42)\n",
    "len(train), len(test)"
   ]
  },
  {
   "cell_type": "code",
   "execution_count": 52,
   "metadata": {},
   "outputs": [
    {
     "data": {
      "text/plain": [
       "(7000, 3000)"
      ]
     },
     "execution_count": 52,
     "metadata": {},
     "output_type": "execute_result"
    }
   ],
   "source": [
    "train_dataset, test_dataset = Float115Dataset(train, '../dataset/single_obs_pkl_files'), Float115Dataset(test, '../dataset/single_obs_pkl_files')\n",
    "len(train_dataset), len(test_dataset)"
   ]
  },
  {
   "cell_type": "code",
   "execution_count": 53,
   "metadata": {},
   "outputs": [],
   "source": [
    "train_loader = DataLoader(dataset=train_dataset, batch_size=128, shuffle=True, num_workers=0)\n",
    "test_loader = DataLoader(dataset=test_dataset, batch_size=128, shuffle=True, num_workers=0)"
   ]
  },
  {
   "cell_type": "code",
   "execution_count": 54,
   "metadata": {},
   "outputs": [],
   "source": [
    "class MLPModel(nn.Module):\n",
    "    \"\"\"\n",
    "    Take float115_v2 (115 dimension vector) as input\n",
    "    \"\"\"\n",
    "\n",
    "    def __init__(self):\n",
    "        super().__init__()\n",
    "        self.mlp = nn.Sequential(\n",
    "            nn.Linear(115, 256),\n",
    "            nn.ReLU(),\n",
    "            nn.Linear(256, 256),\n",
    "            nn.ReLU(),\n",
    "        )\n",
    "        self.actor = nn.Linear(256, 19)\n",
    "        self.critic = nn.Linear(256, 1)\n",
    "\n",
    "    def forward(self, x):\n",
    "        x = self.mlp(x)\n",
    "        logits = self.actor(x)\n",
    "#         print(logits.shape, logits.sum(dim=1).shape, logits.sum(dim=1), logits)\n",
    "        return logits"
   ]
  },
  {
   "cell_type": "code",
   "execution_count": 55,
   "metadata": {},
   "outputs": [],
   "source": [
    "device = torch.device(\"cuda\" if torch.cuda.is_available() else \"cpu\")\n",
    "model = MLPModel()\n",
    "model = model.to(device)\n",
    "\n",
    "optim = torch.optim.Adam(model.parameters(), lr=0.01)\n",
    "scheduler = ReduceLROnPlateau(optimizer=optim, mode='max', patience=1, verbose=True, factor=0.2)\n",
    "criterion = nn.CrossEntropyLoss()"
   ]
  },
  {
   "cell_type": "code",
   "execution_count": 56,
   "metadata": {},
   "outputs": [],
   "source": [
    "# wandb.init(project=\"GRF_imitation_learning\")\n",
    "# wandb.watch(model)"
   ]
  },
  {
   "cell_type": "markdown",
   "metadata": {},
   "source": [
    "### Use Tensorboard"
   ]
  },
  {
   "cell_type": "code",
   "execution_count": 57,
   "metadata": {},
   "outputs": [],
   "source": [
    "import torch\n",
    "import matplotlib.pyplot as plt\n",
    "from torch.utils.tensorboard import SummaryWriter\n",
    "writer = SummaryWriter()"
   ]
  },
  {
   "cell_type": "code",
   "execution_count": 60,
   "metadata": {},
   "outputs": [],
   "source": [
    "def train_model(num_epochs):\n",
    "    train_loss_values = []\n",
    "    eval_loss_values = []\n",
    "    training_accuracy = []\n",
    "    for epoch in range(num_epochs):\n",
    "        start_time = time.time()\n",
    "        correct = 0\n",
    "        correct_eval_samples = 0\n",
    "        epoch_loss = 0\n",
    "        eval_loss = 0\n",
    "        running_train_loss = 0.0\n",
    "        running_eval_loss = 0.0\n",
    "\n",
    "        # Train \n",
    "        model.train()\n",
    "        for i, (x, y) in enumerate(tqdm(train_loader)):\n",
    "            x = torch.as_tensor(x, device=device, dtype=torch.float32)\n",
    "            y = torch.as_tensor(y, device=device, dtype=torch.float32)\n",
    "            optim.zero_grad()\n",
    "            z = model(x)\n",
    "            loss = criterion(z, y.long())\n",
    "            writer.add_scalar(\"Loss/train\", loss, epoch)\n",
    "            loss.backward()\n",
    "            optim.step()\n",
    "            pred = torch.argmax(z, dim=1)\n",
    "            if (i+1) % 10 == 0:\n",
    "                print(f\"train loss: {loss.item()}\", end='\\n')\n",
    "            correct += (pred.cpu() == y.long().cpu()).sum()\n",
    "            running_train_loss += loss.item() * x.shape[0]\n",
    "        epoch_accuracy = correct/len(train_dataset)\n",
    "        epoch_loss = running_train_loss / len(train_dataset)\n",
    "        train_loss_values.append(epoch_loss)\n",
    "        training_accuracy.append(epoch_accuracy)\n",
    "\n",
    "            # Eval\n",
    "        model.eval()\n",
    "        with torch.no_grad():\n",
    "            for i, (x, y) in enumerate(test_loader):\n",
    "                x = torch.as_tensor(x, device=device, dtype=torch.float32)\n",
    "                y = torch.as_tensor(y, device=device, dtype=torch.float32)\n",
    "                z = model(x)\n",
    "                loss = criterion(z, y.long())\n",
    "                running_eval_loss += loss.item() * x.shape[0]\n",
    "                writer.add_scalar('Loss/test', eval_loss, epoch)\n",
    "        eval_loss = running_eval_loss / len(test_dataset)\n",
    "        eval_loss_values.append(eval_loss)\n",
    "        print('Epoch {:03}/{}: | Train Loss: {:.3f} | Eval Loss: {:.3f} | Epoch accuracy: {:.2f} | Training time: {}'.format(epoch + 1, num_epochs, epoch_loss, eval_loss, epoch_accuracy, str(datetime.timedelta(seconds=time.time() - start_time))[:7]))\n",
    "#             plt.plot(train_loss_values)\n",
    "        # wandb.log({'train loss': epoch_loss, 'val loss': eval_loss})\n",
    "    return train_loss_values, eval_loss_values, training_accuracy"
   ]
  },
  {
   "cell_type": "code",
   "execution_count": 61,
   "metadata": {
    "scrolled": true
   },
   "outputs": [
    {
     "name": "stderr",
     "output_type": "stream",
     "text": [
      "10it [00:05,  1.79it/s]"
     ]
    },
    {
     "name": "stdout",
     "output_type": "stream",
     "text": [
      "train loss: 1.6971852779388428\n"
     ]
    },
    {
     "name": "stderr",
     "output_type": "stream",
     "text": [
      "20it [00:11,  1.60it/s]"
     ]
    },
    {
     "name": "stdout",
     "output_type": "stream",
     "text": [
      "train loss: 1.5629863739013672\n"
     ]
    },
    {
     "name": "stderr",
     "output_type": "stream",
     "text": [
      "30it [00:17,  1.75it/s]"
     ]
    },
    {
     "name": "stdout",
     "output_type": "stream",
     "text": [
      "train loss: 1.4489463567733765\n"
     ]
    },
    {
     "name": "stderr",
     "output_type": "stream",
     "text": [
      "33it [00:20,  1.58it/s]\n"
     ]
    },
    {
     "ename": "KeyboardInterrupt",
     "evalue": "",
     "output_type": "error",
     "traceback": [
      "\u001b[0;31m---------------------------------------------------------------------------\u001b[0m",
      "\u001b[0;31mKeyboardInterrupt\u001b[0m                         Traceback (most recent call last)",
      "\u001b[0;32m<ipython-input-61-9ffb8de95d86>\u001b[0m in \u001b[0;36m<module>\u001b[0;34m\u001b[0m\n\u001b[0;32m----> 1\u001b[0;31m \u001b[0mtrain_loss_values\u001b[0m\u001b[0;34m,\u001b[0m \u001b[0meval_loss_values\u001b[0m\u001b[0;34m,\u001b[0m \u001b[0mtraining_accuracy\u001b[0m \u001b[0;34m=\u001b[0m \u001b[0mtrain_model\u001b[0m\u001b[0;34m(\u001b[0m\u001b[0;36m1\u001b[0m\u001b[0;34m)\u001b[0m\u001b[0;34m\u001b[0m\u001b[0;34m\u001b[0m\u001b[0m\n\u001b[0m\u001b[1;32m      2\u001b[0m \u001b[0mwriter\u001b[0m\u001b[0;34m.\u001b[0m\u001b[0mflush\u001b[0m\u001b[0;34m(\u001b[0m\u001b[0;34m)\u001b[0m\u001b[0;34m\u001b[0m\u001b[0;34m\u001b[0m\u001b[0m\n",
      "\u001b[0;32m<ipython-input-60-e7539560d495>\u001b[0m in \u001b[0;36mtrain_model\u001b[0;34m(num_epochs)\u001b[0m\n\u001b[1;32m     14\u001b[0m         \u001b[0;31m# Train\u001b[0m\u001b[0;34m\u001b[0m\u001b[0;34m\u001b[0m\u001b[0;34m\u001b[0m\u001b[0m\n\u001b[1;32m     15\u001b[0m         \u001b[0mmodel\u001b[0m\u001b[0;34m.\u001b[0m\u001b[0mtrain\u001b[0m\u001b[0;34m(\u001b[0m\u001b[0;34m)\u001b[0m\u001b[0;34m\u001b[0m\u001b[0;34m\u001b[0m\u001b[0m\n\u001b[0;32m---> 16\u001b[0;31m         \u001b[0;32mfor\u001b[0m \u001b[0mi\u001b[0m\u001b[0;34m,\u001b[0m \u001b[0;34m(\u001b[0m\u001b[0mx\u001b[0m\u001b[0;34m,\u001b[0m \u001b[0my\u001b[0m\u001b[0;34m)\u001b[0m \u001b[0;32min\u001b[0m \u001b[0mtqdm\u001b[0m\u001b[0;34m(\u001b[0m\u001b[0menumerate\u001b[0m\u001b[0;34m(\u001b[0m\u001b[0mtrain_loader\u001b[0m\u001b[0;34m)\u001b[0m\u001b[0;34m)\u001b[0m\u001b[0;34m:\u001b[0m\u001b[0;34m\u001b[0m\u001b[0;34m\u001b[0m\u001b[0m\n\u001b[0m\u001b[1;32m     17\u001b[0m             \u001b[0mx\u001b[0m \u001b[0;34m=\u001b[0m \u001b[0mtorch\u001b[0m\u001b[0;34m.\u001b[0m\u001b[0mas_tensor\u001b[0m\u001b[0;34m(\u001b[0m\u001b[0mx\u001b[0m\u001b[0;34m,\u001b[0m \u001b[0mdevice\u001b[0m\u001b[0;34m=\u001b[0m\u001b[0mdevice\u001b[0m\u001b[0;34m,\u001b[0m \u001b[0mdtype\u001b[0m\u001b[0;34m=\u001b[0m\u001b[0mtorch\u001b[0m\u001b[0;34m.\u001b[0m\u001b[0mfloat32\u001b[0m\u001b[0;34m)\u001b[0m\u001b[0;34m\u001b[0m\u001b[0;34m\u001b[0m\u001b[0m\n\u001b[1;32m     18\u001b[0m             \u001b[0my\u001b[0m \u001b[0;34m=\u001b[0m \u001b[0mtorch\u001b[0m\u001b[0;34m.\u001b[0m\u001b[0mas_tensor\u001b[0m\u001b[0;34m(\u001b[0m\u001b[0my\u001b[0m\u001b[0;34m,\u001b[0m \u001b[0mdevice\u001b[0m\u001b[0;34m=\u001b[0m\u001b[0mdevice\u001b[0m\u001b[0;34m,\u001b[0m \u001b[0mdtype\u001b[0m\u001b[0;34m=\u001b[0m\u001b[0mtorch\u001b[0m\u001b[0;34m.\u001b[0m\u001b[0mfloat32\u001b[0m\u001b[0;34m)\u001b[0m\u001b[0;34m\u001b[0m\u001b[0;34m\u001b[0m\u001b[0m\n",
      "\u001b[0;32m~/.local/lib/python3.6/site-packages/tqdm/std.py\u001b[0m in \u001b[0;36m__iter__\u001b[0;34m(self)\u001b[0m\n\u001b[1;32m   1178\u001b[0m \u001b[0;34m\u001b[0m\u001b[0m\n\u001b[1;32m   1179\u001b[0m         \u001b[0;32mtry\u001b[0m\u001b[0;34m:\u001b[0m\u001b[0;34m\u001b[0m\u001b[0;34m\u001b[0m\u001b[0m\n\u001b[0;32m-> 1180\u001b[0;31m             \u001b[0;32mfor\u001b[0m \u001b[0mobj\u001b[0m \u001b[0;32min\u001b[0m \u001b[0miterable\u001b[0m\u001b[0;34m:\u001b[0m\u001b[0;34m\u001b[0m\u001b[0;34m\u001b[0m\u001b[0m\n\u001b[0m\u001b[1;32m   1181\u001b[0m                 \u001b[0;32myield\u001b[0m \u001b[0mobj\u001b[0m\u001b[0;34m\u001b[0m\u001b[0;34m\u001b[0m\u001b[0m\n\u001b[1;32m   1182\u001b[0m                 \u001b[0;31m# Update and possibly print the progressbar.\u001b[0m\u001b[0;34m\u001b[0m\u001b[0;34m\u001b[0m\u001b[0;34m\u001b[0m\u001b[0m\n",
      "\u001b[0;32m~/.local/lib/python3.6/site-packages/torch/utils/data/dataloader.py\u001b[0m in \u001b[0;36m__next__\u001b[0;34m(self)\u001b[0m\n\u001b[1;32m    519\u001b[0m             \u001b[0;32mif\u001b[0m \u001b[0mself\u001b[0m\u001b[0;34m.\u001b[0m\u001b[0m_sampler_iter\u001b[0m \u001b[0;32mis\u001b[0m \u001b[0;32mNone\u001b[0m\u001b[0;34m:\u001b[0m\u001b[0;34m\u001b[0m\u001b[0;34m\u001b[0m\u001b[0m\n\u001b[1;32m    520\u001b[0m                 \u001b[0mself\u001b[0m\u001b[0;34m.\u001b[0m\u001b[0m_reset\u001b[0m\u001b[0;34m(\u001b[0m\u001b[0;34m)\u001b[0m\u001b[0;34m\u001b[0m\u001b[0;34m\u001b[0m\u001b[0m\n\u001b[0;32m--> 521\u001b[0;31m             \u001b[0mdata\u001b[0m \u001b[0;34m=\u001b[0m \u001b[0mself\u001b[0m\u001b[0;34m.\u001b[0m\u001b[0m_next_data\u001b[0m\u001b[0;34m(\u001b[0m\u001b[0;34m)\u001b[0m\u001b[0;34m\u001b[0m\u001b[0;34m\u001b[0m\u001b[0m\n\u001b[0m\u001b[1;32m    522\u001b[0m             \u001b[0mself\u001b[0m\u001b[0;34m.\u001b[0m\u001b[0m_num_yielded\u001b[0m \u001b[0;34m+=\u001b[0m \u001b[0;36m1\u001b[0m\u001b[0;34m\u001b[0m\u001b[0;34m\u001b[0m\u001b[0m\n\u001b[1;32m    523\u001b[0m             \u001b[0;32mif\u001b[0m \u001b[0mself\u001b[0m\u001b[0;34m.\u001b[0m\u001b[0m_dataset_kind\u001b[0m \u001b[0;34m==\u001b[0m \u001b[0m_DatasetKind\u001b[0m\u001b[0;34m.\u001b[0m\u001b[0mIterable\u001b[0m \u001b[0;32mand\u001b[0m\u001b[0;31m \u001b[0m\u001b[0;31m\\\u001b[0m\u001b[0;34m\u001b[0m\u001b[0;34m\u001b[0m\u001b[0m\n",
      "\u001b[0;32m~/.local/lib/python3.6/site-packages/torch/utils/data/dataloader.py\u001b[0m in \u001b[0;36m_next_data\u001b[0;34m(self)\u001b[0m\n\u001b[1;32m    559\u001b[0m     \u001b[0;32mdef\u001b[0m \u001b[0m_next_data\u001b[0m\u001b[0;34m(\u001b[0m\u001b[0mself\u001b[0m\u001b[0;34m)\u001b[0m\u001b[0;34m:\u001b[0m\u001b[0;34m\u001b[0m\u001b[0;34m\u001b[0m\u001b[0m\n\u001b[1;32m    560\u001b[0m         \u001b[0mindex\u001b[0m \u001b[0;34m=\u001b[0m \u001b[0mself\u001b[0m\u001b[0;34m.\u001b[0m\u001b[0m_next_index\u001b[0m\u001b[0;34m(\u001b[0m\u001b[0;34m)\u001b[0m  \u001b[0;31m# may raise StopIteration\u001b[0m\u001b[0;34m\u001b[0m\u001b[0;34m\u001b[0m\u001b[0m\n\u001b[0;32m--> 561\u001b[0;31m         \u001b[0mdata\u001b[0m \u001b[0;34m=\u001b[0m \u001b[0mself\u001b[0m\u001b[0;34m.\u001b[0m\u001b[0m_dataset_fetcher\u001b[0m\u001b[0;34m.\u001b[0m\u001b[0mfetch\u001b[0m\u001b[0;34m(\u001b[0m\u001b[0mindex\u001b[0m\u001b[0;34m)\u001b[0m  \u001b[0;31m# may raise StopIteration\u001b[0m\u001b[0;34m\u001b[0m\u001b[0;34m\u001b[0m\u001b[0m\n\u001b[0m\u001b[1;32m    562\u001b[0m         \u001b[0;32mif\u001b[0m \u001b[0mself\u001b[0m\u001b[0;34m.\u001b[0m\u001b[0m_pin_memory\u001b[0m\u001b[0;34m:\u001b[0m\u001b[0;34m\u001b[0m\u001b[0;34m\u001b[0m\u001b[0m\n\u001b[1;32m    563\u001b[0m             \u001b[0mdata\u001b[0m \u001b[0;34m=\u001b[0m \u001b[0m_utils\u001b[0m\u001b[0;34m.\u001b[0m\u001b[0mpin_memory\u001b[0m\u001b[0;34m.\u001b[0m\u001b[0mpin_memory\u001b[0m\u001b[0;34m(\u001b[0m\u001b[0mdata\u001b[0m\u001b[0;34m)\u001b[0m\u001b[0;34m\u001b[0m\u001b[0;34m\u001b[0m\u001b[0m\n",
      "\u001b[0;32m~/.local/lib/python3.6/site-packages/torch/utils/data/_utils/fetch.py\u001b[0m in \u001b[0;36mfetch\u001b[0;34m(self, possibly_batched_index)\u001b[0m\n\u001b[1;32m     47\u001b[0m     \u001b[0;32mdef\u001b[0m \u001b[0mfetch\u001b[0m\u001b[0;34m(\u001b[0m\u001b[0mself\u001b[0m\u001b[0;34m,\u001b[0m \u001b[0mpossibly_batched_index\u001b[0m\u001b[0;34m)\u001b[0m\u001b[0;34m:\u001b[0m\u001b[0;34m\u001b[0m\u001b[0;34m\u001b[0m\u001b[0m\n\u001b[1;32m     48\u001b[0m         \u001b[0;32mif\u001b[0m \u001b[0mself\u001b[0m\u001b[0;34m.\u001b[0m\u001b[0mauto_collation\u001b[0m\u001b[0;34m:\u001b[0m\u001b[0;34m\u001b[0m\u001b[0;34m\u001b[0m\u001b[0m\n\u001b[0;32m---> 49\u001b[0;31m             \u001b[0mdata\u001b[0m \u001b[0;34m=\u001b[0m \u001b[0;34m[\u001b[0m\u001b[0mself\u001b[0m\u001b[0;34m.\u001b[0m\u001b[0mdataset\u001b[0m\u001b[0;34m[\u001b[0m\u001b[0midx\u001b[0m\u001b[0;34m]\u001b[0m \u001b[0;32mfor\u001b[0m \u001b[0midx\u001b[0m \u001b[0;32min\u001b[0m \u001b[0mpossibly_batched_index\u001b[0m\u001b[0;34m]\u001b[0m\u001b[0;34m\u001b[0m\u001b[0;34m\u001b[0m\u001b[0m\n\u001b[0m\u001b[1;32m     50\u001b[0m         \u001b[0;32melse\u001b[0m\u001b[0;34m:\u001b[0m\u001b[0;34m\u001b[0m\u001b[0;34m\u001b[0m\u001b[0m\n\u001b[1;32m     51\u001b[0m             \u001b[0mdata\u001b[0m \u001b[0;34m=\u001b[0m \u001b[0mself\u001b[0m\u001b[0;34m.\u001b[0m\u001b[0mdataset\u001b[0m\u001b[0;34m[\u001b[0m\u001b[0mpossibly_batched_index\u001b[0m\u001b[0;34m]\u001b[0m\u001b[0;34m\u001b[0m\u001b[0;34m\u001b[0m\u001b[0m\n",
      "\u001b[0;32m~/.local/lib/python3.6/site-packages/torch/utils/data/_utils/fetch.py\u001b[0m in \u001b[0;36m<listcomp>\u001b[0;34m(.0)\u001b[0m\n\u001b[1;32m     47\u001b[0m     \u001b[0;32mdef\u001b[0m \u001b[0mfetch\u001b[0m\u001b[0;34m(\u001b[0m\u001b[0mself\u001b[0m\u001b[0;34m,\u001b[0m \u001b[0mpossibly_batched_index\u001b[0m\u001b[0;34m)\u001b[0m\u001b[0;34m:\u001b[0m\u001b[0;34m\u001b[0m\u001b[0;34m\u001b[0m\u001b[0m\n\u001b[1;32m     48\u001b[0m         \u001b[0;32mif\u001b[0m \u001b[0mself\u001b[0m\u001b[0;34m.\u001b[0m\u001b[0mauto_collation\u001b[0m\u001b[0;34m:\u001b[0m\u001b[0;34m\u001b[0m\u001b[0;34m\u001b[0m\u001b[0m\n\u001b[0;32m---> 49\u001b[0;31m             \u001b[0mdata\u001b[0m \u001b[0;34m=\u001b[0m \u001b[0;34m[\u001b[0m\u001b[0mself\u001b[0m\u001b[0;34m.\u001b[0m\u001b[0mdataset\u001b[0m\u001b[0;34m[\u001b[0m\u001b[0midx\u001b[0m\u001b[0;34m]\u001b[0m \u001b[0;32mfor\u001b[0m \u001b[0midx\u001b[0m \u001b[0;32min\u001b[0m \u001b[0mpossibly_batched_index\u001b[0m\u001b[0;34m]\u001b[0m\u001b[0;34m\u001b[0m\u001b[0;34m\u001b[0m\u001b[0m\n\u001b[0m\u001b[1;32m     50\u001b[0m         \u001b[0;32melse\u001b[0m\u001b[0;34m:\u001b[0m\u001b[0;34m\u001b[0m\u001b[0;34m\u001b[0m\u001b[0m\n\u001b[1;32m     51\u001b[0m             \u001b[0mdata\u001b[0m \u001b[0;34m=\u001b[0m \u001b[0mself\u001b[0m\u001b[0;34m.\u001b[0m\u001b[0mdataset\u001b[0m\u001b[0;34m[\u001b[0m\u001b[0mpossibly_batched_index\u001b[0m\u001b[0;34m]\u001b[0m\u001b[0;34m\u001b[0m\u001b[0;34m\u001b[0m\u001b[0m\n",
      "\u001b[0;32m<ipython-input-28-8cfaf6b6334c>\u001b[0m in \u001b[0;36m__getitem__\u001b[0;34m(self, idx)\u001b[0m\n\u001b[1;32m     12\u001b[0m \u001b[0;34m\u001b[0m\u001b[0m\n\u001b[1;32m     13\u001b[0m         \u001b[0;32mtry\u001b[0m\u001b[0;34m:\u001b[0m\u001b[0;34m\u001b[0m\u001b[0;34m\u001b[0m\u001b[0m\n\u001b[0;32m---> 14\u001b[0;31m             \u001b[0;32mwith\u001b[0m \u001b[0mopen\u001b[0m\u001b[0;34m(\u001b[0m\u001b[0mpkl_file_path\u001b[0m\u001b[0;34m,\u001b[0m \u001b[0;34m'rb'\u001b[0m\u001b[0;34m)\u001b[0m \u001b[0;32mas\u001b[0m \u001b[0mpkl_file\u001b[0m\u001b[0;34m:\u001b[0m\u001b[0;34m\u001b[0m\u001b[0;34m\u001b[0m\u001b[0m\n\u001b[0m\u001b[1;32m     15\u001b[0m                 \u001b[0mobs_with_action\u001b[0m \u001b[0;34m=\u001b[0m \u001b[0mpickle\u001b[0m\u001b[0;34m.\u001b[0m\u001b[0mload\u001b[0m\u001b[0;34m(\u001b[0m\u001b[0mpkl_file\u001b[0m\u001b[0;34m)\u001b[0m\u001b[0;34m\u001b[0m\u001b[0;34m\u001b[0m\u001b[0m\n\u001b[1;32m     16\u001b[0m         \u001b[0;32mexcept\u001b[0m \u001b[0mValueError\u001b[0m\u001b[0;34m:\u001b[0m\u001b[0;34m\u001b[0m\u001b[0;34m\u001b[0m\u001b[0m\n",
      "\u001b[0;31mKeyboardInterrupt\u001b[0m: "
     ]
    }
   ],
   "source": [
    "train_loss_values, eval_loss_values, training_accuracy = train_model(1)\n",
    "writer.flush()"
   ]
  },
  {
   "cell_type": "code",
   "execution_count": 83,
   "metadata": {},
   "outputs": [
    {
     "data": {
      "text/plain": [
       "(10, 10, 10)"
      ]
     },
     "execution_count": 83,
     "metadata": {},
     "output_type": "execute_result"
    }
   ],
   "source": [
    "# Just a sanity check\n",
    "len(train_loss_values), len(eval_loss_values), len(training_accuracy)"
   ]
  },
  {
   "cell_type": "code",
   "execution_count": 84,
   "metadata": {
    "scrolled": true
   },
   "outputs": [
    {
     "data": {
      "image/png": "[encoded data removed]",
      "text/plain": [
       "<Figure size 432x288 with 1 Axes>"
      ]
     },
     "metadata": {
      "needs_background": "light"
     },
     "output_type": "display_data"
    }
   ],
   "source": [
    "plt.plot(train_loss_values, label='train_loss')\n",
    "plt.plot(eval_loss_values, label='val_loss')\n",
    "plt.xlabel('Epoch')\n",
    "plt.ylabel('loss')\n",
    "plt.legend()\n",
    "# plt.show()\n",
    "plt.savefig('imitation.jpg')"
   ]
  },
  {
   "cell_type": "code",
   "execution_count": 85,
   "metadata": {},
   "outputs": [
    {
     "data": {
      "image/png": "[encoded data removed]",
      "text/plain": [
       "<Figure size 432x288 with 1 Axes>"
      ]
     },
     "metadata": {
      "needs_background": "light"
     },
     "output_type": "display_data"
    }
   ],
   "source": [
    "plt.plot(training_accuracy)\n",
    "plt.show()"
   ]
  },
  {
   "cell_type": "code",
   "execution_count": 21,
   "metadata": {},
   "outputs": [
    {
     "ename": "NameError",
     "evalue": "name 'writer' is not defined",
     "output_type": "error",
     "traceback": [
      "\u001b[0;31m---------------------------------------------------------------------------\u001b[0m",
      "\u001b[0;31mNameError\u001b[0m                                 Traceback (most recent call last)",
      "\u001b[0;32m<ipython-input-21-5f6d4868f1d2>\u001b[0m in \u001b[0;36m<module>\u001b[0;34m\u001b[0m\n\u001b[0;32m----> 1\u001b[0;31m \u001b[0mwriter\u001b[0m\u001b[0;34m.\u001b[0m\u001b[0mclose\u001b[0m\u001b[0;34m(\u001b[0m\u001b[0;34m)\u001b[0m\u001b[0;34m\u001b[0m\u001b[0;34m\u001b[0m\u001b[0m\n\u001b[0m",
      "\u001b[0;31mNameError\u001b[0m: name 'writer' is not defined"
     ]
    }
   ],
   "source": [
    "writer.close()"
   ]
  },
  {
   "cell_type": "code",
   "execution_count": 1,
   "metadata": {},
   "outputs": [
    {
     "name": "stdout",
     "output_type": "stream",
     "text": [
      "Traceback (most recent call last):\n",
      "  File \"/home/ssk/.local/bin/tensorboard\", line 5, in <module>\n",
      "    from tensorboard.main import run_main\n",
      "  File \"/home/ssk/.local/lib/python3.6/site-packages/tensorboard/main.py\", line 27, in <module>\n",
      "    from tensorboard import default\n",
      "  File \"/home/ssk/.local/lib/python3.6/site-packages/tensorboard/default.py\", line 33, in <module>\n",
      "    from tensorboard.plugins.audio import audio_plugin\n",
      "  File \"/home/ssk/.local/lib/python3.6/site-packages/tensorboard/plugins/audio/audio_plugin.py\", line 25, in <module>\n",
      "    from tensorboard.data import provider\n",
      "  File \"/home/ssk/.local/lib/python3.6/site-packages/tensorboard/data/__init__.py\", line 17, in <module>\n",
      "    from tensorboard.data import experimental  # noqa: F401\n",
      "  File \"/home/ssk/.local/lib/python3.6/site-packages/tensorboard/data/experimental/__init__.py\", line 17, in <module>\n",
      "    from tensorboard.data.experimental.experiment_from_dev import (  # noqa: F401\n",
      "  File \"/home/ssk/.local/lib/python3.6/site-packages/tensorboard/data/experimental/experiment_from_dev.py\", line 22, in <module>\n",
      "    import numpy as np\n",
      "ModuleNotFoundError: No module named 'numpy'\n"
     ]
    }
   ],
   "source": [
    "\n",
    "!tensorboard --logdir=runs"
   ]
  },
  {
   "cell_type": "markdown",
   "metadata": {},
   "source": [
    "### Reading from the JSON file"
   ]
  },
  {
   "cell_type": "code",
   "execution_count": null,
   "metadata": {},
   "outputs": [],
   "source": [
    "import json"
   ]
  },
  {
   "cell_type": "code",
   "execution_count": null,
   "metadata": {},
   "outputs": [],
   "source": [
    "epi_file = open(\"replays/3865031.json\")\n",
    "\n",
    "episode_data = json.load(epi_file)"
   ]
  },
  {
   "cell_type": "code",
   "execution_count": null,
   "metadata": {
    "scrolled": true
   },
   "outputs": [],
   "source": [
    "episode_data.keys()"
   ]
  },
  {
   "cell_type": "code",
   "execution_count": null,
   "metadata": {},
   "outputs": [],
   "source": [
    "episode_data['steps'][30][0]['observation']['players_raw'][0].keys()"
   ]
  },
  {
   "cell_type": "code",
   "execution_count": null,
   "metadata": {},
   "outputs": [],
   "source": [
    "episode_data['steps'][0][0]['observation']['players_raw'][0].keys()"
   ]
  },
  {
   "cell_type": "code",
   "execution_count": null,
   "metadata": {},
   "outputs": [],
   "source": [
    "step = 0 # total 3002 steps: 0.....3001\n",
    "episode_data['steps'][step][0]['observation']['players_raw'][0]"
   ]
  },
  {
   "cell_type": "code",
   "execution_count": null,
   "metadata": {},
   "outputs": [],
   "source": [
    "data['steps'][3001][0]['action']"
   ]
  },
  {
   "cell_type": "markdown",
   "metadata": {},
   "source": [
    "### Other experiments"
   ]
  },
  {
   "cell_type": "code",
   "execution_count": null,
   "metadata": {},
   "outputs": [],
   "source": [
    "import numpy as np\n",
    "np.random.rand(3,2)"
   ]
  },
  {
   "cell_type": "code",
   "execution_count": null,
   "metadata": {},
   "outputs": [],
   "source": [
    "a = np.random.rand(1, 116)"
   ]
  },
  {
   "cell_type": "code",
   "execution_count": null,
   "metadata": {},
   "outputs": [],
   "source": [
    "type(a), a.dtype"
   ]
  },
  {
   "cell_type": "code",
   "execution_count": null,
   "metadata": {},
   "outputs": [],
   "source": [
    "from sys import getsizeof"
   ]
  },
  {
   "cell_type": "code",
   "execution_count": null,
   "metadata": {},
   "outputs": [],
   "source": [
    "print(f\"{(a.nbytes/1000000) * (4800*3001) / 1000} GB\")"
   ]
  },
  {
   "cell_type": "code",
   "execution_count": null,
   "metadata": {},
   "outputs": [],
   "source": [
    "14,404,800\n"
   ]
  },
  {
   "cell_type": "code",
   "execution_count": null,
   "metadata": {},
   "outputs": [],
   "source": [
    "os.listdir()"
   ]
  },
  {
   "cell_type": "code",
   "execution_count": null,
   "metadata": {},
   "outputs": [],
   "source": [
    "import csv\n",
    "a = ['apple', 'orange', 'banana']\n",
    "print(a)\n",
    "with open(\"output.csv\", \"wb\") as f:\n",
    "    writer = csv.writer(f, delimiter=',')\n",
    "    writer.writerow(a)"
   ]
  },
  {
   "cell_type": "code",
   "execution_count": null,
   "metadata": {},
   "outputs": [],
   "source": [
    "['Spam'] * 5 + ['Baked Beans']"
   ]
  },
  {
   "cell_type": "code",
   "execution_count": null,
   "metadata": {},
   "outputs": [],
   "source": [
    "os.listdir()"
   ]
  },
  {
   "cell_type": "code",
   "execution_count": null,
   "metadata": {},
   "outputs": [],
   "source": [
    "import csv\n",
    "a = [1, 2, 3, 4, 5]\n",
    "with open('eggs.csv', 'w') as csvfile:\n",
    "    spamwriter = csv.writer(csvfile, delimiter=',', quoting=csv.QUOTE_MINIMAL)\n",
    "    spamwriter.writerow(['Spam'] * 5 + ['Baked Beans'])\n",
    "    spamwriter.writerow(['Spam', 'Lovely Spam', 'Wonderful Spam'])"
   ]
  },
  {
   "cell_type": "code",
   "execution_count": 122,
   "metadata": {},
   "outputs": [],
   "source": [
    "from distributed import Client"
   ]
  },
  {
   "cell_type": "code",
   "execution_count": 125,
   "metadata": {},
   "outputs": [],
   "source": [
    "# from dask.distributed import Client\n",
    "\n",
    "# # Scale up: connect to your own cluster with more resources\n",
    "# # see http://dask.pydata.org/en/latest/setup.html\n",
    "# client = Client(processes=False, threads_per_worker=4,\n",
    "#                 n_workers=1, memory_limit='2GB')\n",
    "# client"
   ]
  },
  {
   "cell_type": "code",
   "execution_count": 4,
   "metadata": {},
   "outputs": [],
   "source": [
    "import dask_ml.datasets\n",
    "import dask_ml.cluster\n",
    "import matplotlib.pyplot as plt"
   ]
  },
  {
   "cell_type": "code",
   "execution_count": 13,
   "metadata": {},
   "outputs": [
    {
     "data": {
      "text/html": [
       "<table>\n",
       "<tr>\n",
       "<td>\n",
       "<table>\n",
       "  <thead>\n",
       "    <tr><td> </td><th> Array </th><th> Chunk </th></tr>\n",
       "  </thead>\n",
       "  <tbody>\n",
       "    <tr><th> Bytes </th><td> 16.00 MB </td> <td> 1.60 MB </td></tr>\n",
       "    <tr><th> Shape </th><td> (1000000, 2) </td> <td> (100000, 2) </td></tr>\n",
       "    <tr><th> Count </th><td> 10 Tasks </td><td> 10 Chunks </td></tr>\n",
       "    <tr><th> Type </th><td> float64 </td><td> numpy.ndarray </td></tr>\n",
       "  </tbody>\n",
       "</table>\n",
       "</td>\n",
       "<td>\n",
       "<svg width=\"75\" height=\"170\" style=\"stroke:rgb(0,0,0);stroke-width:1\" >\n",
       "\n",
       "  <!-- Horizontal lines -->\n",
       "  <line x1=\"0\" y1=\"0\" x2=\"25\" y2=\"0\" style=\"stroke-width:2\" />\n",
       "  <line x1=\"0\" y1=\"12\" x2=\"25\" y2=\"12\" />\n",
       "  <line x1=\"0\" y1=\"24\" x2=\"25\" y2=\"24\" />\n",
       "  <line x1=\"0\" y1=\"36\" x2=\"25\" y2=\"36\" />\n",
       "  <line x1=\"0\" y1=\"48\" x2=\"25\" y2=\"48\" />\n",
       "  <line x1=\"0\" y1=\"60\" x2=\"25\" y2=\"60\" />\n",
       "  <line x1=\"0\" y1=\"72\" x2=\"25\" y2=\"72\" />\n",
       "  <line x1=\"0\" y1=\"84\" x2=\"25\" y2=\"84\" />\n",
       "  <line x1=\"0\" y1=\"96\" x2=\"25\" y2=\"96\" />\n",
       "  <line x1=\"0\" y1=\"108\" x2=\"25\" y2=\"108\" />\n",
       "  <line x1=\"0\" y1=\"120\" x2=\"25\" y2=\"120\" style=\"stroke-width:2\" />\n",
       "\n",
       "  <!-- Vertical lines -->\n",
       "  <line x1=\"0\" y1=\"0\" x2=\"0\" y2=\"120\" style=\"stroke-width:2\" />\n",
       "  <line x1=\"25\" y1=\"0\" x2=\"25\" y2=\"120\" style=\"stroke-width:2\" />\n",
       "\n",
       "  <!-- Colored Rectangle -->\n",
       "  <polygon points=\"0.0,0.0 25.412616514582485,0.0 25.412616514582485,120.0 0.0,120.0\" style=\"fill:#ECB172A0;stroke-width:0\"/>\n",
       "\n",
       "  <!-- Text -->\n",
       "  <text x=\"12.706308\" y=\"140.000000\" font-size=\"1.0rem\" font-weight=\"100\" text-anchor=\"middle\" >2</text>\n",
       "  <text x=\"45.412617\" y=\"60.000000\" font-size=\"1.0rem\" font-weight=\"100\" text-anchor=\"middle\" transform=\"rotate(-90,45.412617,60.000000)\">1000000</text>\n",
       "</svg>\n",
       "</td>\n",
       "</tr>\n",
       "</table>"
      ],
      "text/plain": [
       "dask.array<concatenate, shape=(1000000, 2), dtype=float64, chunksize=(100000, 2), chunktype=numpy.ndarray>"
      ]
     },
     "execution_count": 13,
     "metadata": {},
     "output_type": "execute_result"
    }
   ],
   "source": [
    "X, y = dask_ml.datasets.make_blobs(n_samples=1000000,\n",
    "                                   chunks=100000,\n",
    "                                   random_state=0,\n",
    "                                   centers=3)\n",
    "X = X.persist()\n",
    "X"
   ]
  },
  {
   "cell_type": "code",
   "execution_count": 19,
   "metadata": {},
   "outputs": [
    {
     "ename": "IndexError",
     "evalue": "Too many indices for array",
     "output_type": "error",
     "traceback": [
      "\u001b[0;31m---------------------------------------------------------------------------\u001b[0m",
      "\u001b[0;31mIndexError\u001b[0m                                Traceback (most recent call last)",
      "\u001b[0;32m<ipython-input-19-7d3bc4c475f7>\u001b[0m in \u001b[0;36m<module>\u001b[0;34m\u001b[0m\n\u001b[1;32m      1\u001b[0m \u001b[0mkm\u001b[0m \u001b[0;34m=\u001b[0m \u001b[0mdask_ml\u001b[0m\u001b[0;34m.\u001b[0m\u001b[0mcluster\u001b[0m\u001b[0;34m.\u001b[0m\u001b[0mKMeans\u001b[0m\u001b[0;34m(\u001b[0m\u001b[0mn_clusters\u001b[0m\u001b[0;34m=\u001b[0m\u001b[0;36m3\u001b[0m\u001b[0;34m,\u001b[0m \u001b[0minit_max_iter\u001b[0m\u001b[0;34m=\u001b[0m\u001b[0;36m2\u001b[0m\u001b[0;34m,\u001b[0m \u001b[0moversampling_factor\u001b[0m\u001b[0;34m=\u001b[0m\u001b[0;36m10\u001b[0m\u001b[0;34m)\u001b[0m\u001b[0;34m\u001b[0m\u001b[0;34m\u001b[0m\u001b[0m\n\u001b[0;32m----> 2\u001b[0;31m \u001b[0mkm\u001b[0m\u001b[0;34m.\u001b[0m\u001b[0mfit\u001b[0m\u001b[0;34m(\u001b[0m\u001b[0mX\u001b[0m\u001b[0;34m)\u001b[0m\u001b[0;34m\u001b[0m\u001b[0;34m\u001b[0m\u001b[0m\n\u001b[0m",
      "\u001b[0;32m~/.local/lib/python3.6/site-packages/dask_ml/cluster/k_means.py\u001b[0m in \u001b[0;36mfit\u001b[0;34m(self, X, y)\u001b[0m\n\u001b[1;32m    204\u001b[0m             \u001b[0mmax_iter\u001b[0m\u001b[0;34m=\u001b[0m\u001b[0mself\u001b[0m\u001b[0;34m.\u001b[0m\u001b[0mmax_iter\u001b[0m\u001b[0;34m,\u001b[0m\u001b[0;34m\u001b[0m\u001b[0;34m\u001b[0m\u001b[0m\n\u001b[1;32m    205\u001b[0m             \u001b[0minit_max_iter\u001b[0m\u001b[0;34m=\u001b[0m\u001b[0mself\u001b[0m\u001b[0;34m.\u001b[0m\u001b[0minit_max_iter\u001b[0m\u001b[0;34m,\u001b[0m\u001b[0;34m\u001b[0m\u001b[0;34m\u001b[0m\u001b[0m\n\u001b[0;32m--> 206\u001b[0;31m             \u001b[0mtol\u001b[0m\u001b[0;34m=\u001b[0m\u001b[0mself\u001b[0m\u001b[0;34m.\u001b[0m\u001b[0mtol\u001b[0m\u001b[0;34m,\u001b[0m\u001b[0;34m\u001b[0m\u001b[0;34m\u001b[0m\u001b[0m\n\u001b[0m\u001b[1;32m    207\u001b[0m         )\n\u001b[1;32m    208\u001b[0m         \u001b[0mself\u001b[0m\u001b[0;34m.\u001b[0m\u001b[0mcluster_centers_\u001b[0m \u001b[0;34m=\u001b[0m \u001b[0mcentroids\u001b[0m\u001b[0;34m\u001b[0m\u001b[0;34m\u001b[0m\u001b[0m\n",
      "\u001b[0;32m~/.local/lib/python3.6/site-packages/dask_ml/cluster/k_means.py\u001b[0m in \u001b[0;36mk_means\u001b[0;34m(X, n_clusters, init, precompute_distances, n_init, max_iter, verbose, tol, random_state, copy_x, n_jobs, algorithm, return_n_iter, oversampling_factor, init_max_iter)\u001b[0m\n\u001b[1;32m    276\u001b[0m         \u001b[0mrandom_state\u001b[0m\u001b[0;34m=\u001b[0m\u001b[0mrandom_state\u001b[0m\u001b[0;34m,\u001b[0m\u001b[0;34m\u001b[0m\u001b[0;34m\u001b[0m\u001b[0m\n\u001b[1;32m    277\u001b[0m         \u001b[0moversampling_factor\u001b[0m\u001b[0;34m=\u001b[0m\u001b[0moversampling_factor\u001b[0m\u001b[0;34m,\u001b[0m\u001b[0;34m\u001b[0m\u001b[0;34m\u001b[0m\u001b[0m\n\u001b[0;32m--> 278\u001b[0;31m         \u001b[0minit_max_iter\u001b[0m\u001b[0;34m=\u001b[0m\u001b[0minit_max_iter\u001b[0m\u001b[0;34m,\u001b[0m\u001b[0;34m\u001b[0m\u001b[0;34m\u001b[0m\u001b[0m\n\u001b[0m\u001b[1;32m    279\u001b[0m     )\n\u001b[1;32m    280\u001b[0m     \u001b[0;32mif\u001b[0m \u001b[0mreturn_n_iter\u001b[0m\u001b[0;34m:\u001b[0m\u001b[0;34m\u001b[0m\u001b[0;34m\u001b[0m\u001b[0m\n",
      "\u001b[0;32m~/.local/lib/python3.6/site-packages/dask_ml/cluster/k_means.py\u001b[0m in \u001b[0;36m_kmeans_single_lloyd\u001b[0;34m(X, n_clusters, max_iter, init, verbose, x_squared_norms, random_state, tol, precompute_distances, oversampling_factor, init_max_iter)\u001b[0m\n\u001b[1;32m    570\u001b[0m             \u001b[0;31m# Require at least one per bucket, to avoid division by 0.\u001b[0m\u001b[0;34m\u001b[0m\u001b[0;34m\u001b[0m\u001b[0;34m\u001b[0m\u001b[0m\n\u001b[1;32m    571\u001b[0m             \u001b[0mcounts\u001b[0m \u001b[0;34m=\u001b[0m \u001b[0mda\u001b[0m\u001b[0;34m.\u001b[0m\u001b[0mmaximum\u001b[0m\u001b[0;34m(\u001b[0m\u001b[0mcounts\u001b[0m\u001b[0;34m,\u001b[0m \u001b[0;36m1\u001b[0m\u001b[0;34m)\u001b[0m\u001b[0;34m\u001b[0m\u001b[0;34m\u001b[0m\u001b[0m\n\u001b[0;32m--> 572\u001b[0;31m             \u001b[0mnew_centers\u001b[0m \u001b[0;34m=\u001b[0m \u001b[0mnew_centers\u001b[0m \u001b[0;34m/\u001b[0m \u001b[0mcounts\u001b[0m\u001b[0;34m[\u001b[0m\u001b[0;34m:\u001b[0m\u001b[0;34m,\u001b[0m \u001b[0;32mNone\u001b[0m\u001b[0;34m]\u001b[0m\u001b[0;34m\u001b[0m\u001b[0;34m\u001b[0m\u001b[0m\n\u001b[0m\u001b[1;32m    573\u001b[0m             \u001b[0;34m(\u001b[0m\u001b[0mnew_centers\u001b[0m\u001b[0;34m,\u001b[0m\u001b[0;34m)\u001b[0m \u001b[0;34m=\u001b[0m \u001b[0mcompute\u001b[0m\u001b[0;34m(\u001b[0m\u001b[0mnew_centers\u001b[0m\u001b[0;34m)\u001b[0m\u001b[0;34m\u001b[0m\u001b[0;34m\u001b[0m\u001b[0m\n\u001b[1;32m    574\u001b[0m \u001b[0;34m\u001b[0m\u001b[0m\n",
      "\u001b[0;32m~/.local/lib/python3.6/site-packages/dask/array/core.py\u001b[0m in \u001b[0;36m__getitem__\u001b[0;34m(self, index)\u001b[0m\n\u001b[1;32m   1694\u001b[0m         )\n\u001b[1;32m   1695\u001b[0m \u001b[0;34m\u001b[0m\u001b[0m\n\u001b[0;32m-> 1696\u001b[0;31m         \u001b[0mindex2\u001b[0m \u001b[0;34m=\u001b[0m \u001b[0mnormalize_index\u001b[0m\u001b[0;34m(\u001b[0m\u001b[0mindex\u001b[0m\u001b[0;34m,\u001b[0m \u001b[0mself\u001b[0m\u001b[0;34m.\u001b[0m\u001b[0mshape\u001b[0m\u001b[0;34m)\u001b[0m\u001b[0;34m\u001b[0m\u001b[0;34m\u001b[0m\u001b[0m\n\u001b[0m\u001b[1;32m   1697\u001b[0m         \u001b[0mdependencies\u001b[0m \u001b[0;34m=\u001b[0m \u001b[0;34m{\u001b[0m\u001b[0mself\u001b[0m\u001b[0;34m.\u001b[0m\u001b[0mname\u001b[0m\u001b[0;34m}\u001b[0m\u001b[0;34m\u001b[0m\u001b[0;34m\u001b[0m\u001b[0m\n\u001b[1;32m   1698\u001b[0m         \u001b[0;32mfor\u001b[0m \u001b[0mi\u001b[0m \u001b[0;32min\u001b[0m \u001b[0mindex2\u001b[0m\u001b[0;34m:\u001b[0m\u001b[0;34m\u001b[0m\u001b[0;34m\u001b[0m\u001b[0m\n",
      "\u001b[0;32m~/.local/lib/python3.6/site-packages/dask/array/slicing.py\u001b[0m in \u001b[0;36mnormalize_index\u001b[0;34m(idx, shape)\u001b[0m\n\u001b[1;32m    895\u001b[0m     \u001b[0midx\u001b[0m \u001b[0;34m=\u001b[0m \u001b[0midx\u001b[0m \u001b[0;34m+\u001b[0m \u001b[0;34m(\u001b[0m\u001b[0mslice\u001b[0m\u001b[0;34m(\u001b[0m\u001b[0;32mNone\u001b[0m\u001b[0;34m)\u001b[0m\u001b[0;34m,\u001b[0m\u001b[0;34m)\u001b[0m \u001b[0;34m*\u001b[0m \u001b[0;34m(\u001b[0m\u001b[0mlen\u001b[0m\u001b[0;34m(\u001b[0m\u001b[0mshape\u001b[0m\u001b[0;34m)\u001b[0m \u001b[0;34m-\u001b[0m \u001b[0mn_sliced_dims\u001b[0m\u001b[0;34m)\u001b[0m\u001b[0;34m\u001b[0m\u001b[0;34m\u001b[0m\u001b[0m\n\u001b[1;32m    896\u001b[0m     \u001b[0;32mif\u001b[0m \u001b[0mlen\u001b[0m\u001b[0;34m(\u001b[0m\u001b[0;34m[\u001b[0m\u001b[0mi\u001b[0m \u001b[0;32mfor\u001b[0m \u001b[0mi\u001b[0m \u001b[0;32min\u001b[0m \u001b[0midx\u001b[0m \u001b[0;32mif\u001b[0m \u001b[0mi\u001b[0m \u001b[0;32mis\u001b[0m \u001b[0;32mnot\u001b[0m \u001b[0;32mNone\u001b[0m\u001b[0;34m]\u001b[0m\u001b[0;34m)\u001b[0m \u001b[0;34m>\u001b[0m \u001b[0mlen\u001b[0m\u001b[0;34m(\u001b[0m\u001b[0mshape\u001b[0m\u001b[0;34m)\u001b[0m\u001b[0;34m:\u001b[0m\u001b[0;34m\u001b[0m\u001b[0;34m\u001b[0m\u001b[0m\n\u001b[0;32m--> 897\u001b[0;31m         \u001b[0;32mraise\u001b[0m \u001b[0mIndexError\u001b[0m\u001b[0;34m(\u001b[0m\u001b[0;34m\"Too many indices for array\"\u001b[0m\u001b[0;34m)\u001b[0m\u001b[0;34m\u001b[0m\u001b[0;34m\u001b[0m\u001b[0m\n\u001b[0m\u001b[1;32m    898\u001b[0m \u001b[0;34m\u001b[0m\u001b[0m\n\u001b[1;32m    899\u001b[0m     \u001b[0mnone_shape\u001b[0m \u001b[0;34m=\u001b[0m \u001b[0;34m[\u001b[0m\u001b[0;34m]\u001b[0m\u001b[0;34m\u001b[0m\u001b[0;34m\u001b[0m\u001b[0m\n",
      "\u001b[0;31mIndexError\u001b[0m: Too many indices for array"
     ]
    }
   ],
   "source": [
    "km = dask_ml.cluster.KMeans(n_clusters=3, init_max_iter=2, oversampling_factor=10)\n",
    "km.fit(X)"
   ]
  },
  {
   "cell_type": "code",
   "execution_count": 43,
   "metadata": {},
   "outputs": [],
   "source": [
    "import csv"
   ]
  },
  {
   "cell_type": "code",
   "execution_count": 72,
   "metadata": {},
   "outputs": [],
   "source": [
    "csv_files_train = os.listdir('../dataset/train')"
   ]
  },
  {
   "cell_type": "code",
   "execution_count": 74,
   "metadata": {},
   "outputs": [
    {
     "name": "stderr",
     "output_type": "stream",
     "text": [
      "100%|██████████| 40/40 [27:29<00:00, 41.24s/it]\n"
     ]
    }
   ],
   "source": [
    "with open ('../dataset/train.csv', 'w') as csv_file:\n",
    "    csv_writer = csv.writer(csv_file)\n",
    "    for file in tqdm(csv_files_train):\n",
    "        obs_arr = np.array(pd.read_csv(os.path.join('../dataset/train', file)))\n",
    "        csv_writer.writerows(obs_arr)\n"
   ]
  },
  {
   "cell_type": "code",
   "execution_count": 68,
   "metadata": {},
   "outputs": [],
   "source": [
    "csv_a = np.array(pd.read_csv('../dataset/train/train_replay__0.csv'))\n",
    "csv_b = np.array(pd.read_csv('../dataset/train/train_replay__1.csv'))"
   ]
  },
  {
   "cell_type": "code",
   "execution_count": 69,
   "metadata": {},
   "outputs": [],
   "source": [
    "with open ('test.csv', 'w') as csv_file:\n",
    "    csv_writer = csv.writer(csv_file)\n",
    "    csv_writer.writerows(csv_a)\n",
    "    csv_writer.writerows(csv_b)"
   ]
  },
  {
   "cell_type": "code",
   "execution_count": 70,
   "metadata": {},
   "outputs": [],
   "source": [
    "test_csv = pd.read_csv('test.csv')"
   ]
  },
  {
   "cell_type": "code",
   "execution_count": 71,
   "metadata": {},
   "outputs": [
    {
     "data": {
      "text/plain": [
       "(504165, 116)"
      ]
     },
     "execution_count": 71,
     "metadata": {},
     "output_type": "execute_result"
    }
   ],
   "source": [
    "test_csv.shape"
   ]
  },
  {
   "cell_type": "code",
   "execution_count": 98,
   "metadata": {},
   "outputs": [
    {
     "name": "stderr",
     "output_type": "stream",
     "text": [
      "100%|██████████| 14404800/14404800 [00:03<00:00, 3792540.55it/s]\n"
     ]
    }
   ],
   "source": [
    "rand_list = [random.random() for i in tqdm(range(4800*3001))]"
   ]
  },
  {
   "cell_type": "code",
   "execution_count": 99,
   "metadata": {},
   "outputs": [
    {
     "data": {
      "text/plain": [
       "14404800"
      ]
     },
     "execution_count": 99,
     "metadata": {},
     "output_type": "execute_result"
    }
   ],
   "source": [
    "len(rand_list)"
   ]
  },
  {
   "cell_type": "code",
   "execution_count": 100,
   "metadata": {},
   "outputs": [],
   "source": [
    "a = np.array(rand_list)"
   ]
  },
  {
   "cell_type": "code",
   "execution_count": 101,
   "metadata": {},
   "outputs": [
    {
     "data": {
      "text/plain": [
       "((14404800,), 115.2384)"
      ]
     },
     "execution_count": 101,
     "metadata": {},
     "output_type": "execute_result"
    }
   ],
   "source": [
    "a.shape, a.nbytes/1000000"
   ]
  },
  {
   "cell_type": "code",
   "execution_count": 106,
   "metadata": {},
   "outputs": [
    {
     "data": {
      "text/plain": [
       "'.gitkeep'"
      ]
     },
     "execution_count": 106,
     "metadata": {},
     "output_type": "execute_result"
    }
   ],
   "source": [
    "replay_files_path = '../replay_files'\n",
    "replay_files = os.listdir(replay_files_path)\n",
    "replay_files.pop(0)"
   ]
  },
  {
   "cell_type": "code",
   "execution_count": 111,
   "metadata": {},
   "outputs": [],
   "source": [
    "obs_list = []\n",
    "for replay_file_name in replay_files:\n",
    "    for step in range(3001):\n",
    "        frame = replay_file_name.split('.')[0] + f'_{step}'\n",
    "        obs_list.append(frame)"
   ]
  },
  {
   "cell_type": "code",
   "execution_count": 112,
   "metadata": {},
   "outputs": [
    {
     "data": {
      "text/plain": [
       "14404800"
      ]
     },
     "execution_count": 112,
     "metadata": {},
     "output_type": "execute_result"
    }
   ],
   "source": [
    "len(obs_list)"
   ]
  },
  {
   "cell_type": "code",
   "execution_count": 113,
   "metadata": {},
   "outputs": [
    {
     "data": {
      "text/plain": [
       "['3720620_0',\n",
       " '3720620_1',\n",
       " '3720620_2',\n",
       " '3720620_3',\n",
       " '3720620_4',\n",
       " '3720620_5',\n",
       " '3720620_6',\n",
       " '3720620_7',\n",
       " '3720620_8',\n",
       " '3720620_9',\n",
       " '3720620_10',\n",
       " '3720620_11',\n",
       " '3720620_12',\n",
       " '3720620_13',\n",
       " '3720620_14',\n",
       " '3720620_15',\n",
       " '3720620_16',\n",
       " '3720620_17',\n",
       " '3720620_18',\n",
       " '3720620_19',\n",
       " '3720620_20',\n",
       " '3720620_21',\n",
       " '3720620_22',\n",
       " '3720620_23',\n",
       " '3720620_24',\n",
       " '3720620_25',\n",
       " '3720620_26',\n",
       " '3720620_27',\n",
       " '3720620_28',\n",
       " '3720620_29',\n",
       " '3720620_30',\n",
       " '3720620_31',\n",
       " '3720620_32',\n",
       " '3720620_33',\n",
       " '3720620_34',\n",
       " '3720620_35',\n",
       " '3720620_36',\n",
       " '3720620_37',\n",
       " '3720620_38',\n",
       " '3720620_39',\n",
       " '3720620_40',\n",
       " '3720620_41',\n",
       " '3720620_42',\n",
       " '3720620_43',\n",
       " '3720620_44',\n",
       " '3720620_45',\n",
       " '3720620_46',\n",
       " '3720620_47',\n",
       " '3720620_48',\n",
       " '3720620_49',\n",
       " '3720620_50',\n",
       " '3720620_51',\n",
       " '3720620_52',\n",
       " '3720620_53',\n",
       " '3720620_54',\n",
       " '3720620_55',\n",
       " '3720620_56',\n",
       " '3720620_57',\n",
       " '3720620_58',\n",
       " '3720620_59',\n",
       " '3720620_60',\n",
       " '3720620_61',\n",
       " '3720620_62',\n",
       " '3720620_63',\n",
       " '3720620_64',\n",
       " '3720620_65',\n",
       " '3720620_66',\n",
       " '3720620_67',\n",
       " '3720620_68',\n",
       " '3720620_69',\n",
       " '3720620_70',\n",
       " '3720620_71',\n",
       " '3720620_72',\n",
       " '3720620_73',\n",
       " '3720620_74',\n",
       " '3720620_75',\n",
       " '3720620_76',\n",
       " '3720620_77',\n",
       " '3720620_78',\n",
       " '3720620_79',\n",
       " '3720620_80',\n",
       " '3720620_81',\n",
       " '3720620_82',\n",
       " '3720620_83',\n",
       " '3720620_84',\n",
       " '3720620_85',\n",
       " '3720620_86',\n",
       " '3720620_87',\n",
       " '3720620_88',\n",
       " '3720620_89',\n",
       " '3720620_90',\n",
       " '3720620_91',\n",
       " '3720620_92',\n",
       " '3720620_93',\n",
       " '3720620_94',\n",
       " '3720620_95',\n",
       " '3720620_96',\n",
       " '3720620_97',\n",
       " '3720620_98',\n",
       " '3720620_99',\n",
       " '3720620_100',\n",
       " '3720620_101',\n",
       " '3720620_102',\n",
       " '3720620_103',\n",
       " '3720620_104',\n",
       " '3720620_105',\n",
       " '3720620_106',\n",
       " '3720620_107',\n",
       " '3720620_108',\n",
       " '3720620_109',\n",
       " '3720620_110',\n",
       " '3720620_111',\n",
       " '3720620_112',\n",
       " '3720620_113',\n",
       " '3720620_114',\n",
       " '3720620_115',\n",
       " '3720620_116',\n",
       " '3720620_117',\n",
       " '3720620_118',\n",
       " '3720620_119',\n",
       " '3720620_120',\n",
       " '3720620_121',\n",
       " '3720620_122',\n",
       " '3720620_123',\n",
       " '3720620_124',\n",
       " '3720620_125',\n",
       " '3720620_126',\n",
       " '3720620_127',\n",
       " '3720620_128',\n",
       " '3720620_129',\n",
       " '3720620_130',\n",
       " '3720620_131',\n",
       " '3720620_132',\n",
       " '3720620_133',\n",
       " '3720620_134',\n",
       " '3720620_135',\n",
       " '3720620_136',\n",
       " '3720620_137',\n",
       " '3720620_138',\n",
       " '3720620_139',\n",
       " '3720620_140',\n",
       " '3720620_141',\n",
       " '3720620_142',\n",
       " '3720620_143',\n",
       " '3720620_144',\n",
       " '3720620_145',\n",
       " '3720620_146',\n",
       " '3720620_147',\n",
       " '3720620_148',\n",
       " '3720620_149',\n",
       " '3720620_150',\n",
       " '3720620_151',\n",
       " '3720620_152',\n",
       " '3720620_153',\n",
       " '3720620_154',\n",
       " '3720620_155',\n",
       " '3720620_156',\n",
       " '3720620_157',\n",
       " '3720620_158',\n",
       " '3720620_159',\n",
       " '3720620_160',\n",
       " '3720620_161',\n",
       " '3720620_162',\n",
       " '3720620_163',\n",
       " '3720620_164',\n",
       " '3720620_165',\n",
       " '3720620_166',\n",
       " '3720620_167',\n",
       " '3720620_168',\n",
       " '3720620_169',\n",
       " '3720620_170',\n",
       " '3720620_171',\n",
       " '3720620_172',\n",
       " '3720620_173',\n",
       " '3720620_174',\n",
       " '3720620_175',\n",
       " '3720620_176',\n",
       " '3720620_177',\n",
       " '3720620_178',\n",
       " '3720620_179',\n",
       " '3720620_180',\n",
       " '3720620_181',\n",
       " '3720620_182',\n",
       " '3720620_183',\n",
       " '3720620_184',\n",
       " '3720620_185',\n",
       " '3720620_186',\n",
       " '3720620_187',\n",
       " '3720620_188',\n",
       " '3720620_189',\n",
       " '3720620_190',\n",
       " '3720620_191',\n",
       " '3720620_192',\n",
       " '3720620_193',\n",
       " '3720620_194',\n",
       " '3720620_195',\n",
       " '3720620_196',\n",
       " '3720620_197',\n",
       " '3720620_198',\n",
       " '3720620_199',\n",
       " '3720620_200',\n",
       " '3720620_201',\n",
       " '3720620_202',\n",
       " '3720620_203',\n",
       " '3720620_204',\n",
       " '3720620_205',\n",
       " '3720620_206',\n",
       " '3720620_207',\n",
       " '3720620_208',\n",
       " '3720620_209',\n",
       " '3720620_210',\n",
       " '3720620_211',\n",
       " '3720620_212',\n",
       " '3720620_213',\n",
       " '3720620_214',\n",
       " '3720620_215',\n",
       " '3720620_216',\n",
       " '3720620_217',\n",
       " '3720620_218',\n",
       " '3720620_219',\n",
       " '3720620_220',\n",
       " '3720620_221',\n",
       " '3720620_222',\n",
       " '3720620_223',\n",
       " '3720620_224',\n",
       " '3720620_225',\n",
       " '3720620_226',\n",
       " '3720620_227',\n",
       " '3720620_228',\n",
       " '3720620_229',\n",
       " '3720620_230',\n",
       " '3720620_231',\n",
       " '3720620_232',\n",
       " '3720620_233',\n",
       " '3720620_234',\n",
       " '3720620_235',\n",
       " '3720620_236',\n",
       " '3720620_237',\n",
       " '3720620_238',\n",
       " '3720620_239',\n",
       " '3720620_240',\n",
       " '3720620_241',\n",
       " '3720620_242',\n",
       " '3720620_243',\n",
       " '3720620_244',\n",
       " '3720620_245',\n",
       " '3720620_246',\n",
       " '3720620_247',\n",
       " '3720620_248',\n",
       " '3720620_249',\n",
       " '3720620_250',\n",
       " '3720620_251',\n",
       " '3720620_252',\n",
       " '3720620_253',\n",
       " '3720620_254',\n",
       " '3720620_255',\n",
       " '3720620_256',\n",
       " '3720620_257',\n",
       " '3720620_258',\n",
       " '3720620_259',\n",
       " '3720620_260',\n",
       " '3720620_261',\n",
       " '3720620_262',\n",
       " '3720620_263',\n",
       " '3720620_264',\n",
       " '3720620_265',\n",
       " '3720620_266',\n",
       " '3720620_267',\n",
       " '3720620_268',\n",
       " '3720620_269',\n",
       " '3720620_270',\n",
       " '3720620_271',\n",
       " '3720620_272',\n",
       " '3720620_273',\n",
       " '3720620_274',\n",
       " '3720620_275',\n",
       " '3720620_276',\n",
       " '3720620_277',\n",
       " '3720620_278',\n",
       " '3720620_279',\n",
       " '3720620_280',\n",
       " '3720620_281',\n",
       " '3720620_282',\n",
       " '3720620_283',\n",
       " '3720620_284',\n",
       " '3720620_285',\n",
       " '3720620_286',\n",
       " '3720620_287',\n",
       " '3720620_288',\n",
       " '3720620_289',\n",
       " '3720620_290',\n",
       " '3720620_291',\n",
       " '3720620_292',\n",
       " '3720620_293',\n",
       " '3720620_294',\n",
       " '3720620_295',\n",
       " '3720620_296',\n",
       " '3720620_297',\n",
       " '3720620_298',\n",
       " '3720620_299',\n",
       " '3720620_300',\n",
       " '3720620_301',\n",
       " '3720620_302',\n",
       " '3720620_303',\n",
       " '3720620_304',\n",
       " '3720620_305',\n",
       " '3720620_306',\n",
       " '3720620_307',\n",
       " '3720620_308',\n",
       " '3720620_309',\n",
       " '3720620_310',\n",
       " '3720620_311',\n",
       " '3720620_312',\n",
       " '3720620_313',\n",
       " '3720620_314',\n",
       " '3720620_315',\n",
       " '3720620_316',\n",
       " '3720620_317',\n",
       " '3720620_318',\n",
       " '3720620_319',\n",
       " '3720620_320',\n",
       " '3720620_321',\n",
       " '3720620_322',\n",
       " '3720620_323',\n",
       " '3720620_324',\n",
       " '3720620_325',\n",
       " '3720620_326',\n",
       " '3720620_327',\n",
       " '3720620_328',\n",
       " '3720620_329',\n",
       " '3720620_330',\n",
       " '3720620_331',\n",
       " '3720620_332',\n",
       " '3720620_333',\n",
       " '3720620_334',\n",
       " '3720620_335',\n",
       " '3720620_336',\n",
       " '3720620_337',\n",
       " '3720620_338',\n",
       " '3720620_339',\n",
       " '3720620_340',\n",
       " '3720620_341',\n",
       " '3720620_342',\n",
       " '3720620_343',\n",
       " '3720620_344',\n",
       " '3720620_345',\n",
       " '3720620_346',\n",
       " '3720620_347',\n",
       " '3720620_348',\n",
       " '3720620_349',\n",
       " '3720620_350',\n",
       " '3720620_351',\n",
       " '3720620_352',\n",
       " '3720620_353',\n",
       " '3720620_354',\n",
       " '3720620_355',\n",
       " '3720620_356',\n",
       " '3720620_357',\n",
       " '3720620_358',\n",
       " '3720620_359',\n",
       " '3720620_360',\n",
       " '3720620_361',\n",
       " '3720620_362',\n",
       " '3720620_363',\n",
       " '3720620_364',\n",
       " '3720620_365',\n",
       " '3720620_366',\n",
       " '3720620_367',\n",
       " '3720620_368',\n",
       " '3720620_369',\n",
       " '3720620_370',\n",
       " '3720620_371',\n",
       " '3720620_372',\n",
       " '3720620_373',\n",
       " '3720620_374',\n",
       " '3720620_375',\n",
       " '3720620_376',\n",
       " '3720620_377',\n",
       " '3720620_378',\n",
       " '3720620_379',\n",
       " '3720620_380',\n",
       " '3720620_381',\n",
       " '3720620_382',\n",
       " '3720620_383',\n",
       " '3720620_384',\n",
       " '3720620_385',\n",
       " '3720620_386',\n",
       " '3720620_387',\n",
       " '3720620_388',\n",
       " '3720620_389',\n",
       " '3720620_390',\n",
       " '3720620_391',\n",
       " '3720620_392',\n",
       " '3720620_393',\n",
       " '3720620_394',\n",
       " '3720620_395',\n",
       " '3720620_396',\n",
       " '3720620_397',\n",
       " '3720620_398',\n",
       " '3720620_399',\n",
       " '3720620_400',\n",
       " '3720620_401',\n",
       " '3720620_402',\n",
       " '3720620_403',\n",
       " '3720620_404',\n",
       " '3720620_405',\n",
       " '3720620_406',\n",
       " '3720620_407',\n",
       " '3720620_408',\n",
       " '3720620_409',\n",
       " '3720620_410',\n",
       " '3720620_411',\n",
       " '3720620_412',\n",
       " '3720620_413',\n",
       " '3720620_414',\n",
       " '3720620_415',\n",
       " '3720620_416',\n",
       " '3720620_417',\n",
       " '3720620_418',\n",
       " '3720620_419',\n",
       " '3720620_420',\n",
       " '3720620_421',\n",
       " '3720620_422',\n",
       " '3720620_423',\n",
       " '3720620_424',\n",
       " '3720620_425',\n",
       " '3720620_426',\n",
       " '3720620_427',\n",
       " '3720620_428',\n",
       " '3720620_429',\n",
       " '3720620_430',\n",
       " '3720620_431',\n",
       " '3720620_432',\n",
       " '3720620_433',\n",
       " '3720620_434',\n",
       " '3720620_435',\n",
       " '3720620_436',\n",
       " '3720620_437',\n",
       " '3720620_438',\n",
       " '3720620_439',\n",
       " '3720620_440',\n",
       " '3720620_441',\n",
       " '3720620_442',\n",
       " '3720620_443',\n",
       " '3720620_444',\n",
       " '3720620_445',\n",
       " '3720620_446',\n",
       " '3720620_447',\n",
       " '3720620_448',\n",
       " '3720620_449',\n",
       " '3720620_450',\n",
       " '3720620_451',\n",
       " '3720620_452',\n",
       " '3720620_453',\n",
       " '3720620_454',\n",
       " '3720620_455',\n",
       " '3720620_456',\n",
       " '3720620_457',\n",
       " '3720620_458',\n",
       " '3720620_459',\n",
       " '3720620_460',\n",
       " '3720620_461',\n",
       " '3720620_462',\n",
       " '3720620_463',\n",
       " '3720620_464',\n",
       " '3720620_465',\n",
       " '3720620_466',\n",
       " '3720620_467',\n",
       " '3720620_468',\n",
       " '3720620_469',\n",
       " '3720620_470',\n",
       " '3720620_471',\n",
       " '3720620_472',\n",
       " '3720620_473',\n",
       " '3720620_474',\n",
       " '3720620_475',\n",
       " '3720620_476',\n",
       " '3720620_477',\n",
       " '3720620_478',\n",
       " '3720620_479',\n",
       " '3720620_480',\n",
       " '3720620_481',\n",
       " '3720620_482',\n",
       " '3720620_483',\n",
       " '3720620_484',\n",
       " '3720620_485',\n",
       " '3720620_486',\n",
       " '3720620_487',\n",
       " '3720620_488',\n",
       " '3720620_489',\n",
       " '3720620_490',\n",
       " '3720620_491',\n",
       " '3720620_492',\n",
       " '3720620_493',\n",
       " '3720620_494',\n",
       " '3720620_495',\n",
       " '3720620_496',\n",
       " '3720620_497',\n",
       " '3720620_498',\n",
       " '3720620_499',\n",
       " '3720620_500',\n",
       " '3720620_501',\n",
       " '3720620_502',\n",
       " '3720620_503',\n",
       " '3720620_504',\n",
       " '3720620_505',\n",
       " '3720620_506',\n",
       " '3720620_507',\n",
       " '3720620_508',\n",
       " '3720620_509',\n",
       " '3720620_510',\n",
       " '3720620_511',\n",
       " '3720620_512',\n",
       " '3720620_513',\n",
       " '3720620_514',\n",
       " '3720620_515',\n",
       " '3720620_516',\n",
       " '3720620_517',\n",
       " '3720620_518',\n",
       " '3720620_519',\n",
       " '3720620_520',\n",
       " '3720620_521',\n",
       " '3720620_522',\n",
       " '3720620_523',\n",
       " '3720620_524',\n",
       " '3720620_525',\n",
       " '3720620_526',\n",
       " '3720620_527',\n",
       " '3720620_528',\n",
       " '3720620_529',\n",
       " '3720620_530',\n",
       " '3720620_531',\n",
       " '3720620_532',\n",
       " '3720620_533',\n",
       " '3720620_534',\n",
       " '3720620_535',\n",
       " '3720620_536',\n",
       " '3720620_537',\n",
       " '3720620_538',\n",
       " '3720620_539',\n",
       " '3720620_540',\n",
       " '3720620_541',\n",
       " '3720620_542',\n",
       " '3720620_543',\n",
       " '3720620_544',\n",
       " '3720620_545',\n",
       " '3720620_546',\n",
       " '3720620_547',\n",
       " '3720620_548',\n",
       " '3720620_549',\n",
       " '3720620_550',\n",
       " '3720620_551',\n",
       " '3720620_552',\n",
       " '3720620_553',\n",
       " '3720620_554',\n",
       " '3720620_555',\n",
       " '3720620_556',\n",
       " '3720620_557',\n",
       " '3720620_558',\n",
       " '3720620_559',\n",
       " '3720620_560',\n",
       " '3720620_561',\n",
       " '3720620_562',\n",
       " '3720620_563',\n",
       " '3720620_564',\n",
       " '3720620_565',\n",
       " '3720620_566',\n",
       " '3720620_567',\n",
       " '3720620_568',\n",
       " '3720620_569',\n",
       " '3720620_570',\n",
       " '3720620_571',\n",
       " '3720620_572',\n",
       " '3720620_573',\n",
       " '3720620_574',\n",
       " '3720620_575',\n",
       " '3720620_576',\n",
       " '3720620_577',\n",
       " '3720620_578',\n",
       " '3720620_579',\n",
       " '3720620_580',\n",
       " '3720620_581',\n",
       " '3720620_582',\n",
       " '3720620_583',\n",
       " '3720620_584',\n",
       " '3720620_585',\n",
       " '3720620_586',\n",
       " '3720620_587',\n",
       " '3720620_588',\n",
       " '3720620_589',\n",
       " '3720620_590',\n",
       " '3720620_591',\n",
       " '3720620_592',\n",
       " '3720620_593',\n",
       " '3720620_594',\n",
       " '3720620_595',\n",
       " '3720620_596',\n",
       " '3720620_597',\n",
       " '3720620_598',\n",
       " '3720620_599',\n",
       " '3720620_600',\n",
       " '3720620_601',\n",
       " '3720620_602',\n",
       " '3720620_603',\n",
       " '3720620_604',\n",
       " '3720620_605',\n",
       " '3720620_606',\n",
       " '3720620_607',\n",
       " '3720620_608',\n",
       " '3720620_609',\n",
       " '3720620_610',\n",
       " '3720620_611',\n",
       " '3720620_612',\n",
       " '3720620_613',\n",
       " '3720620_614',\n",
       " '3720620_615',\n",
       " '3720620_616',\n",
       " '3720620_617',\n",
       " '3720620_618',\n",
       " '3720620_619',\n",
       " '3720620_620',\n",
       " '3720620_621',\n",
       " '3720620_622',\n",
       " '3720620_623',\n",
       " '3720620_624',\n",
       " '3720620_625',\n",
       " '3720620_626',\n",
       " '3720620_627',\n",
       " '3720620_628',\n",
       " '3720620_629',\n",
       " '3720620_630',\n",
       " '3720620_631',\n",
       " '3720620_632',\n",
       " '3720620_633',\n",
       " '3720620_634',\n",
       " '3720620_635',\n",
       " '3720620_636',\n",
       " '3720620_637',\n",
       " '3720620_638',\n",
       " '3720620_639',\n",
       " '3720620_640',\n",
       " '3720620_641',\n",
       " '3720620_642',\n",
       " '3720620_643',\n",
       " '3720620_644',\n",
       " '3720620_645',\n",
       " '3720620_646',\n",
       " '3720620_647',\n",
       " '3720620_648',\n",
       " '3720620_649',\n",
       " '3720620_650',\n",
       " '3720620_651',\n",
       " '3720620_652',\n",
       " '3720620_653',\n",
       " '3720620_654',\n",
       " '3720620_655',\n",
       " '3720620_656',\n",
       " '3720620_657',\n",
       " '3720620_658',\n",
       " '3720620_659',\n",
       " '3720620_660',\n",
       " '3720620_661',\n",
       " '3720620_662',\n",
       " '3720620_663',\n",
       " '3720620_664',\n",
       " '3720620_665',\n",
       " '3720620_666',\n",
       " '3720620_667',\n",
       " '3720620_668',\n",
       " '3720620_669',\n",
       " '3720620_670',\n",
       " '3720620_671',\n",
       " '3720620_672',\n",
       " '3720620_673',\n",
       " '3720620_674',\n",
       " '3720620_675',\n",
       " '3720620_676',\n",
       " '3720620_677',\n",
       " '3720620_678',\n",
       " '3720620_679',\n",
       " '3720620_680',\n",
       " '3720620_681',\n",
       " '3720620_682',\n",
       " '3720620_683',\n",
       " '3720620_684',\n",
       " '3720620_685',\n",
       " '3720620_686',\n",
       " '3720620_687',\n",
       " '3720620_688',\n",
       " '3720620_689',\n",
       " '3720620_690',\n",
       " '3720620_691',\n",
       " '3720620_692',\n",
       " '3720620_693',\n",
       " '3720620_694',\n",
       " '3720620_695',\n",
       " '3720620_696',\n",
       " '3720620_697',\n",
       " '3720620_698',\n",
       " '3720620_699',\n",
       " '3720620_700',\n",
       " '3720620_701',\n",
       " '3720620_702',\n",
       " '3720620_703',\n",
       " '3720620_704',\n",
       " '3720620_705',\n",
       " '3720620_706',\n",
       " '3720620_707',\n",
       " '3720620_708',\n",
       " '3720620_709',\n",
       " '3720620_710',\n",
       " '3720620_711',\n",
       " '3720620_712',\n",
       " '3720620_713',\n",
       " '3720620_714',\n",
       " '3720620_715',\n",
       " '3720620_716',\n",
       " '3720620_717',\n",
       " '3720620_718',\n",
       " '3720620_719',\n",
       " '3720620_720',\n",
       " '3720620_721',\n",
       " '3720620_722',\n",
       " '3720620_723',\n",
       " '3720620_724',\n",
       " '3720620_725',\n",
       " '3720620_726',\n",
       " '3720620_727',\n",
       " '3720620_728',\n",
       " '3720620_729',\n",
       " '3720620_730',\n",
       " '3720620_731',\n",
       " '3720620_732',\n",
       " '3720620_733',\n",
       " '3720620_734',\n",
       " '3720620_735',\n",
       " '3720620_736',\n",
       " '3720620_737',\n",
       " '3720620_738',\n",
       " '3720620_739',\n",
       " '3720620_740',\n",
       " '3720620_741',\n",
       " '3720620_742',\n",
       " '3720620_743',\n",
       " '3720620_744',\n",
       " '3720620_745',\n",
       " '3720620_746',\n",
       " '3720620_747',\n",
       " '3720620_748',\n",
       " '3720620_749',\n",
       " '3720620_750',\n",
       " '3720620_751',\n",
       " '3720620_752',\n",
       " '3720620_753',\n",
       " '3720620_754',\n",
       " '3720620_755',\n",
       " '3720620_756',\n",
       " '3720620_757',\n",
       " '3720620_758',\n",
       " '3720620_759',\n",
       " '3720620_760',\n",
       " '3720620_761',\n",
       " '3720620_762',\n",
       " '3720620_763',\n",
       " '3720620_764',\n",
       " '3720620_765',\n",
       " '3720620_766',\n",
       " '3720620_767',\n",
       " '3720620_768',\n",
       " '3720620_769',\n",
       " '3720620_770',\n",
       " '3720620_771',\n",
       " '3720620_772',\n",
       " '3720620_773',\n",
       " '3720620_774',\n",
       " '3720620_775',\n",
       " '3720620_776',\n",
       " '3720620_777',\n",
       " '3720620_778',\n",
       " '3720620_779',\n",
       " '3720620_780',\n",
       " '3720620_781',\n",
       " '3720620_782',\n",
       " '3720620_783',\n",
       " '3720620_784',\n",
       " '3720620_785',\n",
       " '3720620_786',\n",
       " '3720620_787',\n",
       " '3720620_788',\n",
       " '3720620_789',\n",
       " '3720620_790',\n",
       " '3720620_791',\n",
       " '3720620_792',\n",
       " '3720620_793',\n",
       " '3720620_794',\n",
       " '3720620_795',\n",
       " '3720620_796',\n",
       " '3720620_797',\n",
       " '3720620_798',\n",
       " '3720620_799',\n",
       " '3720620_800',\n",
       " '3720620_801',\n",
       " '3720620_802',\n",
       " '3720620_803',\n",
       " '3720620_804',\n",
       " '3720620_805',\n",
       " '3720620_806',\n",
       " '3720620_807',\n",
       " '3720620_808',\n",
       " '3720620_809',\n",
       " '3720620_810',\n",
       " '3720620_811',\n",
       " '3720620_812',\n",
       " '3720620_813',\n",
       " '3720620_814',\n",
       " '3720620_815',\n",
       " '3720620_816',\n",
       " '3720620_817',\n",
       " '3720620_818',\n",
       " '3720620_819',\n",
       " '3720620_820',\n",
       " '3720620_821',\n",
       " '3720620_822',\n",
       " '3720620_823',\n",
       " '3720620_824',\n",
       " '3720620_825',\n",
       " '3720620_826',\n",
       " '3720620_827',\n",
       " '3720620_828',\n",
       " '3720620_829',\n",
       " '3720620_830',\n",
       " '3720620_831',\n",
       " '3720620_832',\n",
       " '3720620_833',\n",
       " '3720620_834',\n",
       " '3720620_835',\n",
       " '3720620_836',\n",
       " '3720620_837',\n",
       " '3720620_838',\n",
       " '3720620_839',\n",
       " '3720620_840',\n",
       " '3720620_841',\n",
       " '3720620_842',\n",
       " '3720620_843',\n",
       " '3720620_844',\n",
       " '3720620_845',\n",
       " '3720620_846',\n",
       " '3720620_847',\n",
       " '3720620_848',\n",
       " '3720620_849',\n",
       " '3720620_850',\n",
       " '3720620_851',\n",
       " '3720620_852',\n",
       " '3720620_853',\n",
       " '3720620_854',\n",
       " '3720620_855',\n",
       " '3720620_856',\n",
       " '3720620_857',\n",
       " '3720620_858',\n",
       " '3720620_859',\n",
       " '3720620_860',\n",
       " '3720620_861',\n",
       " '3720620_862',\n",
       " '3720620_863',\n",
       " '3720620_864',\n",
       " '3720620_865',\n",
       " '3720620_866',\n",
       " '3720620_867',\n",
       " '3720620_868',\n",
       " '3720620_869',\n",
       " '3720620_870',\n",
       " '3720620_871',\n",
       " '3720620_872',\n",
       " '3720620_873',\n",
       " '3720620_874',\n",
       " '3720620_875',\n",
       " '3720620_876',\n",
       " '3720620_877',\n",
       " '3720620_878',\n",
       " '3720620_879',\n",
       " '3720620_880',\n",
       " '3720620_881',\n",
       " '3720620_882',\n",
       " '3720620_883',\n",
       " '3720620_884',\n",
       " '3720620_885',\n",
       " '3720620_886',\n",
       " '3720620_887',\n",
       " '3720620_888',\n",
       " '3720620_889',\n",
       " '3720620_890',\n",
       " '3720620_891',\n",
       " '3720620_892',\n",
       " '3720620_893',\n",
       " '3720620_894',\n",
       " '3720620_895',\n",
       " '3720620_896',\n",
       " '3720620_897',\n",
       " '3720620_898',\n",
       " '3720620_899',\n",
       " '3720620_900',\n",
       " '3720620_901',\n",
       " '3720620_902',\n",
       " '3720620_903',\n",
       " '3720620_904',\n",
       " '3720620_905',\n",
       " '3720620_906',\n",
       " '3720620_907',\n",
       " '3720620_908',\n",
       " '3720620_909',\n",
       " '3720620_910',\n",
       " '3720620_911',\n",
       " '3720620_912',\n",
       " '3720620_913',\n",
       " '3720620_914',\n",
       " '3720620_915',\n",
       " '3720620_916',\n",
       " '3720620_917',\n",
       " '3720620_918',\n",
       " '3720620_919',\n",
       " '3720620_920',\n",
       " '3720620_921',\n",
       " '3720620_922',\n",
       " '3720620_923',\n",
       " '3720620_924',\n",
       " '3720620_925',\n",
       " '3720620_926',\n",
       " '3720620_927',\n",
       " '3720620_928',\n",
       " '3720620_929',\n",
       " '3720620_930',\n",
       " '3720620_931',\n",
       " '3720620_932',\n",
       " '3720620_933',\n",
       " '3720620_934',\n",
       " '3720620_935',\n",
       " '3720620_936',\n",
       " '3720620_937',\n",
       " '3720620_938',\n",
       " '3720620_939',\n",
       " '3720620_940',\n",
       " '3720620_941',\n",
       " '3720620_942',\n",
       " '3720620_943',\n",
       " '3720620_944',\n",
       " '3720620_945',\n",
       " '3720620_946',\n",
       " '3720620_947',\n",
       " '3720620_948',\n",
       " '3720620_949',\n",
       " '3720620_950',\n",
       " '3720620_951',\n",
       " '3720620_952',\n",
       " '3720620_953',\n",
       " '3720620_954',\n",
       " '3720620_955',\n",
       " '3720620_956',\n",
       " '3720620_957',\n",
       " '3720620_958',\n",
       " '3720620_959',\n",
       " '3720620_960',\n",
       " '3720620_961',\n",
       " '3720620_962',\n",
       " '3720620_963',\n",
       " '3720620_964',\n",
       " '3720620_965',\n",
       " '3720620_966',\n",
       " '3720620_967',\n",
       " '3720620_968',\n",
       " '3720620_969',\n",
       " '3720620_970',\n",
       " '3720620_971',\n",
       " '3720620_972',\n",
       " '3720620_973',\n",
       " '3720620_974',\n",
       " '3720620_975',\n",
       " '3720620_976',\n",
       " '3720620_977',\n",
       " '3720620_978',\n",
       " '3720620_979',\n",
       " '3720620_980',\n",
       " '3720620_981',\n",
       " '3720620_982',\n",
       " '3720620_983',\n",
       " '3720620_984',\n",
       " '3720620_985',\n",
       " '3720620_986',\n",
       " '3720620_987',\n",
       " '3720620_988',\n",
       " '3720620_989',\n",
       " '3720620_990',\n",
       " '3720620_991',\n",
       " '3720620_992',\n",
       " '3720620_993',\n",
       " '3720620_994',\n",
       " '3720620_995',\n",
       " '3720620_996',\n",
       " '3720620_997',\n",
       " '3720620_998',\n",
       " '3720620_999',\n",
       " ...]"
      ]
     },
     "execution_count": 113,
     "metadata": {},
     "output_type": "execute_result"
    }
   ],
   "source": [
    "obs_list"
   ]
  },
  {
   "cell_type": "code",
   "execution_count": null,
   "metadata": {},
   "outputs": [],
   "source": []
  },
  {
   "cell_type": "markdown",
   "metadata": {},
   "source": [
    "### Machine Learning with Dask"
   ]
  }
 ],
 "metadata": {
  "interpreter": {
   "hash": "31f2aee4e71d21fbe5cf8b01ff0e069b9275f58929596ceb00d14d90e3e16cd6"
  },
  "kernelspec": {
   "display_name": "Python 3.6.9 64-bit",
   "language": "python",
   "name": "python3"
  },
  "language_info": {
   "codemirror_mode": {
    "name": "ipython",
    "version": 3
   },
   "file_extension": ".py",
   "mimetype": "text/x-python",
   "name": "python",
   "nbconvert_exporter": "python",
   "pygments_lexer": "ipython3",
   "version": "3.6.15"
  }
 },
 "nbformat": 4,
 "nbformat_minor": 2
}
